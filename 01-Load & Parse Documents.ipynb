{
 "cells": [
  {
   "cell_type": "code",
   "execution_count": 1,
   "metadata": {},
   "outputs": [
    {
     "name": "stdout",
     "output_type": "stream",
     "text": [
      "remove snorkel db...\n",
      "snorkel db removed\n"
     ]
    }
   ],
   "source": [
    "import os\n",
    "print('remove snorkel db...')\n",
    "os.remove(\"snorkel.db\") \n",
    "print('snorkel db removed')"
   ]
  },
  {
   "cell_type": "code",
   "execution_count": 2,
   "metadata": {},
   "outputs": [],
   "source": [
    "%load_ext autoreload\n",
    "%autoreload 2\n",
    "%matplotlib inline\n",
    "\n",
    "from snorkel import SnorkelSession\n",
    "\n",
    "session = SnorkelSession()"
   ]
  },
  {
   "cell_type": "code",
   "execution_count": 3,
   "metadata": {
    "scrolled": false
   },
   "outputs": [
    {
     "name": "stdout",
     "output_type": "stream",
     "text": [
      "Running UDF...\n",
      "WARNING: parsing exception list index out of range in document 14606822\n",
      "Annotations: [['14606822', '74', '82', 'pyridine', 'Chemical', 'MESH:C023666'], ['14606822', '120', '122', 'NH', 'Disease', 'MESH:C536394'], ['14606822', '161', '180', 'ethylXisonicotinate', 'Chemical', 'MESH:C094021'], ['14606822', '262', '268', 'TiOX2X', 'Chemical', 'CHEBI:32234'], ['14606822', '291', '293', 'NH', 'Disease', 'MESH:C536394'], ['14606822', '307', '313', 'TiOX2X', 'Chemical', 'CHEBI:32234'], ['14606822', '493', '505', 'acetonitrile', 'Chemical', 'MESH:C032159'], ['14606822', '520', '537', 'dimethylformamide', 'Chemical', 'MESH:D004126'], ['14606822', '545', '547', 'NH', 'Disease', 'MESH:C536394'], ['14606822', '600', '602', 'NH', 'Disease', 'MESH:C536394'], ['14606822', '616', '622', 'TiOX2X', 'Chemical', 'CHEBI:32234'], ['14606822', '945', '947', 'NH', 'Disease', 'MESH:C536394'], ['14606822', '961', '967', 'TiOX2X', 'Chemical', 'CHEBI:32234'], ['14606822', '1072', '1074', 'NH', 'Disease', 'MESH:C536394'], ['14606822', '1433', '1435', 'NH', 'Disease', 'MESH:C536394'], ['14606822', '1449', '1455', 'TiOX2X', 'Chemical', 'CHEBI:32234'], ['14606822', '1486', '1504', 'tetrabutylammonium', 'Chemical', 'MESH:C009405'], ['14606822', '1525', '1537', 'acetonitrile', 'Chemical', 'MESH:C032159'], ['14606822', '1570', '1576', 'iodide', 'Chemical', 'CHEBI:16382'], ['14606822', '1669', '1673', 'AgCl', 'Chemical', 'CHEBI:30341']]\n",
      "Matched annotations:[0, 1, 2, 3, 5, 6, 7, 8, 9, 10, 11, 12, 13, 14, 15, 16, 17, 18, 19]\n",
      "\n",
      "Missing annotations:\n",
      "['14606822', '291', '293', 'NH', 'Disease', 'MESH:C536394']\n",
      "\n",
      "\n",
      "WARNING: Annotations missed (Count = 1)\n",
      "WARNING: parsing exception list index out of range in document 4332555\n",
      "Annotations: [['4332555', '22', '38', 'ribonucleicXacid', 'Chemical', 'CHEBI:33697'], ['4332555', '53', '69', 'EscherichiaXcoli', 'Species', '562'], ['4332555', '129', '146', 'ribonucleicXacidX', 'Chemical', 'CHEBI:33697']]\n",
      "Matched annotations:[0, 1]\n",
      "\n",
      "Missing annotations:\n",
      "['4332555', '129', '146', 'ribonucleicXacidX', 'Chemical', 'CHEBI:33697']\n",
      "\n",
      "\n",
      "WARNING: Annotations missed (Count = 2)\n",
      "WARNING: parsing exception list index out of range in document 2841098\n",
      "Annotations: [['2841098', '121', '126', 'mouse', 'Species', '10090'], ['2841098', '166', '171', 'mouse', 'Species', '10090'], ['2841098', '328', '363', 'tartrateXresistantXacidXphosphatase', 'Gene', '11433(Tax:10090)'], ['2841098', '328', '336', 'tartrate', 'Chemical', 'MESH:C029768'], ['2841098', '365', '370', 'TRACP', 'Gene', '11433(Tax:10090)'], ['2841098', '499', '504', 'TRACP', 'Gene', '11433(Tax:10090)'], ['2841098', '600', '605', 'TRACP', 'Gene', '11433(Tax:10090)'], ['2841098', '632', '637', 'mouse', 'Species', '10090'], ['2841098', '720', '725', 'Mouse', 'Species', '10090'], ['2841098', '820', '825', 'mouse', 'Species', '10090'], ['2841098', '862', '871', 'IXXsalmon', 'Species', '210139'], ['2841098', '949', '954', 'TRACP', 'Gene', '11433(Tax:10090)'], ['2841098', '1026', '1031', 'TRACP', 'Gene', '11433(Tax:10090)'], ['2841098', '1139', '1144', 'mouse', 'Species', '10090'], ['2841098', '1185', '1190', 'TRACP', 'Gene', '11433(Tax:10090)'], ['2841098', '1330', '1334', 'cAMP', 'Chemical', 'CHEBI:17489'], ['2841098', '1406', '1410', 'cAMP', 'Chemical', 'CHEBI:17489'], ['2841098', '1479', '1484', 'TRACP', 'Gene', '11433(Tax:10090)'], ['2841098', '1609', '1613', 'cAMP', 'Chemical', 'CHEBI:17489'], ['2841098', '1792', '1797', 'TRACP', 'Gene', '11433(Tax:10090)'], ['2841098', '1849', '1854', 'mouse', 'Species', '10090']]\n",
      "Matched annotations:[0, 1, 2, 3, 4, 5, 6, 7, 8, 9, 11, 12, 13, 14, 15, 16, 17, 18, 19, 20]\n",
      "\n",
      "Missing annotations:\n",
      "['2841098', '862', '871', 'IXXsalmon', 'Species', '210139']\n",
      "\n",
      "\n",
      "WARNING: Annotations missed (Count = 3)\n",
      "\n",
      "DONE in 166.79138493537903\n"
     ]
    }
   ],
   "source": [
    "from snorkel import SnorkelSession\n",
    "from snorkel.parser import CorpusParser, Spacy, StanfordCoreNLPServer\n",
    "from pubtator import PubTatorDocPreprocessor, PubTatorTagProcessor, PubTatorParser\n",
    "from time import time\n",
    "\n",
    "parser = \"spacy\"\n",
    "num_procs = 1\n",
    "\n",
    "start_ts = time()\n",
    "#filelist = [\"data/bioconcepts2pubtator_offsets.sample\"]\n",
    "#filelist = [\"data/SimCyp299.pubtator\"]#[\"data/SimRhabdomyo408.pubtator\"]\n",
    "#filelist = ['data/Rhabdomy9257.pubtator']\n",
    "#filelist = ['data/bioconcepts2pubtator_offsets_0.001_sample']\n",
    "#filelist = ['data/Simvastatin10281.pubtator']\n",
    "\n",
    "\n",
    "#filelist = ['data/Simvastatin9738_filtered.pubtator']\n",
    "filelist = ['data/bioconcepts2pubtator_offsets_ksample_0001_filtered']\n",
    "\n",
    "for fp in filelist:\n",
    "    doc_preprocessor = PubTatorDocPreprocessor(fp, annotations=False)\n",
    "    #arser = Spacy() if parser == \"spacy\" else StanfordCoreNLPServer()\n",
    "    parser = PubTatorParser(stop_on_err=False)\n",
    "    corpus_parser = CorpusParser(parser=parser)\n",
    "    corpus_parser.apply(doc_preprocessor, parallelism=num_procs, clear=False)\n",
    "    end_ts = time()\n",
    "\n",
    "    # pubtator_tags = PubTatorTagProcessor()\n",
    "    # for fp in filelist:\n",
    "    #     # load entity tags\n",
    "    #     pubtator_tags.load_data(session, fp)\n",
    "\n",
    "print(\"\\nDONE in {}\".format((time() - start_ts)))"
   ]
  },
  {
   "cell_type": "code",
   "execution_count": 5,
   "metadata": {},
   "outputs": [
    {
     "name": "stdout",
     "output_type": "stream",
     "text": [
      "Documents: 9645\n",
      "Sentences: 83112\n"
     ]
    }
   ],
   "source": [
    "from snorkel.models import Document, Sentence\n",
    "\n",
    "print(\"Documents:\", session.query(Document).count())\n",
    "print(\"Sentences:\", session.query(Sentence).count())"
   ]
  },
  {
   "cell_type": "code",
   "execution_count": null,
   "metadata": {},
   "outputs": [],
   "source": []
  },
  {
   "cell_type": "code",
   "execution_count": null,
   "metadata": {},
   "outputs": [],
   "source": []
  },
  {
   "cell_type": "code",
   "execution_count": null,
   "metadata": {},
   "outputs": [],
   "source": []
  },
  {
   "cell_type": "code",
   "execution_count": null,
   "metadata": {},
   "outputs": [],
   "source": []
  },
  {
   "cell_type": "code",
   "execution_count": null,
   "metadata": {},
   "outputs": [],
   "source": []
  }
 ],
 "metadata": {
  "kernelspec": {
   "display_name": "Python (snorkel)",
   "language": "python",
   "name": "snorkel"
  },
  "language_info": {
   "codemirror_mode": {
    "name": "ipython",
    "version": 3
   },
   "file_extension": ".py",
   "mimetype": "text/x-python",
   "name": "python",
   "nbconvert_exporter": "python",
   "pygments_lexer": "ipython3",
   "version": "3.6.7"
  }
 },
 "nbformat": 4,
 "nbformat_minor": 2
}
