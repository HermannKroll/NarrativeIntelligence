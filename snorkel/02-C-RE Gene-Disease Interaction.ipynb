{
 "cells": [
  {
   "cell_type": "code",
   "execution_count": null,
   "metadata": {},
   "outputs": [],
   "source": [
    "# should process a grid search for lstm?\n",
    "do_grid_search = False"
   ]
  },
  {
   "cell_type": "code",
   "execution_count": null,
   "metadata": {},
   "outputs": [],
   "source": [
    "%load_ext autoreload\n",
    "%autoreload 2\n",
    "%matplotlib inline\n",
    "\n",
    "from snorkel import SnorkelSession\n",
    "\n",
    "session = SnorkelSession()"
   ]
  },
  {
   "cell_type": "code",
   "execution_count": null,
   "metadata": {},
   "outputs": [],
   "source": [
    "from ksnorkel import KSUtils\n",
    "\n",
    "train_sent, dev_sent, test_sent = KSUtils.split_sentences(session, split=[0.8, 0.1, 0.1], seed=12345)"
   ]
  },
  {
   "cell_type": "code",
   "execution_count": null,
   "metadata": {},
   "outputs": [],
   "source": [
    "from snorkel.models import Candidate, candidate_subclass\n",
    "from snorkel.candidates import PretaggedCandidateExtractor\n",
    "\n",
    "GeneDiseaseInteraction = candidate_subclass('GeneDiseaseInteraction', ['gene', 'disease'])\n",
    "candidate_extractor = PretaggedCandidateExtractor(GeneDiseaseInteraction, ['Gene', 'Disease'])\n",
    "\n",
    "for k, sents in enumerate([train_sent,dev_sent, test_sent]):\n",
    "    candidate_extractor.apply(sents, split=k, clear=True)\n",
    "    print(\"Number of candidates:\", session.query(GeneDiseaseInteraction).filter(GeneDiseaseInteraction.split == k).count())"
   ]
  },
  {
   "cell_type": "code",
   "execution_count": null,
   "metadata": {},
   "outputs": [],
   "source": [
    "import gzip\n",
    "import re\n",
    "\n",
    "ctd_gene_disease_inter = set()\n",
    "i = 0\n",
    "with gzip.open('data/CTD_genes_diseases.tsv.gz','r') as f:\n",
    "    for l in f:\n",
    "        line = str(l).replace('b\\'', '').replace('\\\\n\\'', '').replace('\\\\r','')\n",
    "        # skip comments\n",
    "        if line.startswith('#'):\n",
    "            continue\n",
    "        #print(line)\n",
    "        components = line.split('\\\\t')    \n",
    "        \n",
    "        # add MESH:\n",
    "        if not components[3].startswith('MESH:'):\n",
    "            components[3] = \"MESH:\" + components[1]\n",
    "        \n",
    "        #print(components)\n",
    "        gene = components[1]\n",
    "        disease = components[3]\n",
    "        key = frozenset((gene, disease))\n",
    "        #print(key)\n",
    "        ctd_gene_disease_inter.add(key)\n",
    "        i += 1\n",
    "\n",
    "\n",
    "    \n",
    "print('{} chemical-gene assocations read from ChG-CTD_chem_gene_ixns'.format(len(ctd_gene_disease_inter)))\n",
    "#240349"
   ]
  },
  {
   "cell_type": "code",
   "execution_count": null,
   "metadata": {},
   "outputs": [],
   "source": [
    "def cand_in_gene_disease_interactions(c):\n",
    "    key = frozenset((c.gene_cid, c.disease_cid))\n",
    "    if key in ctd_gene_disease_inter:\n",
    "    #    print(key)\n",
    "        return 1\n",
    "    return -1"
   ]
  },
  {
   "cell_type": "code",
   "execution_count": null,
   "metadata": {},
   "outputs": [],
   "source": [
    "from ksnorkel import KSUtils\n",
    "\n",
    "KSUtils.add_gold_labels_for_candidates(session, GeneDiseaseInteraction, cand_in_gene_disease_interactions)"
   ]
  },
  {
   "cell_type": "code",
   "execution_count": null,
   "metadata": {},
   "outputs": [],
   "source": [
    "import re\n",
    "\n",
    "def LF_GD_in_CTD_chem_gene(c):\n",
    "    if cand_in_gene_disease_interactions(c) == 1:\n",
    "        return 1\n",
    "    else:\n",
    "        return -1\n",
    "\n",
    "\n",
    "LFs_GD = [\n",
    "    LF_GD_in_CTD_chem_gene\n",
    "]"
   ]
  },
  {
   "cell_type": "code",
   "execution_count": null,
   "metadata": {},
   "outputs": [],
   "source": [
    "from snorkel.annotations import LabelAnnotator\n",
    "labeler = LabelAnnotator(lfs=LFs_GD)\n",
    "%time L_train = labeler.apply(lfs=LFs_GD, parallelism=1)\n",
    "L_train\n",
    "\n",
    "L_train.lf_stats(session)"
   ]
  },
  {
   "cell_type": "code",
   "execution_count": null,
   "metadata": {},
   "outputs": [],
   "source": [
    "from snorkel.annotations import load_gold_labels\n",
    "\n",
    "L_dev = labeler.apply_existing(split=1)\n",
    "L_test = labeler.apply_existing(split=2)\n",
    "L_gold_dev = load_gold_labels(session, annotator_name='gold',split=1)\n",
    "L_gold_test = load_gold_labels(session, annotator_name='gold', split=2)"
   ]
  },
  {
   "cell_type": "code",
   "execution_count": null,
   "metadata": {},
   "outputs": [],
   "source": [
    "from snorkel.learning import GenerativeModel\n",
    "from snorkel.learning import RandomSearch\n",
    "from snorkel.learning.structure import DependencySelector\n",
    "\n",
    "\n",
    "MAX_DEPS = 5\n",
    "\n",
    "ds = DependencySelector()\n",
    "deps = ds.select(L_train, threshold=0.1)\n",
    "deps = set(list(deps)[0:min(len(deps), MAX_DEPS)])\n",
    "\n",
    "print(\"Using {} dependencies\".format(len(deps)))\n",
    "\n",
    "\n",
    "\n",
    "# use random search to optimize the generative model\n",
    "param_grid = {\n",
    "    'step_size' : [1e-3, 1e-4, 1e-5, 1e-6],\n",
    "    'decay'     : [0.9, 0.95],\n",
    "    'epochs'    : [50,100],\n",
    "    'reg_param' : [1e-3],\n",
    "}\n",
    "\n",
    "model_class_params = {'lf_propensity' : False }#, 'deps': deps}\n",
    "\n",
    "searcher = RandomSearch(GenerativeModel, param_grid, L_train, n=5, model_class_params=model_class_params)\n",
    "%time gen_model, run_stats = searcher.fit(L_dev, L_gold_dev) #, deps=deps)\n",
    "run_stats\n",
    "\n",
    "train_marginals = gen_model.marginals(L_train)"
   ]
  },
  {
   "cell_type": "code",
   "execution_count": null,
   "metadata": {},
   "outputs": [],
   "source": [
    "import matplotlib.pyplot as plt\n",
    "plt.hist(train_marginals, bins=20)\n",
    "plt.show()"
   ]
  },
  {
   "cell_type": "code",
   "execution_count": null,
   "metadata": {},
   "outputs": [],
   "source": [
    "from snorkel.annotations import save_marginals\n",
    "\n",
    "dev_marginals = gen_model.marginals(L_dev)\n",
    "_, _, _, _ = gen_model.error_analysis(session, L_dev, L_gold_dev)\n",
    "\n",
    "%time save_marginals(session, L_train, train_marginals)"
   ]
  },
  {
   "cell_type": "code",
   "execution_count": null,
   "metadata": {},
   "outputs": [],
   "source": [
    "tp, fp, tn, fn = gen_model.error_analysis(session, L_test, L_gold_test)"
   ]
  },
  {
   "cell_type": "code",
   "execution_count": null,
   "metadata": {},
   "outputs": [],
   "source": [
    "print(\"Load all GeneDiseaseInteraction candidates from db...\")\n",
    "train_cands = session.query(GeneDiseaseInteraction).filter(GeneDiseaseInteraction.split == 0).order_by(GeneDiseaseInteraction.id).all()\n",
    "dev_cands   = session.query(GeneDiseaseInteraction).filter(GeneDiseaseInteraction.split == 1).order_by(GeneDiseaseInteraction.id).all()\n",
    "test_cands  = session.query(GeneDiseaseInteraction).filter(GeneDiseaseInteraction.split == 2).order_by(GeneDiseaseInteraction.id).all()\n",
    "\n",
    "\n",
    "all_cands = []\n",
    "all_cands.extend(train_cands)\n",
    "all_cands.extend(dev_cands)\n",
    "all_cands.extend(test_cands)\n",
    "\n",
    "\n",
    "print(\"{} {} {}\".format(len(train_cands), len(dev_cands), len(test_cands)))\n",
    "print(\"Amount of all candidates: {}\".format(len(all_cands)))"
   ]
  },
  {
   "cell_type": "code",
   "execution_count": null,
   "metadata": {},
   "outputs": [],
   "source": [
    "from snorkel.learning.pytorch import LSTM\n",
    "from snorkel.annotations import load_gold_labels\n",
    "\n",
    "#train_kwargs = {\n",
    "#    'lr':            0.01,\n",
    "#    'embedding_dim': 75,\n",
    "#    'hidden_dim':    75,\n",
    "#    'n_epochs':      100,\n",
    "#    'dropout':       0.25,\n",
    "#    'seed':          1701\n",
    "#}\n",
    "\n",
    "if not do_grid_search:\n",
    "    # Best configuration\n",
    "    train_kwargs = {\n",
    "        'lr':            0.0010,\n",
    "        'embedding_dim': 125,\n",
    "        'hidden_dim':    100,\n",
    "        'n_epochs':      100,\n",
    "        'dropout':       0.50,\n",
    "        'rebalance':     0.0,\n",
    "        'seed':          1701\n",
    "    }\n",
    "\n",
    "    lstm = LSTM(n_threads=10)\n",
    "    lstm.train(train_cands, train_marginals, X_dev=dev_cands, Y_dev=L_gold_dev, **train_kwargs)\n",
    "\n",
    "    p, r, f1 = lstm.score(test_cands, L_gold_test)\n",
    "    print(\"Prec: {0:.3f}, Recall: {1:.3f}, F1 Score: {2:.3f}\".format(p, r, f1))"
   ]
  },
  {
   "cell_type": "code",
   "execution_count": null,
   "metadata": {},
   "outputs": [],
   "source": [
    "#from snorkel.learning import RandomSearch\n",
    "#from snorkel.learning.pytorch import LSTM\n",
    "\n",
    "if do_grid_search:\n",
    "    seed = 12345\n",
    "    num_model_search = 25\n",
    "\n",
    "    # search over this parameter grid\n",
    "    param_grid = {}\n",
    "    param_grid['batch_size'] = [64, 128]\n",
    "    param_grid['lr']         = [1e-4, 1e-3, 1e-2]\n",
    "    param_grid['rebalance']  = [0.0,0.25, 0.5]\n",
    "    param_grid['embedding_dim'] = [75, 100, 125]\n",
    "    param_grid['hidden_dim'] = [50, 100, 150]\n",
    "    param_grid['dropout'] = [0, 0.25, 0.5]\n",
    "\n",
    "    model_class_params = {\n",
    "        'n_threads':1\n",
    "    }\n",
    "\n",
    "\n",
    "    model_hyperparams = {\n",
    "        'n_epochs': 100,\n",
    "        'print_freq': 25,\n",
    "        'dev_ckpt_delay': 0.5,\n",
    "        'X_dev': dev_cands,\n",
    "        'Y_dev': L_gold_dev,\n",
    "    }\n",
    "\n",
    "\n",
    "    searcher = RandomSearch(LSTM, param_grid, train_cands, train_marginals,\n",
    "                            n=num_model_search, seed=seed,\n",
    "                            model_class_params=model_class_params,\n",
    "                            model_hyperparams=model_hyperparams)\n",
    "\n",
    "    print(\"Discriminitive Model Parameter Space (seed={}):\".format(seed))\n",
    "    for i, params in enumerate(searcher.search_space()):\n",
    "        print(\"{} {}\".format(i, params))\n",
    "\n",
    "    disc_model, run_stats = searcher.fit(X_valid=dev_cands, Y_valid=L_gold_dev, n_threads=1)\n",
    "    lstm = disc_model"
   ]
  },
  {
   "cell_type": "code",
   "execution_count": null,
   "metadata": {},
   "outputs": [],
   "source": [
    "if do_grid_search:\n",
    "    run_stats"
   ]
  },
  {
   "cell_type": "code",
   "execution_count": null,
   "metadata": {},
   "outputs": [],
   "source": [
    "p, r, f1 = lstm.score(test_cands, L_gold_test)\n",
    "print(\"Prec: {0:.3f}, Recall: {1:.3f}, F1 Score: {2:.3f}\".format(p, r, f1))"
   ]
  },
  {
   "cell_type": "code",
   "execution_count": null,
   "metadata": {},
   "outputs": [],
   "source": [
    "tp, fp, tn, fn = lstm.error_analysis(session, test_cands, L_gold_test)"
   ]
  },
  {
   "cell_type": "code",
   "execution_count": null,
   "metadata": {},
   "outputs": [],
   "source": [
    "lstm.save_marginals(session, all_cands)"
   ]
  },
  {
   "cell_type": "code",
   "execution_count": null,
   "metadata": {},
   "outputs": [],
   "source": [
    "from snorkel.models.candidate import Marginal\n",
    "from snorkel.models import Document, Sentence\n",
    "\n",
    "\n",
    "print(\"Storing candidate labels into result file...\")\n",
    "amount_of_candidates = session.query(Candidate).count()\n",
    "print(\"Amount of candidates: {}\".format(amount_of_candidates))\n",
    "\n",
    "all_sents = []\n",
    "all_sents.extend(train_sent)\n",
    "all_sents.extend(dev_sent)\n",
    "all_sents.extend(test_sent)\n",
    "\n",
    "header_str = '{}\\t{}\\t{}\\t{}\\t{}\\t{}\\t{}'.format('document_id', 'sentence_id', 'cand_id','gene_cid', 'gene_span', 'disease_cid', 'disease_span')\n",
    "%time KSUtils.save_binary_relation_as_tsv('results/chemical_gene_interaction.tsv', session, all_cands, all_sents, header_str, 'gene_cid', 'disease_cid')"
   ]
  },
  {
   "cell_type": "code",
   "execution_count": null,
   "metadata": {},
   "outputs": [],
   "source": [
    "lstm.save(\"gene_disease_interaction.lstm\")"
   ]
  }
 ],
 "metadata": {
  "kernelspec": {
   "display_name": "Python (snorkel)",
   "language": "python",
   "name": "snorkel"
  },
  "language_info": {
   "codemirror_mode": {
    "name": "ipython",
    "version": 3
   },
   "file_extension": ".py",
   "mimetype": "text/x-python",
   "name": "python",
   "nbconvert_exporter": "python",
   "pygments_lexer": "ipython3",
   "version": "3.6.7"
  }
 },
 "nbformat": 4,
 "nbformat_minor": 2
}
