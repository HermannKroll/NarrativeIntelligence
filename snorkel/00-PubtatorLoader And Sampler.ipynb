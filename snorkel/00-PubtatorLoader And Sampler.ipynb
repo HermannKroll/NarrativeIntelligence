{
 "cells": [
  {
   "cell_type": "code",
   "execution_count": null,
   "metadata": {},
   "outputs": [],
   "source": [
    "import kni \n",
    "\n",
    "result = kni.pubtator_crawl_pubtator_documents_with_query('Tafamidis', 'kroll@ifis.cs.tu-bs.de', 'krolltool')\n",
    "\n",
    "with open('data/Tafamidis145.pubtator', 'w') as f:\n",
    "\tf.write(result)\n",
    " \n"
   ]
  },
  {
   "cell_type": "code",
   "execution_count": null,
   "metadata": {},
   "outputs": [],
   "source": [
    "import kni \n",
    "\n",
    "pmids = kni.pubmed_crawl_pmids('Simvastatin', 'kroll@ifis.cs.tu-bs.de', 'krolltool', 'pmc', retmax=30000)\n",
    "kni.store_pmids_to_file(pmids, 'data/Simvastatin_ids_22975.txt', add_pmc_prefix=True)"
   ]
  },
  {
   "cell_type": "code",
   "execution_count": null,
   "metadata": {},
   "outputs": [],
   "source": [
    "print(len(pmids))"
   ]
  },
  {
   "cell_type": "code",
   "execution_count": null,
   "metadata": {},
   "outputs": [],
   "source": [
    "from kni import pubtator\n",
    "\n",
    "\n",
    "sample_rate = 1\n",
    "debug = False\n",
    "\n",
    "#pubtator.sample_pubtator_file('data/test_cross_sentence.pubtator', 'data/test_cross_sentence_n.pubtator', sample_rate, debug)\n",
    "#pubtator.sample_pubtator_file('data/test.pub', 'data/test_fi.pub', sample_rate, debug)\n",
    "#pubtator.sample_pubtator_file('data/pmc_sim_cyp_622.pubtator', 'data/pmc_sim_cyp_100_filtered.pubtator', sample_rate, debug)\n",
    "#pubtator.sample_pubtator_file('data/Simvastatin10281.pubtator', 'data/Simvastatin9734_filtered.pubtator', sample_rate, debug)\n",
    "\n",
    "\n",
    "pubtator.sample_pubtator_file('data/Simvastatin9734_filtered.pubtator', 'data/Simvastatin9734_filtered_new.pubtator', sample_rate, debug)\n",
    "\n"
   ]
  }
 ],
 "metadata": {
  "kernelspec": {
   "display_name": "Python (snorkel)",
   "language": "python",
   "name": "snorkel"
  },
  "language_info": {
   "codemirror_mode": {
    "name": "ipython",
    "version": 3
   },
   "file_extension": ".py",
   "mimetype": "text/x-python",
   "name": "python",
   "nbconvert_exporter": "python",
   "pygments_lexer": "ipython3",
   "version": "3.6.7"
  }
 },
 "nbformat": 4,
 "nbformat_minor": 2
}
