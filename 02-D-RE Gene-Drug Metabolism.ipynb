{
 "cells": [
  {
   "cell_type": "code",
   "execution_count": 1,
   "metadata": {},
   "outputs": [],
   "source": [
    "import os\n",
    "\n",
    "os.environ['SNORKELDB'] = \"postgresql://localhost:5432/snorkel?user=snorkel&password=snorkel12345\""
   ]
  },
  {
   "cell_type": "code",
   "execution_count": 2,
   "metadata": {},
   "outputs": [],
   "source": [
    "%load_ext autoreload\n",
    "%autoreload 2\n",
    "%matplotlib inline\n",
    "\n",
    "from snorkel import SnorkelSession\n",
    "\n",
    "session = SnorkelSession()"
   ]
  },
  {
   "cell_type": "code",
   "execution_count": 3,
   "metadata": {},
   "outputs": [
    {
     "name": "stdout",
     "output_type": "stream",
     "text": [
      "Amount of docs: 9738\n",
      "Document splitted: 3246 train, 3246 dev and 3246 test\n",
      "Amount of sentences: 33895 train, 34340 dev and 34326 test\n"
     ]
    }
   ],
   "source": [
    "from ksnorkel import KSUtils\n",
    "\n",
    "train_sent, dev_sent, test_sent = KSUtils.split_sentences(session)\n",
    "print(\"Amount of sentences: {} train, {} dev and {} test\".format(len(train_sent), len(dev_sent), len(test_sent)))"
   ]
  },
  {
   "cell_type": "code",
   "execution_count": 4,
   "metadata": {},
   "outputs": [
    {
     "name": "stdout",
     "output_type": "stream",
     "text": [
      "Clearing existing...\n"
     ]
    },
    {
     "name": "stderr",
     "output_type": "stream",
     "text": [
      "  0%|          | 55/33895 [00:00<01:02, 537.61it/s]"
     ]
    },
    {
     "name": "stdout",
     "output_type": "stream",
     "text": [
      "Running UDF...\n"
     ]
    },
    {
     "name": "stderr",
     "output_type": "stream",
     "text": [
      "100%|██████████| 33895/33895 [01:03<00:00, 535.18it/s] \n"
     ]
    },
    {
     "name": "stdout",
     "output_type": "stream",
     "text": [
      "Number of candidates: 17935\n",
      "Clearing existing...\n"
     ]
    },
    {
     "name": "stderr",
     "output_type": "stream",
     "text": [
      "  0%|          | 32/34340 [00:00<01:48, 316.60it/s]"
     ]
    },
    {
     "name": "stdout",
     "output_type": "stream",
     "text": [
      "Running UDF...\n"
     ]
    },
    {
     "name": "stderr",
     "output_type": "stream",
     "text": [
      "100%|██████████| 34340/34340 [01:12<00:00, 476.61it/s] \n"
     ]
    },
    {
     "name": "stdout",
     "output_type": "stream",
     "text": [
      "Number of candidates: 16965\n",
      "Clearing existing...\n"
     ]
    },
    {
     "name": "stderr",
     "output_type": "stream",
     "text": [
      "  0%|          | 32/34326 [00:00<01:48, 316.76it/s]"
     ]
    },
    {
     "name": "stdout",
     "output_type": "stream",
     "text": [
      "Running UDF...\n"
     ]
    },
    {
     "name": "stderr",
     "output_type": "stream",
     "text": [
      "100%|██████████| 34326/34326 [01:01<00:00, 554.48it/s] "
     ]
    },
    {
     "name": "stdout",
     "output_type": "stream",
     "text": [
      "Number of candidates: 17138\n"
     ]
    },
    {
     "name": "stderr",
     "output_type": "stream",
     "text": [
      "\n"
     ]
    }
   ],
   "source": [
    "from snorkel.models import Candidate, candidate_subclass\n",
    "from snorkel.candidates import PretaggedCandidateExtractor\n",
    "\n",
    "\n",
    "GeneChemicalMetabolism = candidate_subclass('GeneChemicalMetabolism', ['gene', 'chemical'])\n",
    "candidate_gene_chemical_metabolism_extractor = PretaggedCandidateExtractor(GeneChemicalMetabolism, ['Gene', 'Chemical'])\n",
    "\n",
    "for k, sents in enumerate([train_sent, dev_sent, test_sent]):\n",
    "    candidate_gene_chemical_metabolism_extractor.apply(sents, split=k, clear=True)\n",
    "    print(\"Number of candidates:\", session.query(GeneChemicalMetabolism).filter(GeneChemicalMetabolism.split == k).count())"
   ]
  },
  {
   "cell_type": "code",
   "execution_count": 5,
   "metadata": {},
   "outputs": [
    {
     "name": "stdout",
     "output_type": "stream",
     "text": [
      "1042116 chemical-gene assocations read from ChG-CTD_chem_gene_ixns\n",
      "6085 chemical-gene metabolisation read from ChG-CTD_chem_gene_ixns\n"
     ]
    }
   ],
   "source": [
    "import gzip\n",
    "\n",
    "ctd_chem_gene_alternative_interaction = set()\n",
    "ctd_chem_gene_meta = set()\n",
    "with gzip.open('data/CTD_chem_gene_ixns.tsv.gz','r') as f:\n",
    "    for l in f:\n",
    "        line = str(l).replace('b\\'', '').replace('\\\\n\\'', '').replace('\\\\r','')\n",
    "        # skip comments\n",
    "        if line.startswith('#'):\n",
    "            continue\n",
    "        #print(line)\n",
    "        components = line.split('\\\\t')    \n",
    "        # add MESH:\n",
    "        if not components[1].startswith('MESH:'):\n",
    "            components[1] = \"MESH:\" + components[1]\n",
    "            \n",
    "                \n",
    "        chemical = components[1]\n",
    "        gene = components[4]\n",
    "        key = frozenset((chemical, gene))\n",
    "                  \n",
    "        desc = components[8].lower()\n",
    "        if 'metabol' not in desc:\n",
    "            ctd_chem_gene_alternative_interaction.add(key)\n",
    "            continue\n",
    "            \n",
    "        descTyp = components[9]\n",
    "        if 'increases' not in descTyp and 'affects' not in descTyp:\n",
    "            ctd_chem_gene_alternative_interaction.add(key)\n",
    "            continue\n",
    "        \n",
    "        #che_name = components[0].replace('b\\\"','').replace('(','\\(').replace(')','\\)').lower()\n",
    "        #regex = '{}[^\\]\\[]+meta'.format(che_name)\n",
    "        #regex2 = '{}[^\\]\\[]+decreased activity'.format(che_name)\n",
    "        #if re.search(regex, desc) == None and re.search(regex2, desc) == None:\n",
    "            #print(components[0])\n",
    "            #print(desc)\n",
    "            #print()\n",
    "           # continue\n",
    "\n",
    "        ctd_chem_gene_meta.add(key)\n",
    "\n",
    "print('{} chemical-gene assocations read from ChG-CTD_chem_gene_ixns'.format(len(ctd_chem_gene_alternative_interaction)))\n",
    "print('{} chemical-gene metabolisation read from ChG-CTD_chem_gene_ixns'.format(len(ctd_chem_gene_meta)))\n",
    "\n",
    "def cand_in_chemical_gene_alternative_interaction(c):\n",
    "    key = frozenset((c.chemical_cid, c.gene_cid))\n",
    "    if key in ctd_chem_gene_alternative_interaction:\n",
    "        return 1\n",
    "    return -1\n",
    "\n",
    "def cand_in_chemical_gene_metabolised(c):\n",
    "    key = frozenset((c.chemical_cid, c.gene_cid))\n",
    "    if key in ctd_chem_gene_meta:\n",
    "        return 1\n",
    "    return -1"
   ]
  },
  {
   "cell_type": "code",
   "execution_count": 6,
   "metadata": {},
   "outputs": [
    {
     "name": "stdout",
     "output_type": "stream",
     "text": [
      "Clearing existing gold labels...\n",
      "Adding gold labels to training candidates...\n",
      "Labeld 727 positive and 17208 negative samples in train\n",
      "Adding gold labels to develop candidates...\n",
      "Labeld 820 positive and 16145 negative samples in dev\n",
      "Adding gold labels to test candidates...\n",
      "Labeld 558 positive and 16580 negative samples in test\n",
      "Finished - commiting to database...\n",
      "Commit complete!\n",
      "Labeld 2105 positive and 49933 negative samples\n"
     ]
    }
   ],
   "source": [
    "from ksnorkel import KSUtils\n",
    "\n",
    "KSUtils.add_gold_labels_for_candidates(session, GeneChemicalMetabolism, cand_in_chemical_gene_metabolised)"
   ]
  },
  {
   "cell_type": "code",
   "execution_count": null,
   "metadata": {},
   "outputs": [],
   "source": [
    "def LF_in_CTD_chem_gene(c):\n",
    "    return cand_in_chemical_gene_interactions(c) "
   ]
  },
  {
   "cell_type": "code",
   "execution_count": 31,
   "metadata": {},
   "outputs": [],
   "source": [
    "import re\n",
    "from snorkel.lf_helpers import (\n",
    "    get_tagged_text,\n",
    "    rule_regex_search_tagged_text,\n",
    "    rule_regex_search_btw_AB,\n",
    "    rule_regex_search_btw_BA,\n",
    "    rule_regex_search_before_A,\n",
    "    rule_regex_search_before_B\n",
    ")\n",
    "\n",
    "\n",
    "\n",
    "\n",
    "# List to parenthetical\n",
    "def ltp(x):\n",
    "    return '(' + '|'.join(x) + ')'\n",
    "\n",
    "\n",
    "metabolisation_samples = ['metabolising', 'metabolism', 'metabolisation', 'metabolization', \n",
    "                          'increased activity', 'metabolite', 'stimulation']\n",
    "\n",
    "def LF_GC_AB_metabolisation_after_AB(c):\n",
    "    return 1 if (re.search(r'{{A}}.{0,100}' + '{{B}}.{0,100}' + ltp(metabolisation_samples) , get_tagged_text(c), re.I) or\n",
    "                re.search(r'{{B}}.{0,100}' + '{{A}}.{0,100}' +ltp(metabolisation_samples) , get_tagged_text(c), re.I)) else 0\n",
    "\n",
    "def LF_GC_metabolisation_before_AB(c):\n",
    "    return 1 if (rule_regex_search_before_A(c,  ltp(metabolisation_samples) + '.{0,100}', 1) and\n",
    "                  rule_regex_search_before_B(c, ltp(metabolisation_samples) + '.{0,100}', 1)) else 0\n",
    "\n",
    "\n",
    "\n",
    "def LF_CG_A_metabolisation_B_far(c):\n",
    "    return rule_regex_search_btw_AB(c, '.{100,500}' + ltp(metabolisation_samples) + '.{100,500}', -1) \n",
    "\n",
    "def LF_GC_B_metabolisation_A_far(c):\n",
    "    return rule_regex_search_btw_BA(c, '.{100,500}' + ltp(metabolisation_samples) + '.{100,500}', -1)\n",
    "\n",
    "def LF_GC_A_metabolisation_B(c):\n",
    "    return rule_regex_search_btw_AB(c, '.{0,100}' + ltp(metabolisation_samples) + '.{0,100}', 1) \n",
    "\n",
    "def LF_GC_B_metabolisation_A(c):\n",
    "    return rule_regex_search_btw_BA(c, '.{0,100}' + ltp(metabolisation_samples) + '.{0,100}', 1)\n",
    "\n",
    "def LG_GC_metabolisation_before_B_near(c):\n",
    "    return rule_regex_search_before_B(c, ltp(metabolisation_samples) + '.{0,100}', 1)\n",
    " \n",
    "def LG_GC_metabolisation_before_B_far(c):\n",
    "    return rule_regex_search_before_B(c, ltp(metabolisation_samples) + '.{100,2000}', -1)\n",
    "\n",
    "\n",
    "\n",
    "\n",
    "metabol_samples = ['metabol', 'increase', 'stimulate', 'stimulating', 'induce', 'activate', 'potentiate']\n",
    "\n",
    "\n",
    "def LF_GC_A_metabol_B_in_sent(c):\n",
    "    return rule_regex_search_btw_AB(c, '.{0,100}' + ltp(metabol_samples) + '.{0,100}', 1) \n",
    "\n",
    "def LF_GC_B_metabol_A_in_sent(c):\n",
    "    return rule_regex_search_btw_AB(c, '.{0,100}' + ltp(metabol_samples) + '.{0,100}', 1) \n",
    "\n",
    "\n",
    "def LF_GC_B_metabolised_A(c):\n",
    "    return rule_regex_search_btw_BA(c, '.{0,100}' + ltp(metabol_samples) + '.{0,100}', 1) \n",
    "\n",
    "\n",
    "\n",
    "not_samples = ['no', 'not']\n",
    "\n",
    "def LF_GC_A_not_metabol_B(c):\n",
    "    return rule_regex_search_btw_AB(c, '.{0,100}' + ltp(not_samples) + '.{0,100}' + ltp(metabol_samples) + '.{0,100}', -1) \n",
    "\n",
    "\n",
    "def LF_GC_B_not_metabolised_A(c):\n",
    "    return rule_regex_search_btw_BA(c, '.{0,100}' + ltp(not_samples) + '.{0,100}' + ltp(metabol_samples) + '.{0,100}', -1) \n",
    "\n",
    "\n",
    "meta_all_words = []\n",
    "meta_all_words.extend(metabol_samples)\n",
    "meta_all_words.extend(metabolisation_samples)\n",
    "     \n",
    "def LF_GC_no_metabol(c):\n",
    "    return -1 if not re.search(r'' + ltp(meta_all_words)  , get_tagged_text(c), re.I) else 0\n",
    "\n",
    "def LF_GC_metabol_in_sent(c):\n",
    "    return 1 if re.search(r'' + ltp(meta_all_words), get_tagged_text(c), re.I) else 0\n",
    "\n",
    "\n",
    "\n",
    "inhibition_samples = [\"inhibitor\", \"inhibition\", \"auto-inhibition\", 'inhibitory', 'suppression']\n",
    "\n",
    "\n",
    "def LF_GC_AB_before_inhibition(c):\n",
    "    return -1 if (re.search(r'{{A}}.{0,100}' + '{{B}}.{0,100}' + 'inhibition' , get_tagged_text(c), re.I) or\n",
    "                re.search(r'{{B}}.{0,100}' + '{{A}}.{0,100}' + 'inhibition' , get_tagged_text(c), re.I)) else 0\n",
    "\n",
    "\n",
    "def LF_GC_A_supressive_effect_B(c):\n",
    "    return -1 if  re.search(r'{{A}}.{0,100} supressive'+ '.{0,100} effect .{0,100}' + '{{A}}' , get_tagged_text(c), re.I) else 0\n",
    "\n",
    "\n",
    "def LF_GC_AB_after_inhibition(c):\n",
    "    return -1 if (rule_regex_search_before_A(c,  ltp(inhibition_samples) + '.{0,100}', 1) and\n",
    "                  rule_regex_search_before_B(c, ltp(inhibition_samples) + '.{0,100}', 1)) else 0\n",
    "\n",
    "def LF_GC_A_inhibition_B(c):\n",
    "    return rule_regex_search_btw_AB(c, '.{0,100}' + ltp(inhibition_samples) + '.{0,100}', -1) \n",
    "\n",
    "def LF_GC_B_inhibition_A(c):\n",
    "    return rule_regex_search_btw_BA(c, '.{0,100}' + ltp(inhibition_samples) + '.{0,100}', -1)\n",
    "\n",
    "def LG_GC_inhibition_before_B_near(c):\n",
    "    return rule_regex_search_before_B(c, ltp(inhibition_samples) + '.{0,100}', -1)\n",
    " \n",
    "\n",
    "\n",
    "inhibits_samples = [\"inhibit\", 'decrease', 'degrees', 'suppress', 'alleviate', 'reduce']\n",
    "\n",
    "def LF_GC_A_inhibitis_B(c):\n",
    "    return rule_regex_search_btw_AB(c, '.{0,100}' + ltp(inhibits_samples) + '.{0,100}', -1) \n",
    "\n",
    "def LF_GC_A_inhibitis_B_close(c):\n",
    "    return rule_regex_search_btw_AB(c, '.{0,50}' + ltp(inhibits_samples) + '.{0,50}', -1) \n",
    "\n",
    "\n",
    "def LF_GC_inhibits_in_sent(c):\n",
    "    return -1 if re.search(r'' + ltp(inhibits_samples)  , get_tagged_text(c), re.I) else 0\n",
    "\n",
    "\n",
    "# prefer meta if both are included\n",
    "def LF_GC_meta_and_inhibts(c)\n",
    "    if LF_GC_inhibits_in_sent(c) == -1 and LF_GC_metabol_in_sent(c) == 1:\n",
    "        return 1\n",
    "    return 0\n",
    "\n",
    "\n",
    "def LF_closer_chem(c):\n",
    "    # Get distance between chemical and gene\n",
    "    chem_start, chem_end = c.chemical.get_word_start(), c.chemical.get_word_end()\n",
    "    gen_start, gen_end = c.gene.get_word_start(), c.gene.get_word_end()\n",
    "    if gen_start < chem_start:\n",
    "        dist = chem_start - gen_end\n",
    "    else:\n",
    "        dist = gen_start - chem_end\n",
    "    # Try to find chemical closer than @dist/2 in either direction\n",
    "    sent = c.get_parent()\n",
    "    closest_other_chem = float('inf')\n",
    "    for i in range(gen_end, min(len(sent.words), gen_end + dist // 2)):\n",
    "        et, cid = sent.entity_types[i], sent.entity_cids[i]\n",
    "        if et == 'Chemical' and cid != sent.entity_cids[chem_start]:\n",
    "            return -1\n",
    "    for i in range(max(0, gen_start - dist // 2), gen_start):\n",
    "        et, cid = sent.entity_types[i], sent.entity_cids[i]\n",
    "        if et == 'Chemical' and cid != sent.entity_cids[chem_start]:\n",
    "            return -1\n",
    "    return 0\n",
    "\n",
    "\n",
    "def LF_closer_gene(c):\n",
    "    # Get distance between chemical and gene\n",
    "    chem_start, chem_end = c.chemical.get_word_start(), c.chemical.get_word_end()\n",
    "    gen_start, gen_end = c.gene.get_word_start(), c.gene.get_word_end()\n",
    "    if gen_start < chem_start:\n",
    "        dist = chem_start - gen_end\n",
    "    else:\n",
    "        dist = gen_start - chem_end\n",
    "    # Try to find gene closer than @dist/8 in either direction\n",
    "    sent = c.get_parent()\n",
    "    for i in range(chem_end, min(len(sent.words), chem_end + dist // 8)):\n",
    "        et, cid = sent.entity_types[i], sent.entity_cids[i]\n",
    "        if et == 'Gene' and cid != sent.entity_cids[gen_start]:\n",
    "            return -1\n",
    "    for i in range(max(0, chem_start - dist // 8), chem_start):\n",
    "        et, cid = sent.entity_types[i], sent.entity_cids[i]\n",
    "        if et == 'Gene' and cid != sent.entity_cids[gen_start]:\n",
    "            return -1\n",
    "    return 0\n",
    "\n",
    "                \n",
    "\n",
    "def LF_CG_inhib_between(c):\n",
    "    # Get distance between chemical and disease\n",
    "    chem_start, chem_end = c.chemical.get_word_start(), c.chemical.get_word_end()\n",
    "    dis_start, dis_end = c.gene.get_word_start(), c.gene.get_word_end()\n",
    "    if dis_start < chem_start:\n",
    "        dist = chem_start - dis_end\n",
    "    else:\n",
    "        dist = dis_start - chem_end\n",
    "    # Try to find metabol closer than @dist/2 in either direction\n",
    "    sent = c.get_parent()\n",
    "    closest_other_chem = float('inf')\n",
    "    for i in range(dis_end, min(len(sent.words), dis_end + dist // 2)):\n",
    "        if re.search(r'' + ltp(inhibits_samples), sent.words[i], re.I):\n",
    "            return -1\n",
    "    for i in range(max(0, dis_start - dist // 2), dis_start):\n",
    "        if re.search(r'' + ltp(inhibits_samples), sent.words[i], re.I):\n",
    "            return -1\n",
    "    return 0\n",
    "\n",
    "\n",
    "    \n",
    "LFs_GC = [\n",
    "    LF_GC_AB_metabolisation_after_AB,\n",
    "    LF_GC_metabolisation_before_AB,\n",
    "    LF_CG_A_metabolisation_B_far,\n",
    "    LF_GC_B_metabolisation_A_far,\n",
    "    LF_GC_A_metabolisation_B,\n",
    "    LF_GC_B_metabolisation_A,\n",
    "    LG_GC_metabolisation_before_B_near,\n",
    "    LG_GC_metabolisation_before_B_far,\n",
    "    LF_GC_A_metabol_B_in_sent,\n",
    "    LF_GC_B_metabol_A_in_sent,\n",
    "    LF_GC_B_metabolised_A,\n",
    "    LF_GC_A_not_metabol_B,\n",
    "    LF_GC_B_not_metabolised_A,\n",
    "    LF_GC_no_metabol,\n",
    "    LF_GC_metabol_in_sent,\n",
    "    LF_GC_AB_before_inhibition,\n",
    "    LF_GC_A_supressive_effect_B,\n",
    "    LF_GC_AB_after_inhibition,\n",
    "    LF_GC_A_inhibition_B,\n",
    "    LF_GC_B_inhibition_A,\n",
    "    LG_GC_inhibition_before_B_near,\n",
    "    LF_GC_A_inhibitis_B,\n",
    "    LF_GC_A_inhibitis_B_close,\n",
    "    LF_GC_inhibits_in_sent,\n",
    "    LF_GC_meta_and_inhibts,\n",
    "    LF_closer_chem,\n",
    "    LF_closer_gene,\n",
    "    LF_CG_inhib_between\n",
    "]"
   ]
  },
  {
   "cell_type": "code",
   "execution_count": 30,
   "metadata": {},
   "outputs": [],
   "source": [
    "def LF_CG_in_CTD_chem_gene_metab(c):\n",
    "    if cand_in_chemical_gene_metabolised(c) == 1:\n",
    "        return 1 \n",
    "    return -1\n",
    "\n",
    "LFs_GC = [\n",
    "    LF_CG_in_CTD_chem_gene_metab\n",
    "]"
   ]
  },
  {
   "cell_type": "code",
   "execution_count": 32,
   "metadata": {},
   "outputs": [
    {
     "name": "stderr",
     "output_type": "stream",
     "text": [
      "\r",
      "  0%|          | 0/17935 [00:00<?, ?it/s]"
     ]
    },
    {
     "name": "stdout",
     "output_type": "stream",
     "text": [
      "Clearing existing...\n",
      "Running UDF...\n"
     ]
    },
    {
     "name": "stderr",
     "output_type": "stream",
     "text": [
      "100%|██████████| 17935/17935 [02:32<00:00, 117.47it/s]\n"
     ]
    },
    {
     "name": "stdout",
     "output_type": "stream",
     "text": [
      "CPU times: user 40.8 s, sys: 9.5 s, total: 50.3 s\n",
      "Wall time: 2min 33s\n"
     ]
    },
    {
     "data": {
      "text/plain": [
       "<17935x26 sparse matrix of type '<class 'numpy.int64'>'\n",
       "\twith 34981 stored elements in Compressed Sparse Row format>"
      ]
     },
     "execution_count": 32,
     "metadata": {},
     "output_type": "execute_result"
    }
   ],
   "source": [
    "from snorkel.annotations import LabelAnnotator\n",
    "labeler = LabelAnnotator(lfs=LFs_GC)\n",
    "\n",
    "%time L_train = labeler.apply(lfs=LFs_GC, parallelism=10)\n",
    "L_train"
   ]
  },
  {
   "cell_type": "code",
   "execution_count": 33,
   "metadata": {},
   "outputs": [
    {
     "data": {
      "text/html": [
       "<div>\n",
       "<style scoped>\n",
       "    .dataframe tbody tr th:only-of-type {\n",
       "        vertical-align: middle;\n",
       "    }\n",
       "\n",
       "    .dataframe tbody tr th {\n",
       "        vertical-align: top;\n",
       "    }\n",
       "\n",
       "    .dataframe thead th {\n",
       "        text-align: right;\n",
       "    }\n",
       "</style>\n",
       "<table border=\"1\" class=\"dataframe\">\n",
       "  <thead>\n",
       "    <tr style=\"text-align: right;\">\n",
       "      <th></th>\n",
       "      <th>j</th>\n",
       "      <th>Coverage</th>\n",
       "      <th>Overlaps</th>\n",
       "      <th>Conflicts</th>\n",
       "    </tr>\n",
       "  </thead>\n",
       "  <tbody>\n",
       "    <tr>\n",
       "      <th>LF_GC_AB_metabolisation_after_AB</th>\n",
       "      <td>0</td>\n",
       "      <td>0.005966</td>\n",
       "      <td>0.004070</td>\n",
       "      <td>0.003513</td>\n",
       "    </tr>\n",
       "    <tr>\n",
       "      <th>LF_GC_metabolisation_before_AB</th>\n",
       "      <td>1</td>\n",
       "      <td>0.000000</td>\n",
       "      <td>0.000000</td>\n",
       "      <td>0.000000</td>\n",
       "    </tr>\n",
       "    <tr>\n",
       "      <th>LF_CG_A_metabolisation_B_far</th>\n",
       "      <td>2</td>\n",
       "      <td>0.000000</td>\n",
       "      <td>0.000000</td>\n",
       "      <td>0.000000</td>\n",
       "    </tr>\n",
       "    <tr>\n",
       "      <th>LF_GC_B_metabolisation_A_far</th>\n",
       "      <td>3</td>\n",
       "      <td>0.000781</td>\n",
       "      <td>0.000558</td>\n",
       "      <td>0.000000</td>\n",
       "    </tr>\n",
       "    <tr>\n",
       "      <th>LF_GC_A_metabolisation_B</th>\n",
       "      <td>4</td>\n",
       "      <td>0.004628</td>\n",
       "      <td>0.003847</td>\n",
       "      <td>0.002398</td>\n",
       "    </tr>\n",
       "    <tr>\n",
       "      <th>LF_GC_B_metabolisation_A</th>\n",
       "      <td>5</td>\n",
       "      <td>0.005687</td>\n",
       "      <td>0.005018</td>\n",
       "      <td>0.002676</td>\n",
       "    </tr>\n",
       "    <tr>\n",
       "      <th>LG_GC_metabolisation_before_B_near</th>\n",
       "      <td>6</td>\n",
       "      <td>0.006022</td>\n",
       "      <td>0.004628</td>\n",
       "      <td>0.004461</td>\n",
       "    </tr>\n",
       "    <tr>\n",
       "      <th>LG_GC_metabolisation_before_B_far</th>\n",
       "      <td>7</td>\n",
       "      <td>0.001951</td>\n",
       "      <td>0.001728</td>\n",
       "      <td>0.000558</td>\n",
       "    </tr>\n",
       "    <tr>\n",
       "      <th>LF_GC_A_metabol_B_in_sent</th>\n",
       "      <td>8</td>\n",
       "      <td>0.031057</td>\n",
       "      <td>0.031057</td>\n",
       "      <td>0.016114</td>\n",
       "    </tr>\n",
       "    <tr>\n",
       "      <th>LF_GC_B_metabol_A_in_sent</th>\n",
       "      <td>9</td>\n",
       "      <td>0.031057</td>\n",
       "      <td>0.031057</td>\n",
       "      <td>0.016114</td>\n",
       "    </tr>\n",
       "    <tr>\n",
       "      <th>LF_GC_B_metabolised_A</th>\n",
       "      <td>10</td>\n",
       "      <td>0.088598</td>\n",
       "      <td>0.052579</td>\n",
       "      <td>0.049958</td>\n",
       "    </tr>\n",
       "    <tr>\n",
       "      <th>LF_GC_A_not_metabol_B</th>\n",
       "      <td>11</td>\n",
       "      <td>0.002063</td>\n",
       "      <td>0.001951</td>\n",
       "      <td>0.001450</td>\n",
       "    </tr>\n",
       "    <tr>\n",
       "      <th>LF_GC_B_not_metabolised_A</th>\n",
       "      <td>12</td>\n",
       "      <td>0.007694</td>\n",
       "      <td>0.007639</td>\n",
       "      <td>0.005910</td>\n",
       "    </tr>\n",
       "    <tr>\n",
       "      <th>LF_GC_no_metabol</th>\n",
       "      <td>13</td>\n",
       "      <td>0.645721</td>\n",
       "      <td>0.388737</td>\n",
       "      <td>0.000000</td>\n",
       "    </tr>\n",
       "    <tr>\n",
       "      <th>LF_GC_AB_before_inhibition</th>\n",
       "      <td>14</td>\n",
       "      <td>0.013437</td>\n",
       "      <td>0.013437</td>\n",
       "      <td>0.003791</td>\n",
       "    </tr>\n",
       "    <tr>\n",
       "      <th>LF_GC_A_supressive_effect_B</th>\n",
       "      <td>15</td>\n",
       "      <td>0.000000</td>\n",
       "      <td>0.000000</td>\n",
       "      <td>0.000000</td>\n",
       "    </tr>\n",
       "    <tr>\n",
       "      <th>LF_GC_AB_after_inhibition</th>\n",
       "      <td>16</td>\n",
       "      <td>0.000000</td>\n",
       "      <td>0.000000</td>\n",
       "      <td>0.000000</td>\n",
       "    </tr>\n",
       "    <tr>\n",
       "      <th>LF_GC_A_inhibition_B</th>\n",
       "      <td>17</td>\n",
       "      <td>0.032172</td>\n",
       "      <td>0.032172</td>\n",
       "      <td>0.002453</td>\n",
       "    </tr>\n",
       "    <tr>\n",
       "      <th>LF_GC_B_inhibition_A</th>\n",
       "      <td>18</td>\n",
       "      <td>0.034235</td>\n",
       "      <td>0.034235</td>\n",
       "      <td>0.005854</td>\n",
       "    </tr>\n",
       "    <tr>\n",
       "      <th>LG_GC_inhibition_before_B_near</th>\n",
       "      <td>19</td>\n",
       "      <td>0.031503</td>\n",
       "      <td>0.031503</td>\n",
       "      <td>0.006022</td>\n",
       "    </tr>\n",
       "    <tr>\n",
       "      <th>LF_GC_A_inhibitis_B</th>\n",
       "      <td>20</td>\n",
       "      <td>0.053861</td>\n",
       "      <td>0.053861</td>\n",
       "      <td>0.004349</td>\n",
       "    </tr>\n",
       "    <tr>\n",
       "      <th>LF_GC_A_inhibitis_B_close</th>\n",
       "      <td>21</td>\n",
       "      <td>0.030109</td>\n",
       "      <td>0.030109</td>\n",
       "      <td>0.001450</td>\n",
       "    </tr>\n",
       "    <tr>\n",
       "      <th>LF_GC_inhibits_in_sent</th>\n",
       "      <td>22</td>\n",
       "      <td>0.377976</td>\n",
       "      <td>0.348871</td>\n",
       "      <td>0.058991</td>\n",
       "    </tr>\n",
       "    <tr>\n",
       "      <th>LF_closer_chem</th>\n",
       "      <td>23</td>\n",
       "      <td>0.336772</td>\n",
       "      <td>0.280178</td>\n",
       "      <td>0.022916</td>\n",
       "    </tr>\n",
       "    <tr>\n",
       "      <th>LF_closer_gene</th>\n",
       "      <td>24</td>\n",
       "      <td>0.030722</td>\n",
       "      <td>0.029997</td>\n",
       "      <td>0.000613</td>\n",
       "    </tr>\n",
       "    <tr>\n",
       "      <th>LF_CG_inhib_between</th>\n",
       "      <td>25</td>\n",
       "      <td>0.178422</td>\n",
       "      <td>0.178366</td>\n",
       "      <td>0.023752</td>\n",
       "    </tr>\n",
       "  </tbody>\n",
       "</table>\n",
       "</div>"
      ],
      "text/plain": [
       "                                     j  Coverage  Overlaps  Conflicts\n",
       "LF_GC_AB_metabolisation_after_AB     0  0.005966  0.004070   0.003513\n",
       "LF_GC_metabolisation_before_AB       1  0.000000  0.000000   0.000000\n",
       "LF_CG_A_metabolisation_B_far         2  0.000000  0.000000   0.000000\n",
       "LF_GC_B_metabolisation_A_far         3  0.000781  0.000558   0.000000\n",
       "LF_GC_A_metabolisation_B             4  0.004628  0.003847   0.002398\n",
       "LF_GC_B_metabolisation_A             5  0.005687  0.005018   0.002676\n",
       "LG_GC_metabolisation_before_B_near   6  0.006022  0.004628   0.004461\n",
       "LG_GC_metabolisation_before_B_far    7  0.001951  0.001728   0.000558\n",
       "LF_GC_A_metabol_B_in_sent            8  0.031057  0.031057   0.016114\n",
       "LF_GC_B_metabol_A_in_sent            9  0.031057  0.031057   0.016114\n",
       "LF_GC_B_metabolised_A               10  0.088598  0.052579   0.049958\n",
       "LF_GC_A_not_metabol_B               11  0.002063  0.001951   0.001450\n",
       "LF_GC_B_not_metabolised_A           12  0.007694  0.007639   0.005910\n",
       "LF_GC_no_metabol                    13  0.645721  0.388737   0.000000\n",
       "LF_GC_AB_before_inhibition          14  0.013437  0.013437   0.003791\n",
       "LF_GC_A_supressive_effect_B         15  0.000000  0.000000   0.000000\n",
       "LF_GC_AB_after_inhibition           16  0.000000  0.000000   0.000000\n",
       "LF_GC_A_inhibition_B                17  0.032172  0.032172   0.002453\n",
       "LF_GC_B_inhibition_A                18  0.034235  0.034235   0.005854\n",
       "LG_GC_inhibition_before_B_near      19  0.031503  0.031503   0.006022\n",
       "LF_GC_A_inhibitis_B                 20  0.053861  0.053861   0.004349\n",
       "LF_GC_A_inhibitis_B_close           21  0.030109  0.030109   0.001450\n",
       "LF_GC_inhibits_in_sent              22  0.377976  0.348871   0.058991\n",
       "LF_closer_chem                      23  0.336772  0.280178   0.022916\n",
       "LF_closer_gene                      24  0.030722  0.029997   0.000613\n",
       "LF_CG_inhib_between                 25  0.178422  0.178366   0.023752"
      ]
     },
     "execution_count": 33,
     "metadata": {},
     "output_type": "execute_result"
    }
   ],
   "source": [
    "L_train.lf_stats(session)"
   ]
  },
  {
   "cell_type": "code",
   "execution_count": 10,
   "metadata": {},
   "outputs": [
    {
     "data": {
      "text/html": [
       "<div>\n",
       "<style scoped>\n",
       "    .dataframe tbody tr th:only-of-type {\n",
       "        vertical-align: middle;\n",
       "    }\n",
       "\n",
       "    .dataframe tbody tr th {\n",
       "        vertical-align: top;\n",
       "    }\n",
       "\n",
       "    .dataframe thead th {\n",
       "        text-align: right;\n",
       "    }\n",
       "</style>\n",
       "<table border=\"1\" class=\"dataframe\">\n",
       "  <thead>\n",
       "    <tr style=\"text-align: right;\">\n",
       "      <th></th>\n",
       "      <th>j</th>\n",
       "      <th>Coverage</th>\n",
       "      <th>Overlaps</th>\n",
       "      <th>Conflicts</th>\n",
       "    </tr>\n",
       "  </thead>\n",
       "  <tbody>\n",
       "    <tr>\n",
       "      <th>LF_GC_AB_metabolisation_after_AB</th>\n",
       "      <td>0</td>\n",
       "      <td>0.000781</td>\n",
       "      <td>0.000558</td>\n",
       "      <td>0.000502</td>\n",
       "    </tr>\n",
       "    <tr>\n",
       "      <th>LF_GC_metabolisation_before_AB</th>\n",
       "      <td>1</td>\n",
       "      <td>0.000000</td>\n",
       "      <td>0.000000</td>\n",
       "      <td>0.000000</td>\n",
       "    </tr>\n",
       "    <tr>\n",
       "      <th>LF_CG_A_metabolisation_B_far</th>\n",
       "      <td>2</td>\n",
       "      <td>0.000000</td>\n",
       "      <td>0.000000</td>\n",
       "      <td>0.000000</td>\n",
       "    </tr>\n",
       "    <tr>\n",
       "      <th>LF_GC_B_metabolisation_A_far</th>\n",
       "      <td>3</td>\n",
       "      <td>0.000558</td>\n",
       "      <td>0.000335</td>\n",
       "      <td>0.000000</td>\n",
       "    </tr>\n",
       "    <tr>\n",
       "      <th>LF_GC_A_metabolisation_B</th>\n",
       "      <td>4</td>\n",
       "      <td>0.000781</td>\n",
       "      <td>0.000781</td>\n",
       "      <td>0.000446</td>\n",
       "    </tr>\n",
       "    <tr>\n",
       "      <th>LF_GC_B_metabolisation_A</th>\n",
       "      <td>5</td>\n",
       "      <td>0.001059</td>\n",
       "      <td>0.001004</td>\n",
       "      <td>0.000781</td>\n",
       "    </tr>\n",
       "    <tr>\n",
       "      <th>LG_GC_metabolisation_before_B_near</th>\n",
       "      <td>6</td>\n",
       "      <td>0.001227</td>\n",
       "      <td>0.001115</td>\n",
       "      <td>0.001115</td>\n",
       "    </tr>\n",
       "    <tr>\n",
       "      <th>LG_GC_metabolisation_before_B_far</th>\n",
       "      <td>7</td>\n",
       "      <td>0.000390</td>\n",
       "      <td>0.000279</td>\n",
       "      <td>0.000000</td>\n",
       "    </tr>\n",
       "    <tr>\n",
       "      <th>LF_GC_A_metabol_B_in_sent</th>\n",
       "      <td>8</td>\n",
       "      <td>0.021801</td>\n",
       "      <td>0.021801</td>\n",
       "      <td>0.011151</td>\n",
       "    </tr>\n",
       "    <tr>\n",
       "      <th>LF_GC_B_metabol_A_in_sent</th>\n",
       "      <td>9</td>\n",
       "      <td>0.021801</td>\n",
       "      <td>0.021801</td>\n",
       "      <td>0.011151</td>\n",
       "    </tr>\n",
       "    <tr>\n",
       "      <th>LF_GC_B_metabolised_A</th>\n",
       "      <td>10</td>\n",
       "      <td>0.045107</td>\n",
       "      <td>0.023864</td>\n",
       "      <td>0.023585</td>\n",
       "    </tr>\n",
       "    <tr>\n",
       "      <th>LF_GC_A_not_metabol_B</th>\n",
       "      <td>11</td>\n",
       "      <td>0.001338</td>\n",
       "      <td>0.001282</td>\n",
       "      <td>0.000892</td>\n",
       "    </tr>\n",
       "    <tr>\n",
       "      <th>LF_GC_B_not_metabolised_A</th>\n",
       "      <td>12</td>\n",
       "      <td>0.004572</td>\n",
       "      <td>0.004516</td>\n",
       "      <td>0.003401</td>\n",
       "    </tr>\n",
       "    <tr>\n",
       "      <th>LF_GC_no_metabol</th>\n",
       "      <td>13</td>\n",
       "      <td>0.815723</td>\n",
       "      <td>0.508057</td>\n",
       "      <td>0.000000</td>\n",
       "    </tr>\n",
       "    <tr>\n",
       "      <th>LF_GC_AB_before_inhibition</th>\n",
       "      <td>14</td>\n",
       "      <td>0.013437</td>\n",
       "      <td>0.013437</td>\n",
       "      <td>0.001004</td>\n",
       "    </tr>\n",
       "    <tr>\n",
       "      <th>LF_GC_A_supressive_effect_B</th>\n",
       "      <td>15</td>\n",
       "      <td>0.000000</td>\n",
       "      <td>0.000000</td>\n",
       "      <td>0.000000</td>\n",
       "    </tr>\n",
       "    <tr>\n",
       "      <th>LF_GC_AB_after_inhibition</th>\n",
       "      <td>16</td>\n",
       "      <td>0.000000</td>\n",
       "      <td>0.000000</td>\n",
       "      <td>0.000000</td>\n",
       "    </tr>\n",
       "    <tr>\n",
       "      <th>LF_GC_A_inhibition_B</th>\n",
       "      <td>17</td>\n",
       "      <td>0.032172</td>\n",
       "      <td>0.032172</td>\n",
       "      <td>0.001617</td>\n",
       "    </tr>\n",
       "    <tr>\n",
       "      <th>LF_GC_B_inhibition_A</th>\n",
       "      <td>18</td>\n",
       "      <td>0.034235</td>\n",
       "      <td>0.034235</td>\n",
       "      <td>0.001115</td>\n",
       "    </tr>\n",
       "    <tr>\n",
       "      <th>LG_GC_inhibition_before_B_near</th>\n",
       "      <td>19</td>\n",
       "      <td>0.031503</td>\n",
       "      <td>0.031503</td>\n",
       "      <td>0.002844</td>\n",
       "    </tr>\n",
       "    <tr>\n",
       "      <th>LF_GC_A_inhibitis_B</th>\n",
       "      <td>20</td>\n",
       "      <td>0.053861</td>\n",
       "      <td>0.053861</td>\n",
       "      <td>0.002342</td>\n",
       "    </tr>\n",
       "    <tr>\n",
       "      <th>LF_GC_A_inhibitis_B_close</th>\n",
       "      <td>21</td>\n",
       "      <td>0.030109</td>\n",
       "      <td>0.030109</td>\n",
       "      <td>0.000725</td>\n",
       "    </tr>\n",
       "    <tr>\n",
       "      <th>LF_GC_inhibits_in_sent</th>\n",
       "      <td>22</td>\n",
       "      <td>0.377976</td>\n",
       "      <td>0.358461</td>\n",
       "      <td>0.026708</td>\n",
       "    </tr>\n",
       "    <tr>\n",
       "      <th>LF_closer_chem</th>\n",
       "      <td>23</td>\n",
       "      <td>0.336772</td>\n",
       "      <td>0.323780</td>\n",
       "      <td>0.012936</td>\n",
       "    </tr>\n",
       "    <tr>\n",
       "      <th>LF_closer_gene</th>\n",
       "      <td>24</td>\n",
       "      <td>0.030722</td>\n",
       "      <td>0.030276</td>\n",
       "      <td>0.000390</td>\n",
       "    </tr>\n",
       "    <tr>\n",
       "      <th>LF_CG_inhib_between</th>\n",
       "      <td>25</td>\n",
       "      <td>0.178422</td>\n",
       "      <td>0.178366</td>\n",
       "      <td>0.012378</td>\n",
       "    </tr>\n",
       "  </tbody>\n",
       "</table>\n",
       "</div>"
      ],
      "text/plain": [
       "                                     j  Coverage  Overlaps  Conflicts\n",
       "LF_GC_AB_metabolisation_after_AB     0  0.000781  0.000558   0.000502\n",
       "LF_GC_metabolisation_before_AB       1  0.000000  0.000000   0.000000\n",
       "LF_CG_A_metabolisation_B_far         2  0.000000  0.000000   0.000000\n",
       "LF_GC_B_metabolisation_A_far         3  0.000558  0.000335   0.000000\n",
       "LF_GC_A_metabolisation_B             4  0.000781  0.000781   0.000446\n",
       "LF_GC_B_metabolisation_A             5  0.001059  0.001004   0.000781\n",
       "LG_GC_metabolisation_before_B_near   6  0.001227  0.001115   0.001115\n",
       "LG_GC_metabolisation_before_B_far    7  0.000390  0.000279   0.000000\n",
       "LF_GC_A_metabol_B_in_sent            8  0.021801  0.021801   0.011151\n",
       "LF_GC_B_metabol_A_in_sent            9  0.021801  0.021801   0.011151\n",
       "LF_GC_B_metabolised_A               10  0.045107  0.023864   0.023585\n",
       "LF_GC_A_not_metabol_B               11  0.001338  0.001282   0.000892\n",
       "LF_GC_B_not_metabolised_A           12  0.004572  0.004516   0.003401\n",
       "LF_GC_no_metabol                    13  0.815723  0.508057   0.000000\n",
       "LF_GC_AB_before_inhibition          14  0.013437  0.013437   0.001004\n",
       "LF_GC_A_supressive_effect_B         15  0.000000  0.000000   0.000000\n",
       "LF_GC_AB_after_inhibition           16  0.000000  0.000000   0.000000\n",
       "LF_GC_A_inhibition_B                17  0.032172  0.032172   0.001617\n",
       "LF_GC_B_inhibition_A                18  0.034235  0.034235   0.001115\n",
       "LG_GC_inhibition_before_B_near      19  0.031503  0.031503   0.002844\n",
       "LF_GC_A_inhibitis_B                 20  0.053861  0.053861   0.002342\n",
       "LF_GC_A_inhibitis_B_close           21  0.030109  0.030109   0.000725\n",
       "LF_GC_inhibits_in_sent              22  0.377976  0.358461   0.026708\n",
       "LF_closer_chem                      23  0.336772  0.323780   0.012936\n",
       "LF_closer_gene                      24  0.030722  0.030276   0.000390\n",
       "LF_CG_inhib_between                 25  0.178422  0.178366   0.012378"
      ]
     },
     "execution_count": 10,
     "metadata": {},
     "output_type": "execute_result"
    }
   ],
   "source": [
    "L_train.lf_stats(session)"
   ]
  },
  {
   "cell_type": "code",
   "execution_count": 34,
   "metadata": {},
   "outputs": [
    {
     "name": "stdout",
     "output_type": "stream",
     "text": [
      "Inferred cardinality: 2\n"
     ]
    }
   ],
   "source": [
    "from snorkel.learning import GenerativeModel\n",
    "\n",
    "gen_model = GenerativeModel()\n",
    "gen_model.train(L_train, epochs=100, decay=0.95, step_size=0.1 / L_train.shape[0], reg_param=1e-6)\n",
    "train_marginals = gen_model.marginals(L_train)"
   ]
  },
  {
   "cell_type": "code",
   "execution_count": 35,
   "metadata": {},
   "outputs": [
    {
     "data": {
      "image/png": "[encoded data removed]",
      "text/plain": [
       "<Figure size 432x288 with 1 Axes>"
      ]
     },
     "metadata": {
      "needs_background": "light"
     },
     "output_type": "display_data"
    }
   ],
   "source": [
    "import matplotlib.pyplot as plt\n",
    "plt.hist(train_marginals, bins=20)\n",
    "plt.show()"
   ]
  },
  {
   "cell_type": "code",
   "execution_count": 36,
   "metadata": {},
   "outputs": [
    {
     "name": "stderr",
     "output_type": "stream",
     "text": [
      "  0%|          | 2/16965 [00:00<14:52, 19.00it/s]"
     ]
    },
    {
     "name": "stdout",
     "output_type": "stream",
     "text": [
      "Clearing existing...\n",
      "Running UDF...\n"
     ]
    },
    {
     "name": "stderr",
     "output_type": "stream",
     "text": [
      "100%|██████████| 16965/16965 [03:50<00:00, 73.66it/s]\n",
      "  0%|          | 6/17138 [00:00<04:54, 58.14it/s]"
     ]
    },
    {
     "name": "stdout",
     "output_type": "stream",
     "text": [
      "Clearing existing...\n",
      "Running UDF...\n"
     ]
    },
    {
     "name": "stderr",
     "output_type": "stream",
     "text": [
      "100%|██████████| 17138/17138 [03:34<00:00, 79.76it/s]\n"
     ]
    }
   ],
   "source": [
    "from snorkel.annotations import load_gold_labels\n",
    "\n",
    "L_dev = labeler.apply_existing(split=1)\n",
    "L_test = labeler.apply_existing(split=2)\n",
    "L_gold_dev = load_gold_labels(session, annotator_name='gold',split=1)\n",
    "L_gold_test = load_gold_labels(session, annotator_name='gold', split=2)"
   ]
  },
  {
   "cell_type": "code",
   "execution_count": null,
   "metadata": {},
   "outputs": [],
   "source": [
    "from snorkel.learning import GenerativeModel\n",
    "from snorkel.learning import RandomSearch\n",
    "from snorkel.learning.structure import DependencySelector\n",
    "\n",
    "\n",
    "MAX_DEPS = 5\n",
    "\n",
    "ds = DependencySelector()\n",
    "deps = ds.select(L_train, threshold=0.1)\n",
    "deps = set(list(deps)[0:min(len(deps), MAX_DEPS)])\n",
    "\n",
    "print(\"Using {} dependencies\".format(len(deps)))\n",
    "\n",
    "\n",
    "\n",
    "# use random search to optimize the generative model\n",
    "param_grid = {\n",
    "    'step_size' : [1e-3, 1e-4, 1e-5, 1e-6],\n",
    "    'decay'     : [0.9, 0.95],\n",
    "    'epochs'    : [50,100,150],\n",
    "    'reg_param' : [1e-3],\n",
    "}\n",
    "\n",
    "model_class_params = {'lf_propensity' : False }#, 'deps': deps}\n",
    "\n",
    "searcher = RandomSearch(GenerativeModel, param_grid, L_train, n=10, model_class_params=model_class_params)\n",
    "%time gen_model, run_stats = searcher.fit(L_dev, L_gold_dev) #, deps=deps)\n",
    "run_stats"
   ]
  },
  {
   "cell_type": "code",
   "execution_count": 37,
   "metadata": {},
   "outputs": [],
   "source": [
    "train_marginals = gen_model.marginals(L_train)"
   ]
  },
  {
   "cell_type": "code",
   "execution_count": null,
   "metadata": {},
   "outputs": [],
   "source": [
    "import matplotlib.pyplot as plt\n",
    "plt.hist(train_marginals, bins=20)\n",
    "plt.show()"
   ]
  },
  {
   "cell_type": "code",
   "execution_count": 14,
   "metadata": {},
   "outputs": [
    {
     "name": "stdout",
     "output_type": "stream",
     "text": [
      "========================================\n",
      "Scores (Un-adjusted)\n",
      "========================================\n",
      "Pos. class accuracy: 0.0549\n",
      "Neg. class accuracy: 0.968\n",
      "Precision            0.0809\n",
      "Recall               0.0549\n",
      "F1                   0.0654\n",
      "----------------------------------------\n",
      "TP: 45 | FP: 511 | TN: 15634 | FN: 775\n",
      "========================================\n",
      "\n",
      "Saved 17935 marginals\n",
      "CPU times: user 12.3 s, sys: 740 ms, total: 13 s\n",
      "Wall time: 17.8 s\n"
     ]
    }
   ],
   "source": [
    "from snorkel.annotations import save_marginals\n",
    "\n",
    "dev_marginals = gen_model.marginals(L_dev)\n",
    "_, _, _, _ = gen_model.error_analysis(session, L_dev, L_gold_dev)\n",
    "\n",
    "%time save_marginals(session, L_train, train_marginals)"
   ]
  },
  {
   "cell_type": "code",
   "execution_count": 15,
   "metadata": {},
   "outputs": [
    {
     "name": "stdout",
     "output_type": "stream",
     "text": [
      "========================================\n",
      "Scores (Un-adjusted)\n",
      "========================================\n",
      "Pos. class accuracy: 0.0323\n",
      "Neg. class accuracy: 0.97\n",
      "Precision            0.0354\n",
      "Recall               0.0323\n",
      "F1                   0.0338\n",
      "----------------------------------------\n",
      "TP: 18 | FP: 490 | TN: 16090 | FN: 540\n",
      "========================================\n",
      "\n"
     ]
    }
   ],
   "source": [
    "tp, fp, tn, fn = gen_model.error_analysis(session, L_test, L_gold_test)"
   ]
  },
  {
   "cell_type": "code",
   "execution_count": 16,
   "metadata": {},
   "outputs": [
    {
     "name": "stdout",
     "output_type": "stream",
     "text": [
      "Load all ChemicalGeneMetabolism candidates from db...\n",
      "17935 16965 17138\n",
      "Amount of all candidates: 52038\n"
     ]
    }
   ],
   "source": [
    "print(\"Load all ChemicalGeneMetabolism candidates from db...\")\n",
    "train_cands = session.query(GeneChemicalMetabolism).filter(GeneChemicalMetabolism.split == 0).order_by(GeneChemicalMetabolism.id).all()\n",
    "dev_cands   = session.query(GeneChemicalMetabolism).filter(GeneChemicalMetabolism.split == 1).order_by(GeneChemicalMetabolism.id).all()\n",
    "test_cands  = session.query(GeneChemicalMetabolism).filter(GeneChemicalMetabolism.split == 2).order_by(GeneChemicalMetabolism.id).all()\n",
    "\n",
    "\n",
    "all_cands = []\n",
    "all_cands.extend(train_cands)\n",
    "all_cands.extend(dev_cands)\n",
    "all_cands.extend(test_cands)\n",
    "\n",
    "\n",
    "print(\"{} {} {}\".format(len(train_cands), len(dev_cands), len(test_cands)))\n",
    "print(\"Amount of all candidates: {}\".format(len(all_cands)))"
   ]
  },
  {
   "cell_type": "code",
   "execution_count": 38,
   "metadata": {},
   "outputs": [],
   "source": [
    "from snorkel.learning.pytorch import LSTM\n",
    "from snorkel.annotations import load_gold_labels\n",
    "import torch\n",
    "import torch.nn as nn\n",
    "\n",
    "#train_kwargs = #{\n",
    "#    'lr':            0.01,#\n",
    "#    'embedding_dim': 75,\n",
    "#    'hidden_dim':    75,\n",
    "#    'n_epochs':      1,\n",
    "#    'dropout':       0.25,\n",
    "#    'seed':          1701\n",
    "#}\n",
    "\n",
    "train_kwargs = {\n",
    "    'batch_size':    128,\n",
    "    'lr':            0.0010,\n",
    "    'embedding_dim': 75,\n",
    "    'hidden_dim':    75,\n",
    "    'n_epochs':      10,\n",
    "    'dropout':       0.25,\n",
    "    'rebalance':     0.0,\n",
    "    'seed':          1701\n",
    "}\n",
    "\n",
    "\n",
    "lstm = LSTM(n_threads=10)\n",
    "#lstm.loss = torch.nn.KLDivLoss()"
   ]
  },
  {
   "cell_type": "code",
   "execution_count": 39,
   "metadata": {},
   "outputs": [
    {
     "name": "stdout",
     "output_type": "stream",
     "text": [
      "[LSTM] Training model\n",
      "[LSTM] n_train=16863  #epochs=10  batch size=128\n",
      "[LSTM] Epoch 1 (148.58s)\tAverage loss=0.441025\tDev F1=0.00\n",
      "[LSTM] Epoch 2 (322.86s)\tAverage loss=0.402943\tDev F1=0.24\n",
      "[LSTM] Epoch 3 (501.09s)\tAverage loss=0.385076\tDev F1=0.24\n",
      "[LSTM] Epoch 4 (685.89s)\tAverage loss=0.375988\tDev F1=0.23\n",
      "[LSTM] Epoch 5 (861.34s)\tAverage loss=0.371616\tDev F1=1.47\n",
      "[LSTM] Epoch 6 (1036.25s)\tAverage loss=0.368820\tDev F1=1.29\n",
      "[LSTM] Epoch 7 (1208.72s)\tAverage loss=0.366908\tDev F1=2.30\n",
      "[LSTM] Epoch 8 (1388.94s)\tAverage loss=0.365985\tDev F1=1.48\n",
      "[LSTM] Epoch 9 (1569.75s)\tAverage loss=0.364969\tDev F1=1.30\n",
      "[LSTM] Model saved as <LSTM>\n",
      "[LSTM] Epoch 10 (1749.09s)\tAverage loss=0.364562\tDev F1=1.98\n",
      "[LSTM] Model saved as <LSTM>\n",
      "[LSTM] Training done (1798.54s)\n",
      "[LSTM] Loaded model <LSTM>\n"
     ]
    }
   ],
   "source": [
    "\n",
    "lstm.train(train_cands, train_marginals, X_dev=dev_cands, Y_dev=L_gold_dev, **train_kwargs)"
   ]
  },
  {
   "cell_type": "code",
   "execution_count": 40,
   "metadata": {},
   "outputs": [
    {
     "name": "stdout",
     "output_type": "stream",
     "text": [
      "========================================\n",
      "Scores (Un-adjusted)\n",
      "========================================\n",
      "Pos. class accuracy: 0.00717\n",
      "Neg. class accuracy: 0.992\n",
      "Precision            0.0288\n",
      "Recall               0.00717\n",
      "F1                   0.0115\n",
      "----------------------------------------\n",
      "TP: 4 | FP: 135 | TN: 16445 | FN: 554\n",
      "========================================\n",
      "\n"
     ]
    }
   ],
   "source": [
    "tp, fp, tn, fn = lstm.error_analysis(session, test_cands, L_gold_test)"
   ]
  },
  {
   "cell_type": "code",
   "execution_count": 41,
   "metadata": {},
   "outputs": [
    {
     "name": "stdout",
     "output_type": "stream",
     "text": [
      "Prec: 0.029, Recall: 0.007, F1 Score: 0.011\n"
     ]
    }
   ],
   "source": [
    "p, r, f1 = lstm.score(test_cands, L_gold_test)\n",
    "print(\"Prec: {0:.3f}, Recall: {1:.3f}, F1 Score: {2:.3f}\".format(p, r, f1))"
   ]
  },
  {
   "cell_type": "code",
   "execution_count": 42,
   "metadata": {},
   "outputs": [
    {
     "name": "stdout",
     "output_type": "stream",
     "text": [
      "========================================\n",
      "Scores (Un-adjusted)\n",
      "========================================\n",
      "Pos. class accuracy: 0.00717\n",
      "Neg. class accuracy: 0.992\n",
      "Precision            0.0288\n",
      "Recall               0.00717\n",
      "F1                   0.0115\n",
      "----------------------------------------\n",
      "TP: 4 | FP: 135 | TN: 16445 | FN: 554\n",
      "========================================\n",
      "\n"
     ]
    }
   ],
   "source": [
    "tp, fp, tn, fn = lstm.error_analysis(session, test_cands, L_gold_test)"
   ]
  },
  {
   "cell_type": "code",
   "execution_count": 43,
   "metadata": {},
   "outputs": [
    {
     "name": "stdout",
     "output_type": "stream",
     "text": [
      "Saved 52038 marginals\n"
     ]
    }
   ],
   "source": [
    "lstm.save_marginals(session, all_cands)"
   ]
  },
  {
   "cell_type": "code",
   "execution_count": 44,
   "metadata": {},
   "outputs": [
    {
     "name": "stdout",
     "output_type": "stream",
     "text": [
      "Storing candidate labels into result file...\n",
      "Amount of candidates: 52038\n"
     ]
    }
   ],
   "source": [
    "from snorkel.models.candidate import Marginal\n",
    "from snorkel.models import Document, Sentence\n",
    "\n",
    "\n",
    "print(\"Storing candidate labels into result file...\")\n",
    "amount_of_candidates = session.query(Candidate).count()\n",
    "print(\"Amount of candidates: {}\".format(amount_of_candidates))\n",
    "\n",
    "all_sents = []\n",
    "all_sents.extend(train_sent)\n",
    "all_sents.extend(dev_sent)\n",
    "all_sents.extend(test_sent)\n"
   ]
  },
  {
   "cell_type": "code",
   "execution_count": 45,
   "metadata": {},
   "outputs": [
    {
     "name": "stdout",
     "output_type": "stream",
     "text": [
      "Storing candidate labels into result file: results/gene_chemical_metabolisation.tsv\n",
      "Amount of candidates: 52038\n",
      "Load mariginals from db...\n",
      "Marginals loaded!\n",
      "Load gold labels from db...\n",
      "Gold labels loaded!\n",
      "Start writing files...\n",
      "Saved 53 TP, 1186 FP, 48747 TN, 2052 FN facts in files.\n",
      "CPU times: user 1min 52s, sys: 4.82 s, total: 1min 57s\n",
      "Wall time: 2min 18s\n"
     ]
    }
   ],
   "source": [
    "header_str = '{}\\t{}\\t{}\\t{}\\t{}\\t{}\\t{}'.format('sentence_id', 'cand_id','gene_cid', 'gene_span', 'chemical_cid', 'chemical_span', 'sentence')\n",
    "%time KSUtils.save_binary_relation_confusion_matrix_as_tsv('results/gene_chemical_metabolisation.tsv', session, all_cands, all_sents, header_str, 'gene_cid', 'chemical_cid')"
   ]
  },
  {
   "cell_type": "code",
   "execution_count": null,
   "metadata": {},
   "outputs": [],
   "source": [
    "header_str = '{}\\t{}\\t{}\\t{}\\t{}\\t{}\\t{}'.format('document_id', 'sentence_id', 'cand_id','gene_cid', 'gene_span', 'chemical_cid', 'chemical_span')\n",
    "%time KSUtils.save_binary_relation_as_tsv('results/chemical_gene_metabolisation.tsv', session, all_cands, all_sents, header_str, 'gene_cid', 'chemical_cid')"
   ]
  },
  {
   "cell_type": "code",
   "execution_count": 46,
   "metadata": {},
   "outputs": [
    {
     "name": "stdout",
     "output_type": "stream",
     "text": [
      "[LSTM] Model saved as <gene_chemical_metabolism.lstm>\n"
     ]
    }
   ],
   "source": [
    "lstm.save(\"gene_chemical_metabolism.lstm\")"
   ]
  },
  {
   "cell_type": "code",
   "execution_count": null,
   "metadata": {},
   "outputs": [],
   "source": []
  },
  {
   "cell_type": "code",
   "execution_count": null,
   "metadata": {},
   "outputs": [],
   "source": []
  }
 ],
 "metadata": {
  "kernelspec": {
   "display_name": "Python (snorkel)",
   "language": "python",
   "name": "snorkel"
  },
  "language_info": {
   "codemirror_mode": {
    "name": "ipython",
    "version": 3
   },
   "file_extension": ".py",
   "mimetype": "text/x-python",
   "name": "python",
   "nbconvert_exporter": "python",
   "pygments_lexer": "ipython3",
   "version": "3.6.7"
  }
 },
 "nbformat": 4,
 "nbformat_minor": 2
}
