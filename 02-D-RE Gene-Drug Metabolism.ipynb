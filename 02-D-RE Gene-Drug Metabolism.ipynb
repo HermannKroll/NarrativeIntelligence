{
 "cells": [
  {
   "cell_type": "code",
   "execution_count": 1,
   "metadata": {},
   "outputs": [],
   "source": [
    "import os\n",
    "\n",
    "os.environ['SNORKELDB'] = \"postgresql://localhost:5432/snorkel?user=snorkel&password=snorkel12345\""
   ]
  },
  {
   "cell_type": "code",
   "execution_count": 2,
   "metadata": {},
   "outputs": [],
   "source": [
    "%load_ext autoreload\n",
    "%autoreload 2\n",
    "%matplotlib inline\n",
    "\n",
    "from snorkel import SnorkelSession\n",
    "\n",
    "session = SnorkelSession()"
   ]
  },
  {
   "cell_type": "code",
   "execution_count": 3,
   "metadata": {},
   "outputs": [
    {
     "name": "stdout",
     "output_type": "stream",
     "text": [
      "Amount of docs: 9738\n",
      "Document splitted: 3246 train, 3246 dev and 3246 test\n",
      "Amount of sentences: 33895 train, 34340 dev and 34326 test\n"
     ]
    }
   ],
   "source": [
    "from ksnorkel import KSUtils\n",
    "\n",
    "train_sent, dev_sent, test_sent = KSUtils.split_sentences(session)\n",
    "print(\"Amount of sentences: {} train, {} dev and {} test\".format(len(train_sent), len(dev_sent), len(test_sent)))"
   ]
  },
  {
   "cell_type": "code",
   "execution_count": 4,
   "metadata": {},
   "outputs": [
    {
     "name": "stdout",
     "output_type": "stream",
     "text": [
      "Clearing existing...\n"
     ]
    },
    {
     "name": "stderr",
     "output_type": "stream",
     "text": [
      "  0%|          | 29/33895 [00:00<01:59, 283.60it/s]"
     ]
    },
    {
     "name": "stdout",
     "output_type": "stream",
     "text": [
      "Running UDF...\n"
     ]
    },
    {
     "name": "stderr",
     "output_type": "stream",
     "text": [
      "100%|██████████| 33895/33895 [01:19<00:00, 425.37it/s]\n"
     ]
    },
    {
     "name": "stdout",
     "output_type": "stream",
     "text": [
      "Number of candidates: 17935\n",
      "Clearing existing...\n"
     ]
    },
    {
     "name": "stderr",
     "output_type": "stream",
     "text": [
      "  0%|          | 34/34340 [00:00<01:41, 336.80it/s]"
     ]
    },
    {
     "name": "stdout",
     "output_type": "stream",
     "text": [
      "Running UDF...\n"
     ]
    },
    {
     "name": "stderr",
     "output_type": "stream",
     "text": [
      "100%|██████████| 34340/34340 [01:11<00:00, 477.58it/s]\n"
     ]
    },
    {
     "name": "stdout",
     "output_type": "stream",
     "text": [
      "Number of candidates: 16965\n",
      "Clearing existing...\n"
     ]
    },
    {
     "name": "stderr",
     "output_type": "stream",
     "text": [
      "  0%|          | 32/34326 [00:00<01:50, 311.51it/s]"
     ]
    },
    {
     "name": "stdout",
     "output_type": "stream",
     "text": [
      "Running UDF...\n"
     ]
    },
    {
     "name": "stderr",
     "output_type": "stream",
     "text": [
      "100%|██████████| 34326/34326 [01:21<00:00, 421.22it/s]"
     ]
    },
    {
     "name": "stdout",
     "output_type": "stream",
     "text": [
      "Number of candidates: 17138\n"
     ]
    },
    {
     "name": "stderr",
     "output_type": "stream",
     "text": [
      "\n"
     ]
    }
   ],
   "source": [
    "from snorkel.models import Candidate, candidate_subclass\n",
    "from snorkel.candidates import PretaggedCandidateExtractor\n",
    "\n",
    "\n",
    "GeneChemicalMetabolism = candidate_subclass('GeneChemicalMetabolism', ['gene', 'chemical'])\n",
    "candidate_gene_chemical_metabolism_extractor = PretaggedCandidateExtractor(GeneChemicalMetabolism, ['Gene', 'Chemical'])\n",
    "\n",
    "for k, sents in enumerate([train_sent, dev_sent, test_sent]):\n",
    "    candidate_gene_chemical_metabolism_extractor.apply(sents, split=k, clear=True)\n",
    "    print(\"Number of candidates:\", session.query(GeneChemicalMetabolism).filter(GeneChemicalMetabolism.split == k).count())"
   ]
  },
  {
   "cell_type": "code",
   "execution_count": 5,
   "metadata": {},
   "outputs": [
    {
     "name": "stdout",
     "output_type": "stream",
     "text": [
      "588370 chemical-gene assocations read from ChG-CTD_chem_gene_ixns\n",
      "555728 chemical-gene metabolisation read from ChG-CTD_chem_gene_ixns\n"
     ]
    }
   ],
   "source": [
    "import gzip\n",
    "\n",
    "ctd_chem_gene_alternative_interaction = set()\n",
    "ctd_chem_gene_meta = set()\n",
    "with gzip.open('data/CTD_chem_gene_ixns.tsv.gz','r') as f:\n",
    "    for l in f:\n",
    "        line = str(l).replace('b\\'', '').replace('\\\\n\\'', '').replace('\\\\r','')\n",
    "        # skip comments\n",
    "        if line.startswith('#'):\n",
    "            continue\n",
    "        #print(line)\n",
    "        components = line.split('\\\\t')    \n",
    "        # add MESH:\n",
    "        if not components[1].startswith('MESH:'):\n",
    "            components[1] = \"MESH:\" + components[1]\n",
    "            \n",
    "                \n",
    "        chemical = components[1]\n",
    "        gene = components[4]\n",
    "        key = frozenset((chemical, gene))\n",
    "                  \n",
    "        desc = components[8].lower()\n",
    "        if 'metabol' not in desc and 'increas' not in desc:\n",
    "            ctd_chem_gene_alternative_interaction.add(key)\n",
    "            continue\n",
    "            \n",
    "        descTyp = components[9]\n",
    "        if 'increases' not in descTyp and 'affects' not in descTyp:\n",
    "            ctd_chem_gene_alternative_interaction.add(key)\n",
    "            continue\n",
    "        \n",
    "        #che_name = components[0].replace('b\\\"','').replace('(','\\(').replace(')','\\)').lower()\n",
    "        #regex = '{}[^\\]\\[]+meta'.format(che_name)\n",
    "        #regex2 = '{}[^\\]\\[]+decreased activity'.format(che_name)\n",
    "        #if re.search(regex, desc) == None and re.search(regex2, desc) == None:\n",
    "            #print(components[0])\n",
    "            #print(desc)\n",
    "            #print()\n",
    "           # continue\n",
    "\n",
    "        ctd_chem_gene_meta.add(key)\n",
    "\n",
    "print('{} chemical-gene assocations read from ChG-CTD_chem_gene_ixns'.format(len(ctd_chem_gene_alternative_interaction)))\n",
    "print('{} chemical-gene metabolisation read from ChG-CTD_chem_gene_ixns'.format(len(ctd_chem_gene_meta)))\n",
    "\n",
    "def cand_in_chemical_gene_alternative_interaction(c):\n",
    "    key = frozenset((c.chemical_cid, c.gene_cid))\n",
    "    if key in ctd_chem_gene_alternative_interaction:\n",
    "        return 1\n",
    "    return -1\n",
    "\n",
    "def cand_in_chemical_gene_metabolised(c):\n",
    "    key = frozenset((c.chemical_cid, c.gene_cid))\n",
    "    if key in ctd_chem_gene_meta:\n",
    "        return 1\n",
    "    return -1"
   ]
  },
  {
   "cell_type": "code",
   "execution_count": 6,
   "metadata": {},
   "outputs": [],
   "source": [
    "import re\n",
    "from snorkel.lf_helpers import get_tagged_text\n",
    "\n",
    "\n",
    "\n",
    "# List to parenthetical\n",
    "def ltp(x):\n",
    "    return '(' + '|'.join(x) + ')'\n",
    "\n",
    "metabol_keywords = ['metabolising', 'metabolism', 'metabolisation', 'metabolization', \n",
    "                          'increased activity', 'metabolite', 'stimulation',\n",
    "                          'metabol', 'increase', 'stimulate', 'stimulating', 'induce',\n",
    "                          'activate', 'potentiate']\n",
    "\n",
    "def gold_label_function(c):\n",
    "    if cand_in_chemical_gene_metabolised(c) == 1:\n",
    "        if re.search(r'' + ltp(metabol_keywords), get_tagged_text(c), re.I):\n",
    "            return 1\n",
    "        else:\n",
    "            return -1\n",
    "    else:\n",
    "        return -1\n"
   ]
  },
  {
   "cell_type": "code",
   "execution_count": 7,
   "metadata": {},
   "outputs": [
    {
     "name": "stdout",
     "output_type": "stream",
     "text": [
      "Clearing existing gold labels...\n",
      "Adding gold labels to training candidates...\n",
      "Labeld 1741 positive and 16194 negative samples in train\n",
      "Adding gold labels to develop candidates...\n",
      "Labeld 1762 positive and 15203 negative samples in dev\n",
      "Adding gold labels to test candidates...\n",
      "Labeld 1665 positive and 15473 negative samples in test\n",
      "Finished - commiting to database...\n",
      "Commit complete!\n",
      "Labeld 5168 positive and 46870 negative samples\n"
     ]
    }
   ],
   "source": [
    "from ksnorkel import KSUtils\n",
    "\n",
    "KSUtils.add_gold_labels_for_candidates(session, GeneChemicalMetabolism, gold_label_function)"
   ]
  },
  {
   "cell_type": "code",
   "execution_count": 8,
   "metadata": {},
   "outputs": [],
   "source": [
    "import re\n",
    "from snorkel.lf_helpers import (\n",
    "    get_tagged_text,\n",
    "    rule_regex_search_tagged_text,\n",
    "    rule_regex_search_btw_AB,\n",
    "    rule_regex_search_btw_BA,\n",
    "    rule_regex_search_before_A,\n",
    "    rule_regex_search_before_B\n",
    ")\n",
    "\n",
    "\n",
    "\n",
    "\n",
    "# List to parenthetical\n",
    "def ltp(x):\n",
    "    return '(' + '|'.join(x) + ')'\n",
    "\n",
    "\n",
    "metabolisation_samples = ['metabolising', 'metabolism', 'metabolisation', 'metabolization', \n",
    "                          'increased activity', 'metabolite', 'stimulation']\n",
    "\n",
    "def LF_GC_AB_metabolisation_after_AB(c):\n",
    "    return 1 if (re.search(r'{{A}}.{0,100}' + '{{B}}.{0,100}' + ltp(metabolisation_samples) , get_tagged_text(c), re.I) or\n",
    "                re.search(r'{{B}}.{0,100}' + '{{A}}.{0,100}' +ltp(metabolisation_samples) , get_tagged_text(c), re.I)) else 0\n",
    "\n",
    "def LF_GC_metabolisation_before_AB(c):\n",
    "    return 1 if (rule_regex_search_before_A(c,  ltp(metabolisation_samples) + '.{0,100}', 1) and\n",
    "                  rule_regex_search_before_B(c, ltp(metabolisation_samples) + '.{0,100}', 1)) else 0\n",
    "\n",
    "\n",
    "\n",
    "def LF_CG_A_metabolisation_B_far(c):\n",
    "    return rule_regex_search_btw_AB(c, '.{100,500}' + ltp(metabolisation_samples) + '.{100,500}', -1) \n",
    "\n",
    "def LF_GC_B_metabolisation_A_far(c):\n",
    "    return rule_regex_search_btw_BA(c, '.{100,500}' + ltp(metabolisation_samples) + '.{100,500}', -1)\n",
    "\n",
    "def LF_GC_A_metabolisation_B(c):\n",
    "    return rule_regex_search_btw_AB(c, '.{0,100}' + ltp(metabolisation_samples) + '.{0,100}', 1) \n",
    "\n",
    "def LF_GC_B_metabolisation_A(c):\n",
    "    return rule_regex_search_btw_BA(c, '.{0,100}' + ltp(metabolisation_samples) + '.{0,100}', 1)\n",
    "\n",
    "def LG_GC_metabolisation_before_B_near(c):\n",
    "    return rule_regex_search_before_B(c, ltp(metabolisation_samples) + '.{0,100}', 1)\n",
    " \n",
    "def LG_GC_metabolisation_before_B_far(c):\n",
    "    return rule_regex_search_before_B(c, ltp(metabolisation_samples) + '.{100,2000}', -1)\n",
    "\n",
    "\n",
    "\n",
    "\n",
    "metabol_samples = ['metabol', 'increase', 'stimulate', 'stimulating', 'induce', 'activate', 'potentiate']\n",
    "\n",
    "\n",
    "def LF_GC_A_metabol_B_in_sent(c):\n",
    "    return rule_regex_search_btw_AB(c, '.{0,100}' + ltp(metabol_samples) + '.{0,100}', 1) \n",
    "\n",
    "def LF_GC_B_metabol_A_in_sent(c):\n",
    "    return rule_regex_search_btw_AB(c, '.{0,100}' + ltp(metabol_samples) + '.{0,100}', 1) \n",
    "\n",
    "\n",
    "def LF_GC_B_metabolised_A(c):\n",
    "    return rule_regex_search_btw_BA(c, '.{0,100}' + ltp(metabol_samples) + '.{0,100}', 1) \n",
    "\n",
    "\n",
    "\n",
    "not_samples = ['no', 'not']\n",
    "\n",
    "def LF_GC_A_not_metabol_B(c):\n",
    "    return rule_regex_search_btw_AB(c, '.{0,100}' + ltp(not_samples) + '.{0,100}' + ltp(metabol_samples) + '.{0,100}', -1) \n",
    "\n",
    "\n",
    "def LF_GC_B_not_metabolised_A(c):\n",
    "    return rule_regex_search_btw_BA(c, '.{0,100}' + ltp(not_samples) + '.{0,100}' + ltp(metabol_samples) + '.{0,100}', -1) \n",
    "\n",
    "\n",
    "meta_all_words = []\n",
    "meta_all_words.extend(metabol_samples)\n",
    "meta_all_words.extend(metabolisation_samples)\n",
    "     \n",
    "def LF_GC_no_metabol(c):\n",
    "    return -1 if not re.search(r'' + ltp(meta_all_words)  , get_tagged_text(c), re.I) else 0\n",
    "\n",
    "def LF_GC_metabol_in_sent(c):\n",
    "    return 1 if re.search(r'' + ltp(meta_all_words), get_tagged_text(c), re.I) else 0\n",
    "\n",
    "\n",
    "\n",
    "inhibition_samples = [\"inhibitor\", \"inhibition\", \"auto-inhibition\", 'inhibitory', 'suppression']\n",
    "\n",
    "\n",
    "def LF_GC_AB_before_inhibition(c):\n",
    "    return -1 if (re.search(r'{{A}}.{0,100}' + '{{B}}.{0,100}' + 'inhibition' , get_tagged_text(c), re.I) or\n",
    "                re.search(r'{{B}}.{0,100}' + '{{A}}.{0,100}' + 'inhibition' , get_tagged_text(c), re.I)) else 0\n",
    "\n",
    "\n",
    "def LF_GC_A_supressive_effect_B(c):\n",
    "    return -1 if  re.search(r'{{A}}.{0,100} supressive'+ '.{0,100} effect .{0,100}' + '{{A}}' , get_tagged_text(c), re.I) else 0\n",
    "\n",
    "\n",
    "def LF_GC_AB_after_inhibition(c):\n",
    "    return -1 if (rule_regex_search_before_A(c,  ltp(inhibition_samples) + '.{0,100}', 1) and\n",
    "                  rule_regex_search_before_B(c, ltp(inhibition_samples) + '.{0,100}', 1)) else 0\n",
    "\n",
    "def LF_GC_A_inhibition_B(c):\n",
    "    return rule_regex_search_btw_AB(c, '.{0,100}' + ltp(inhibition_samples) + '.{0,100}', -1) \n",
    "\n",
    "def LF_GC_B_inhibition_A(c):\n",
    "    return rule_regex_search_btw_BA(c, '.{0,100}' + ltp(inhibition_samples) + '.{0,100}', -1)\n",
    "\n",
    "def LG_GC_inhibition_before_B_near(c):\n",
    "    return rule_regex_search_before_B(c, ltp(inhibition_samples) + '.{0,100}', -1)\n",
    " \n",
    "\n",
    "\n",
    "inhibits_samples = [\"inhibit\", 'decrease', 'degrees', 'suppress', 'alleviate', 'reduce']\n",
    "\n",
    "def LF_GC_A_inhibitis_B(c):\n",
    "    return rule_regex_search_btw_AB(c, '.{0,100}' + ltp(inhibits_samples) + '.{0,100}', -1) \n",
    "\n",
    "def LF_GC_A_inhibitis_B_close(c):\n",
    "    return rule_regex_search_btw_AB(c, '.{0,50}' + ltp(inhibits_samples) + '.{0,50}', -1) \n",
    "\n",
    "\n",
    "def LF_GC_inhibits_in_sent(c):\n",
    "    return -1 if re.search(r'' + ltp(inhibits_samples)  , get_tagged_text(c), re.I) else 0\n",
    "\n",
    "\n",
    "# prefer meta if both are included\n",
    "def LF_GC_meta_and_inhibts(c):\n",
    "    if LF_GC_inhibits_in_sent(c) == -1 and LF_GC_metabol_in_sent(c) == 1:\n",
    "        return 1\n",
    "    return 0\n",
    "\n",
    "\n",
    "def LF_closer_chem(c):\n",
    "    # Get distance between chemical and gene\n",
    "    chem_start, chem_end = c.chemical.get_word_start(), c.chemical.get_word_end()\n",
    "    gen_start, gen_end = c.gene.get_word_start(), c.gene.get_word_end()\n",
    "    if gen_start < chem_start:\n",
    "        dist = chem_start - gen_end\n",
    "    else:\n",
    "        dist = gen_start - chem_end\n",
    "    # Try to find chemical closer than @dist/2 in either direction\n",
    "    sent = c.get_parent()\n",
    "    closest_other_chem = float('inf')\n",
    "    for i in range(gen_end, min(len(sent.words), gen_end + dist // 2)):\n",
    "        et, cid = sent.entity_types[i], sent.entity_cids[i]\n",
    "        if et == 'Chemical' and cid != sent.entity_cids[chem_start]:\n",
    "            return -1\n",
    "    for i in range(max(0, gen_start - dist // 2), gen_start):\n",
    "        et, cid = sent.entity_types[i], sent.entity_cids[i]\n",
    "        if et == 'Chemical' and cid != sent.entity_cids[chem_start]:\n",
    "            return -1\n",
    "    return 0\n",
    "\n",
    "\n",
    "def LF_closer_gene(c):\n",
    "    # Get distance between chemical and gene\n",
    "    chem_start, chem_end = c.chemical.get_word_start(), c.chemical.get_word_end()\n",
    "    gen_start, gen_end = c.gene.get_word_start(), c.gene.get_word_end()\n",
    "    if gen_start < chem_start:\n",
    "        dist = chem_start - gen_end\n",
    "    else:\n",
    "        dist = gen_start - chem_end\n",
    "    # Try to find gene closer than @dist/8 in either direction\n",
    "    sent = c.get_parent()\n",
    "    for i in range(chem_end, min(len(sent.words), chem_end + dist // 8)):\n",
    "        et, cid = sent.entity_types[i], sent.entity_cids[i]\n",
    "        if et == 'Gene' and cid != sent.entity_cids[gen_start]:\n",
    "            return -1\n",
    "    for i in range(max(0, chem_start - dist // 8), chem_start):\n",
    "        et, cid = sent.entity_types[i], sent.entity_cids[i]\n",
    "        if et == 'Gene' and cid != sent.entity_cids[gen_start]:\n",
    "            return -1\n",
    "    return 0\n",
    "\n",
    "                \n",
    "\n",
    "def LF_CG_inhib_between(c):\n",
    "    # Get distance between chemical and disease\n",
    "    chem_start, chem_end = c.chemical.get_word_start(), c.chemical.get_word_end()\n",
    "    dis_start, dis_end = c.gene.get_word_start(), c.gene.get_word_end()\n",
    "    if dis_start < chem_start:\n",
    "        dist = chem_start - dis_end\n",
    "    else:\n",
    "        dist = dis_start - chem_end\n",
    "    # Try to find metabol closer than @dist/2 in either direction\n",
    "    sent = c.get_parent()\n",
    "    closest_other_chem = float('inf')\n",
    "    for i in range(dis_end, min(len(sent.words), dis_end + dist // 2)):\n",
    "        if re.search(r'' + ltp(inhibits_samples), sent.words[i], re.I):\n",
    "            return -1\n",
    "    for i in range(max(0, dis_start - dist // 2), dis_start):\n",
    "        if re.search(r'' + ltp(inhibits_samples), sent.words[i], re.I):\n",
    "            return -1\n",
    "    return 0\n",
    "\n",
    "\n",
    "    \n",
    "LFs_GC = [\n",
    "    gold_label_function,\n",
    "    \n",
    "    LF_GC_AB_metabolisation_after_AB,\n",
    "    LF_GC_metabolisation_before_AB,\n",
    "    LF_CG_A_metabolisation_B_far,\n",
    "    LF_GC_B_metabolisation_A_far,\n",
    "    LF_GC_A_metabolisation_B,\n",
    "    LF_GC_B_metabolisation_A,\n",
    "    LG_GC_metabolisation_before_B_near,\n",
    "    LG_GC_metabolisation_before_B_far,\n",
    "    LF_GC_A_metabol_B_in_sent,\n",
    "    LF_GC_B_metabol_A_in_sent,\n",
    "    LF_GC_B_metabolised_A,\n",
    "    LF_GC_A_not_metabol_B,\n",
    "    LF_GC_B_not_metabolised_A,\n",
    "    LF_GC_no_metabol,\n",
    "    LF_GC_metabol_in_sent,\n",
    "    LF_GC_AB_before_inhibition,\n",
    "    LF_GC_A_supressive_effect_B,\n",
    "    LF_GC_AB_after_inhibition,\n",
    "    LF_GC_A_inhibition_B,\n",
    "    LF_GC_B_inhibition_A,\n",
    "    LG_GC_inhibition_before_B_near,\n",
    "    LF_GC_A_inhibitis_B,\n",
    "    LF_GC_A_inhibitis_B_close,\n",
    "    LF_GC_inhibits_in_sent,\n",
    "    LF_GC_meta_and_inhibts,\n",
    "    LF_closer_chem,\n",
    "    LF_closer_gene,\n",
    "    LF_CG_inhib_between\n",
    "]"
   ]
  },
  {
   "cell_type": "code",
   "execution_count": 9,
   "metadata": {},
   "outputs": [
    {
     "name": "stderr",
     "output_type": "stream",
     "text": [
      "\r",
      "  0%|          | 0/17935 [00:00<?, ?it/s]"
     ]
    },
    {
     "name": "stdout",
     "output_type": "stream",
     "text": [
      "Clearing existing...\n",
      "Running UDF...\n"
     ]
    },
    {
     "name": "stderr",
     "output_type": "stream",
     "text": [
      "100%|██████████| 17935/17935 [02:44<00:00, 109.00it/s]\n"
     ]
    },
    {
     "name": "stdout",
     "output_type": "stream",
     "text": [
      "CPU times: user 48.9 s, sys: 5.78 s, total: 54.7 s\n",
      "Wall time: 2min 45s\n"
     ]
    },
    {
     "data": {
      "text/plain": [
       "<17935x29 sparse matrix of type '<class 'numpy.int64'>'\n",
       "\twith 62113 stored elements in Compressed Sparse Row format>"
      ]
     },
     "execution_count": 9,
     "metadata": {},
     "output_type": "execute_result"
    }
   ],
   "source": [
    "from snorkel.annotations import LabelAnnotator\n",
    "labeler = LabelAnnotator(lfs=LFs_GC)\n",
    "\n",
    "%time L_train = labeler.apply(lfs=LFs_GC, parallelism=10)\n",
    "L_train"
   ]
  },
  {
   "cell_type": "code",
   "execution_count": 10,
   "metadata": {},
   "outputs": [
    {
     "data": {
      "text/html": [
       "<div>\n",
       "<style scoped>\n",
       "    .dataframe tbody tr th:only-of-type {\n",
       "        vertical-align: middle;\n",
       "    }\n",
       "\n",
       "    .dataframe tbody tr th {\n",
       "        vertical-align: top;\n",
       "    }\n",
       "\n",
       "    .dataframe thead th {\n",
       "        text-align: right;\n",
       "    }\n",
       "</style>\n",
       "<table border=\"1\" class=\"dataframe\">\n",
       "  <thead>\n",
       "    <tr style=\"text-align: right;\">\n",
       "      <th></th>\n",
       "      <th>j</th>\n",
       "      <th>Coverage</th>\n",
       "      <th>Overlaps</th>\n",
       "      <th>Conflicts</th>\n",
       "    </tr>\n",
       "  </thead>\n",
       "  <tbody>\n",
       "    <tr>\n",
       "      <th>gold_label_function</th>\n",
       "      <td>0</td>\n",
       "      <td>1.000000</td>\n",
       "      <td>1.000000</td>\n",
       "      <td>0.318093</td>\n",
       "    </tr>\n",
       "    <tr>\n",
       "      <th>LF_GC_AB_metabolisation_after_AB</th>\n",
       "      <td>1</td>\n",
       "      <td>0.005966</td>\n",
       "      <td>0.005966</td>\n",
       "      <td>0.005185</td>\n",
       "    </tr>\n",
       "    <tr>\n",
       "      <th>LF_GC_metabolisation_before_AB</th>\n",
       "      <td>2</td>\n",
       "      <td>0.000000</td>\n",
       "      <td>0.000000</td>\n",
       "      <td>0.000000</td>\n",
       "    </tr>\n",
       "    <tr>\n",
       "      <th>LF_CG_A_metabolisation_B_far</th>\n",
       "      <td>3</td>\n",
       "      <td>0.000000</td>\n",
       "      <td>0.000000</td>\n",
       "      <td>0.000000</td>\n",
       "    </tr>\n",
       "    <tr>\n",
       "      <th>LF_GC_B_metabolisation_A_far</th>\n",
       "      <td>4</td>\n",
       "      <td>0.000781</td>\n",
       "      <td>0.000781</td>\n",
       "      <td>0.000781</td>\n",
       "    </tr>\n",
       "    <tr>\n",
       "      <th>LF_GC_A_metabolisation_B</th>\n",
       "      <td>5</td>\n",
       "      <td>0.004628</td>\n",
       "      <td>0.004628</td>\n",
       "      <td>0.004014</td>\n",
       "    </tr>\n",
       "    <tr>\n",
       "      <th>LF_GC_B_metabolisation_A</th>\n",
       "      <td>6</td>\n",
       "      <td>0.005687</td>\n",
       "      <td>0.005687</td>\n",
       "      <td>0.004684</td>\n",
       "    </tr>\n",
       "    <tr>\n",
       "      <th>LG_GC_metabolisation_before_B_near</th>\n",
       "      <td>7</td>\n",
       "      <td>0.006022</td>\n",
       "      <td>0.006022</td>\n",
       "      <td>0.005631</td>\n",
       "    </tr>\n",
       "    <tr>\n",
       "      <th>LG_GC_metabolisation_before_B_far</th>\n",
       "      <td>8</td>\n",
       "      <td>0.001951</td>\n",
       "      <td>0.001951</td>\n",
       "      <td>0.001951</td>\n",
       "    </tr>\n",
       "    <tr>\n",
       "      <th>LF_GC_A_metabol_B_in_sent</th>\n",
       "      <td>9</td>\n",
       "      <td>0.031057</td>\n",
       "      <td>0.031057</td>\n",
       "      <td>0.026206</td>\n",
       "    </tr>\n",
       "    <tr>\n",
       "      <th>LF_GC_B_metabol_A_in_sent</th>\n",
       "      <td>10</td>\n",
       "      <td>0.031057</td>\n",
       "      <td>0.031057</td>\n",
       "      <td>0.026206</td>\n",
       "    </tr>\n",
       "    <tr>\n",
       "      <th>LF_GC_B_metabolised_A</th>\n",
       "      <td>11</td>\n",
       "      <td>0.088598</td>\n",
       "      <td>0.088598</td>\n",
       "      <td>0.076498</td>\n",
       "    </tr>\n",
       "    <tr>\n",
       "      <th>LF_GC_A_not_metabol_B</th>\n",
       "      <td>12</td>\n",
       "      <td>0.002063</td>\n",
       "      <td>0.002063</td>\n",
       "      <td>0.002063</td>\n",
       "    </tr>\n",
       "    <tr>\n",
       "      <th>LF_GC_B_not_metabolised_A</th>\n",
       "      <td>13</td>\n",
       "      <td>0.007694</td>\n",
       "      <td>0.007694</td>\n",
       "      <td>0.007694</td>\n",
       "    </tr>\n",
       "    <tr>\n",
       "      <th>LF_GC_no_metabol</th>\n",
       "      <td>14</td>\n",
       "      <td>0.645721</td>\n",
       "      <td>0.645721</td>\n",
       "      <td>0.000000</td>\n",
       "    </tr>\n",
       "    <tr>\n",
       "      <th>LF_GC_metabol_in_sent</th>\n",
       "      <td>15</td>\n",
       "      <td>0.354279</td>\n",
       "      <td>0.354279</td>\n",
       "      <td>0.318093</td>\n",
       "    </tr>\n",
       "    <tr>\n",
       "      <th>LF_GC_AB_before_inhibition</th>\n",
       "      <td>16</td>\n",
       "      <td>0.013437</td>\n",
       "      <td>0.013437</td>\n",
       "      <td>0.006468</td>\n",
       "    </tr>\n",
       "    <tr>\n",
       "      <th>LF_GC_A_supressive_effect_B</th>\n",
       "      <td>17</td>\n",
       "      <td>0.000000</td>\n",
       "      <td>0.000000</td>\n",
       "      <td>0.000000</td>\n",
       "    </tr>\n",
       "    <tr>\n",
       "      <th>LF_GC_AB_after_inhibition</th>\n",
       "      <td>18</td>\n",
       "      <td>0.000000</td>\n",
       "      <td>0.000000</td>\n",
       "      <td>0.000000</td>\n",
       "    </tr>\n",
       "    <tr>\n",
       "      <th>LF_GC_A_inhibition_B</th>\n",
       "      <td>19</td>\n",
       "      <td>0.032172</td>\n",
       "      <td>0.032172</td>\n",
       "      <td>0.008810</td>\n",
       "    </tr>\n",
       "    <tr>\n",
       "      <th>LF_GC_B_inhibition_A</th>\n",
       "      <td>20</td>\n",
       "      <td>0.034235</td>\n",
       "      <td>0.034235</td>\n",
       "      <td>0.011486</td>\n",
       "    </tr>\n",
       "    <tr>\n",
       "      <th>LG_GC_inhibition_before_B_near</th>\n",
       "      <td>21</td>\n",
       "      <td>0.031503</td>\n",
       "      <td>0.031503</td>\n",
       "      <td>0.012378</td>\n",
       "    </tr>\n",
       "    <tr>\n",
       "      <th>LF_GC_A_inhibitis_B</th>\n",
       "      <td>22</td>\n",
       "      <td>0.053861</td>\n",
       "      <td>0.053861</td>\n",
       "      <td>0.019961</td>\n",
       "    </tr>\n",
       "    <tr>\n",
       "      <th>LF_GC_A_inhibitis_B_close</th>\n",
       "      <td>23</td>\n",
       "      <td>0.030109</td>\n",
       "      <td>0.030109</td>\n",
       "      <td>0.010036</td>\n",
       "    </tr>\n",
       "    <tr>\n",
       "      <th>LF_GC_inhibits_in_sent</th>\n",
       "      <td>24</td>\n",
       "      <td>0.377976</td>\n",
       "      <td>0.377976</td>\n",
       "      <td>0.158517</td>\n",
       "    </tr>\n",
       "    <tr>\n",
       "      <th>LF_GC_meta_and_inhibts</th>\n",
       "      <td>25</td>\n",
       "      <td>0.158517</td>\n",
       "      <td>0.158517</td>\n",
       "      <td>0.158517</td>\n",
       "    </tr>\n",
       "    <tr>\n",
       "      <th>LF_closer_chem</th>\n",
       "      <td>26</td>\n",
       "      <td>0.336772</td>\n",
       "      <td>0.336772</td>\n",
       "      <td>0.116142</td>\n",
       "    </tr>\n",
       "    <tr>\n",
       "      <th>LF_closer_gene</th>\n",
       "      <td>27</td>\n",
       "      <td>0.030722</td>\n",
       "      <td>0.030722</td>\n",
       "      <td>0.008642</td>\n",
       "    </tr>\n",
       "    <tr>\n",
       "      <th>LF_CG_inhib_between</th>\n",
       "      <td>28</td>\n",
       "      <td>0.178422</td>\n",
       "      <td>0.178422</td>\n",
       "      <td>0.069306</td>\n",
       "    </tr>\n",
       "  </tbody>\n",
       "</table>\n",
       "</div>"
      ],
      "text/plain": [
       "                                     j  Coverage  Overlaps  Conflicts\n",
       "gold_label_function                  0  1.000000  1.000000   0.318093\n",
       "LF_GC_AB_metabolisation_after_AB     1  0.005966  0.005966   0.005185\n",
       "LF_GC_metabolisation_before_AB       2  0.000000  0.000000   0.000000\n",
       "LF_CG_A_metabolisation_B_far         3  0.000000  0.000000   0.000000\n",
       "LF_GC_B_metabolisation_A_far         4  0.000781  0.000781   0.000781\n",
       "LF_GC_A_metabolisation_B             5  0.004628  0.004628   0.004014\n",
       "LF_GC_B_metabolisation_A             6  0.005687  0.005687   0.004684\n",
       "LG_GC_metabolisation_before_B_near   7  0.006022  0.006022   0.005631\n",
       "LG_GC_metabolisation_before_B_far    8  0.001951  0.001951   0.001951\n",
       "LF_GC_A_metabol_B_in_sent            9  0.031057  0.031057   0.026206\n",
       "LF_GC_B_metabol_A_in_sent           10  0.031057  0.031057   0.026206\n",
       "LF_GC_B_metabolised_A               11  0.088598  0.088598   0.076498\n",
       "LF_GC_A_not_metabol_B               12  0.002063  0.002063   0.002063\n",
       "LF_GC_B_not_metabolised_A           13  0.007694  0.007694   0.007694\n",
       "LF_GC_no_metabol                    14  0.645721  0.645721   0.000000\n",
       "LF_GC_metabol_in_sent               15  0.354279  0.354279   0.318093\n",
       "LF_GC_AB_before_inhibition          16  0.013437  0.013437   0.006468\n",
       "LF_GC_A_supressive_effect_B         17  0.000000  0.000000   0.000000\n",
       "LF_GC_AB_after_inhibition           18  0.000000  0.000000   0.000000\n",
       "LF_GC_A_inhibition_B                19  0.032172  0.032172   0.008810\n",
       "LF_GC_B_inhibition_A                20  0.034235  0.034235   0.011486\n",
       "LG_GC_inhibition_before_B_near      21  0.031503  0.031503   0.012378\n",
       "LF_GC_A_inhibitis_B                 22  0.053861  0.053861   0.019961\n",
       "LF_GC_A_inhibitis_B_close           23  0.030109  0.030109   0.010036\n",
       "LF_GC_inhibits_in_sent              24  0.377976  0.377976   0.158517\n",
       "LF_GC_meta_and_inhibts              25  0.158517  0.158517   0.158517\n",
       "LF_closer_chem                      26  0.336772  0.336772   0.116142\n",
       "LF_closer_gene                      27  0.030722  0.030722   0.008642\n",
       "LF_CG_inhib_between                 28  0.178422  0.178422   0.069306"
      ]
     },
     "execution_count": 10,
     "metadata": {},
     "output_type": "execute_result"
    }
   ],
   "source": [
    "L_train.lf_stats(session)"
   ]
  },
  {
   "cell_type": "code",
   "execution_count": 11,
   "metadata": {},
   "outputs": [
    {
     "name": "stdout",
     "output_type": "stream",
     "text": [
      "Inferred cardinality: 2\n"
     ]
    }
   ],
   "source": [
    "from snorkel.learning import GenerativeModel\n",
    "\n",
    "gen_model = GenerativeModel()\n",
    "gen_model.train(L_train, epochs=100, decay=0.95, step_size=0.1 / L_train.shape[0], reg_param=1e-6)\n",
    "train_marginals = gen_model.marginals(L_train)"
   ]
  },
  {
   "cell_type": "code",
   "execution_count": 12,
   "metadata": {},
   "outputs": [
    {
     "data": {
      "image/png": "[encoded data removed]",
      "text/plain": [
       "<Figure size 432x288 with 1 Axes>"
      ]
     },
     "metadata": {
      "needs_background": "light"
     },
     "output_type": "display_data"
    }
   ],
   "source": [
    "import matplotlib.pyplot as plt\n",
    "plt.hist(train_marginals, bins=20)\n",
    "plt.show()"
   ]
  },
  {
   "cell_type": "code",
   "execution_count": 13,
   "metadata": {},
   "outputs": [
    {
     "name": "stderr",
     "output_type": "stream",
     "text": [
      "  0%|          | 2/16965 [00:00<15:55, 17.75it/s]"
     ]
    },
    {
     "name": "stdout",
     "output_type": "stream",
     "text": [
      "Clearing existing...\n",
      "Running UDF...\n"
     ]
    },
    {
     "name": "stderr",
     "output_type": "stream",
     "text": [
      "100%|██████████| 16965/16965 [05:54<00:00, 47.82it/s]\n",
      "  0%|          | 0/17138 [00:00<?, ?it/s]"
     ]
    },
    {
     "name": "stdout",
     "output_type": "stream",
     "text": [
      "Clearing existing...\n",
      "Running UDF...\n"
     ]
    },
    {
     "name": "stderr",
     "output_type": "stream",
     "text": [
      "100%|██████████| 17138/17138 [05:54<00:00, 48.37it/s]\n"
     ]
    }
   ],
   "source": [
    "from snorkel.annotations import load_gold_labels\n",
    "\n",
    "L_dev = labeler.apply_existing(split=1)\n",
    "L_test = labeler.apply_existing(split=2)\n",
    "L_gold_dev = load_gold_labels(session, annotator_name='gold',split=1)\n",
    "L_gold_test = load_gold_labels(session, annotator_name='gold', split=2)"
   ]
  },
  {
   "cell_type": "code",
   "execution_count": 14,
   "metadata": {},
   "outputs": [],
   "source": [
    "#from snorkel.learning import GenerativeModel\n",
    "#from snorkel.learning import RandomSearch\n",
    "#from snorkel.learning.structure import DependencySelector\n",
    "\n",
    "\n",
    "#MAX_DEPS = 5\n",
    "\n",
    "#ds = DependencySelector()\n",
    "#deps = ds.select(L_train, threshold=0.1)\n",
    "#deps = set(list(deps)[0:min(len(deps), MAX_DEPS)])\n",
    "\n",
    "#print(\"Using {} dependencies\".format(len(deps)))\n",
    "\n",
    "\n",
    "\n",
    "# use random search to optimize the generative model\n",
    "#param_grid = {\n",
    "#    'step_size' : [1e-3, 1e-4, 1e-5, 1e-6],\n",
    "#    'decay'     : [0.9, 0.95],\n",
    "#    'epochs'    : [50,100,150],\n",
    "#    'reg_param' : [1e-3],\n",
    "#}\n",
    "\n",
    "#model_class_params = {'lf_propensity' : False }#, 'deps': deps}\n",
    "\n",
    "#searcher = RandomSearch(GenerativeModel, param_grid, L_train, n=10, model_class_params=model_class_params)\n",
    "#%time gen_model, run_stats = searcher.fit(L_dev, L_gold_dev) #, deps=deps)\n",
    "#run_stats"
   ]
  },
  {
   "cell_type": "code",
   "execution_count": 15,
   "metadata": {},
   "outputs": [],
   "source": [
    "train_marginals = gen_model.marginals(L_train)"
   ]
  },
  {
   "cell_type": "code",
   "execution_count": 16,
   "metadata": {},
   "outputs": [
    {
     "data": {
      "image/png": "[encoded data removed]",
      "text/plain": [
       "<Figure size 432x288 with 1 Axes>"
      ]
     },
     "metadata": {
      "needs_background": "light"
     },
     "output_type": "display_data"
    }
   ],
   "source": [
    "import matplotlib.pyplot as plt\n",
    "plt.hist(train_marginals, bins=20)\n",
    "plt.show()"
   ]
  },
  {
   "cell_type": "code",
   "execution_count": 17,
   "metadata": {},
   "outputs": [
    {
     "name": "stdout",
     "output_type": "stream",
     "text": [
      "========================================\n",
      "Scores (Un-adjusted)\n",
      "========================================\n",
      "Pos. class accuracy: 0.998\n",
      "Neg. class accuracy: 1.0\n",
      "Precision            1.0\n",
      "Recall               0.998\n",
      "F1                   0.999\n",
      "----------------------------------------\n",
      "TP: 1758 | FP: 0 | TN: 15203 | FN: 4\n",
      "========================================\n",
      "\n",
      "Saved 17935 marginals\n",
      "CPU times: user 14.7 s, sys: 848 ms, total: 15.5 s\n",
      "Wall time: 22.8 s\n"
     ]
    }
   ],
   "source": [
    "from snorkel.annotations import save_marginals\n",
    "\n",
    "dev_marginals = gen_model.marginals(L_dev)\n",
    "_, _, _, _ = gen_model.error_analysis(session, L_dev, L_gold_dev)\n",
    "\n",
    "%time save_marginals(session, L_train, train_marginals)"
   ]
  },
  {
   "cell_type": "code",
   "execution_count": 18,
   "metadata": {},
   "outputs": [
    {
     "name": "stdout",
     "output_type": "stream",
     "text": [
      "========================================\n",
      "Scores (Un-adjusted)\n",
      "========================================\n",
      "Pos. class accuracy: 0.998\n",
      "Neg. class accuracy: 1.0\n",
      "Precision            1.0\n",
      "Recall               0.998\n",
      "F1                   0.999\n",
      "----------------------------------------\n",
      "TP: 1661 | FP: 0 | TN: 15473 | FN: 4\n",
      "========================================\n",
      "\n"
     ]
    }
   ],
   "source": [
    "tp, fp, tn, fn = gen_model.error_analysis(session, L_test, L_gold_test)"
   ]
  },
  {
   "cell_type": "code",
   "execution_count": 19,
   "metadata": {},
   "outputs": [
    {
     "name": "stdout",
     "output_type": "stream",
     "text": [
      "Load all ChemicalGeneMetabolism candidates from db...\n",
      "17935 16965 17138\n",
      "Amount of all candidates: 52038\n"
     ]
    }
   ],
   "source": [
    "print(\"Load all ChemicalGeneMetabolism candidates from db...\")\n",
    "train_cands = session.query(GeneChemicalMetabolism).filter(GeneChemicalMetabolism.split == 0).order_by(GeneChemicalMetabolism.id).all()\n",
    "dev_cands   = session.query(GeneChemicalMetabolism).filter(GeneChemicalMetabolism.split == 1).order_by(GeneChemicalMetabolism.id).all()\n",
    "test_cands  = session.query(GeneChemicalMetabolism).filter(GeneChemicalMetabolism.split == 2).order_by(GeneChemicalMetabolism.id).all()\n",
    "\n",
    "\n",
    "all_cands = []\n",
    "all_cands.extend(train_cands)\n",
    "all_cands.extend(dev_cands)\n",
    "all_cands.extend(test_cands)\n",
    "\n",
    "\n",
    "print(\"{} {} {}\".format(len(train_cands), len(dev_cands), len(test_cands)))\n",
    "print(\"Amount of all candidates: {}\".format(len(all_cands)))"
   ]
  },
  {
   "cell_type": "code",
   "execution_count": 20,
   "metadata": {},
   "outputs": [],
   "source": [
    "from snorkel.learning.pytorch import LSTM\n",
    "from snorkel.annotations import load_gold_labels\n",
    "import torch\n",
    "import torch.nn as nn\n",
    "\n",
    "#train_kwargs = #{\n",
    "#    'lr':            0.01,#\n",
    "#    'embedding_dim': 75,\n",
    "#    'hidden_dim':    75,\n",
    "#    'n_epochs':      1,\n",
    "#    'dropout':       0.25,\n",
    "#    'seed':          1701\n",
    "#}\n",
    "\n",
    "train_kwargs = {\n",
    "    'lr':            0.0010,\n",
    "    'embedding_dim': 50,\n",
    "    'hidden_dim':    50,\n",
    "    'n_epochs':      100,\n",
    "    'dropout':       0.25,\n",
    "    'rebalance':     0.0,\n",
    "    'seed':          1701\n",
    "}\n",
    "\n",
    "\n",
    "lstm = LSTM(n_threads=10)\n",
    "#lstm.loss = torch.nn.KLDivLoss()"
   ]
  },
  {
   "cell_type": "code",
   "execution_count": 21,
   "metadata": {},
   "outputs": [
    {
     "name": "stdout",
     "output_type": "stream",
     "text": [
      "[LSTM] Training model\n",
      "[LSTM] n_train=17935  #epochs=100  batch size=64\n",
      "[LSTM] Epoch 2 (358.63s)\tAverage loss=0.232036\tDev F1=6.44\n",
      "[LSTM] Epoch 3 (566.01s)\tAverage loss=0.184860\tDev F1=13.17\n",
      "[LSTM] Epoch 4 (787.77s)\tAverage loss=0.157966\tDev F1=21.35\n",
      "[LSTM] Epoch 5 (1029.02s)\tAverage loss=0.144116\tDev F1=23.90\n",
      "[LSTM] Epoch 6 (1261.55s)\tAverage loss=0.135454\tDev F1=19.49\n",
      "[LSTM] Epoch 7 (1456.80s)\tAverage loss=0.128556\tDev F1=19.61\n",
      "[LSTM] Epoch 8 (1692.27s)\tAverage loss=0.121851\tDev F1=22.68\n",
      "[LSTM] Epoch 9 (1936.39s)\tAverage loss=0.117481\tDev F1=30.09\n",
      "[LSTM] Epoch 10 (2190.59s)\tAverage loss=0.111779\tDev F1=26.40\n",
      "[LSTM] Epoch 11 (2443.98s)\tAverage loss=0.108313\tDev F1=30.63\n",
      "[LSTM] Epoch 12 (2702.06s)\tAverage loss=0.105575\tDev F1=25.53\n",
      "[LSTM] Epoch 13 (2960.77s)\tAverage loss=0.104372\tDev F1=27.98\n",
      "[LSTM] Epoch 14 (3221.30s)\tAverage loss=0.094917\tDev F1=25.92\n",
      "[LSTM] Epoch 15 (3482.62s)\tAverage loss=0.094921\tDev F1=27.43\n",
      "[LSTM] Epoch 16 (3742.67s)\tAverage loss=0.090938\tDev F1=27.74\n",
      "[LSTM] Epoch 17 (4003.40s)\tAverage loss=0.086651\tDev F1=21.87\n",
      "[LSTM] Epoch 18 (4261.04s)\tAverage loss=0.087835\tDev F1=29.82\n",
      "[LSTM] Epoch 19 (4505.13s)\tAverage loss=0.083419\tDev F1=30.03\n",
      "[LSTM] Epoch 20 (4749.47s)\tAverage loss=0.080027\tDev F1=29.44\n",
      "[LSTM] Epoch 21 (4993.45s)\tAverage loss=0.080694\tDev F1=26.37\n",
      "[LSTM] Epoch 22 (5237.99s)\tAverage loss=0.080307\tDev F1=27.00\n",
      "[LSTM] Epoch 23 (5484.68s)\tAverage loss=0.080208\tDev F1=30.99\n",
      "[LSTM] Epoch 24 (5731.46s)\tAverage loss=0.077418\tDev F1=28.26\n",
      "[LSTM] Epoch 25 (5979.16s)\tAverage loss=0.074663\tDev F1=27.37\n",
      "[LSTM] Epoch 26 (6225.79s)\tAverage loss=0.073297\tDev F1=25.40\n",
      "[LSTM] Epoch 27 (6465.09s)\tAverage loss=0.074001\tDev F1=30.77\n",
      "[LSTM] Epoch 28 (6665.55s)\tAverage loss=0.074643\tDev F1=30.41\n",
      "[LSTM] Epoch 29 (6870.88s)\tAverage loss=0.079863\tDev F1=30.27\n",
      "[LSTM] Epoch 30 (7084.16s)\tAverage loss=0.077730\tDev F1=28.69\n",
      "[LSTM] Epoch 31 (7290.21s)\tAverage loss=0.074162\tDev F1=24.20\n",
      "[LSTM] Epoch 32 (7534.89s)\tAverage loss=0.074342\tDev F1=28.56\n",
      "[LSTM] Epoch 33 (7780.85s)\tAverage loss=0.072069\tDev F1=30.59\n",
      "[LSTM] Epoch 34 (8025.98s)\tAverage loss=0.069119\tDev F1=27.15\n",
      "[LSTM] Epoch 35 (8271.31s)\tAverage loss=0.068878\tDev F1=28.39\n",
      "[LSTM] Epoch 36 (8519.32s)\tAverage loss=0.070033\tDev F1=25.01\n",
      "[LSTM] Epoch 37 (8772.68s)\tAverage loss=0.068897\tDev F1=26.68\n",
      "[LSTM] Epoch 38 (9033.82s)\tAverage loss=0.068960\tDev F1=29.56\n",
      "[LSTM] Epoch 39 (9279.98s)\tAverage loss=0.068720\tDev F1=33.13\n",
      "[LSTM] Epoch 40 (9526.15s)\tAverage loss=0.068058\tDev F1=32.02\n",
      "[LSTM] Epoch 41 (9769.57s)\tAverage loss=0.067742\tDev F1=31.62\n",
      "[LSTM] Epoch 42 (10012.98s)\tAverage loss=0.066950\tDev F1=37.18\n",
      "[LSTM] Epoch 43 (10261.05s)\tAverage loss=0.069175\tDev F1=27.55\n",
      "[LSTM] Epoch 44 (10483.38s)\tAverage loss=0.072775\tDev F1=30.25\n",
      "[LSTM] Epoch 45 (10682.28s)\tAverage loss=0.071901\tDev F1=29.87\n",
      "[LSTM] Epoch 46 (10881.93s)\tAverage loss=0.067160\tDev F1=29.28\n",
      "[LSTM] Epoch 47 (11087.04s)\tAverage loss=0.065612\tDev F1=30.53\n",
      "[LSTM] Epoch 48 (11290.39s)\tAverage loss=0.066938\tDev F1=26.83\n",
      "[LSTM] Epoch 49 (11493.46s)\tAverage loss=0.065104\tDev F1=29.96\n",
      "[LSTM] Epoch 50 (11698.30s)\tAverage loss=0.064739\tDev F1=29.60\n",
      "[LSTM] Epoch 51 (11900.56s)\tAverage loss=0.063721\tDev F1=28.70\n",
      "[LSTM] Epoch 52 (12099.30s)\tAverage loss=0.064055\tDev F1=28.86\n",
      "[LSTM] Epoch 53 (12328.37s)\tAverage loss=0.068472\tDev F1=28.92\n",
      "[LSTM] Epoch 54 (12570.49s)\tAverage loss=0.070828\tDev F1=28.48\n",
      "[LSTM] Epoch 55 (12815.55s)\tAverage loss=0.065994\tDev F1=31.76\n",
      "[LSTM] Epoch 56 (13018.25s)\tAverage loss=0.064447\tDev F1=30.77\n",
      "[LSTM] Epoch 57 (13221.12s)\tAverage loss=0.063436\tDev F1=33.26\n",
      "[LSTM] Epoch 58 (13420.83s)\tAverage loss=0.062389\tDev F1=34.17\n",
      "[LSTM] Epoch 59 (13624.48s)\tAverage loss=0.065093\tDev F1=29.41\n",
      "[LSTM] Epoch 60 (13824.28s)\tAverage loss=0.063244\tDev F1=29.38\n",
      "[LSTM] Epoch 61 (14038.27s)\tAverage loss=0.061734\tDev F1=31.35\n",
      "[LSTM] Epoch 62 (14250.02s)\tAverage loss=0.062289\tDev F1=31.65\n",
      "[LSTM] Epoch 63 (14461.82s)\tAverage loss=0.065233\tDev F1=30.84\n",
      "[LSTM] Epoch 64 (14658.60s)\tAverage loss=0.062312\tDev F1=30.01\n",
      "[LSTM] Epoch 65 (14861.79s)\tAverage loss=0.063386\tDev F1=27.31\n",
      "[LSTM] Epoch 66 (15066.13s)\tAverage loss=0.064111\tDev F1=27.01\n",
      "[LSTM] Epoch 67 (15266.59s)\tAverage loss=0.063233\tDev F1=29.29\n",
      "[LSTM] Epoch 68 (15468.12s)\tAverage loss=0.061957\tDev F1=28.75\n",
      "[LSTM] Epoch 69 (15671.23s)\tAverage loss=0.061934\tDev F1=30.33\n",
      "[LSTM] Epoch 70 (15869.00s)\tAverage loss=0.061955\tDev F1=36.64\n",
      "[LSTM] Epoch 71 (16067.85s)\tAverage loss=0.062903\tDev F1=28.44\n",
      "[LSTM] Epoch 72 (16272.79s)\tAverage loss=0.063343\tDev F1=26.86\n",
      "[LSTM] Epoch 73 (16473.86s)\tAverage loss=0.062281\tDev F1=30.75\n",
      "[LSTM] Epoch 74 (16680.27s)\tAverage loss=0.060790\tDev F1=28.37\n",
      "[LSTM] Epoch 75 (16880.92s)\tAverage loss=0.060491\tDev F1=29.95\n",
      "[LSTM] Epoch 76 (17080.30s)\tAverage loss=0.060472\tDev F1=33.94\n",
      "[LSTM] Epoch 77 (17278.59s)\tAverage loss=0.069647\tDev F1=31.39\n",
      "[LSTM] Model saved as <LSTM>\n",
      "[LSTM] Epoch 78 (17476.48s)\tAverage loss=0.063558\tDev F1=27.95\n",
      "[LSTM] Epoch 79 (17685.40s)\tAverage loss=0.062115\tDev F1=27.64\n",
      "[LSTM] Epoch 80 (17938.10s)\tAverage loss=0.060748\tDev F1=31.09\n",
      "[LSTM] Epoch 81 (18180.50s)\tAverage loss=0.061154\tDev F1=30.12\n",
      "[LSTM] Epoch 82 (18425.44s)\tAverage loss=0.060853\tDev F1=30.34\n",
      "[LSTM] Epoch 83 (18690.73s)\tAverage loss=0.060488\tDev F1=31.17\n",
      "[LSTM] Epoch 84 (18980.54s)\tAverage loss=0.059708\tDev F1=31.59\n",
      "[LSTM] Model saved as <LSTM>\n",
      "[LSTM] Epoch 85 (19269.77s)\tAverage loss=0.059181\tDev F1=30.81\n",
      "[LSTM] Epoch 86 (19523.92s)\tAverage loss=0.059332\tDev F1=31.33\n",
      "[LSTM] Epoch 87 (19784.75s)\tAverage loss=0.059544\tDev F1=30.73\n",
      "[LSTM] Epoch 88 (20068.95s)\tAverage loss=0.059302\tDev F1=26.37\n",
      "[LSTM] Epoch 89 (20325.05s)\tAverage loss=0.059864\tDev F1=31.56\n",
      "[LSTM] Epoch 90 (20588.71s)\tAverage loss=0.059514\tDev F1=31.14\n",
      "[LSTM] Epoch 91 (20842.98s)\tAverage loss=0.060582\tDev F1=30.45\n",
      "[LSTM] Epoch 92 (21106.54s)\tAverage loss=0.063881\tDev F1=30.41\n",
      "[LSTM] Epoch 93 (21361.63s)\tAverage loss=0.065860\tDev F1=31.69\n",
      "[LSTM] Model saved as <LSTM>\n",
      "[LSTM] Epoch 94 (21616.94s)\tAverage loss=0.064771\tDev F1=32.22\n",
      "[LSTM] Model saved as <LSTM>\n",
      "[LSTM] Epoch 95 (21874.67s)\tAverage loss=0.060845\tDev F1=30.83\n",
      "[LSTM] Epoch 96 (22132.93s)\tAverage loss=0.060963\tDev F1=31.49\n",
      "[LSTM] Epoch 97 (22389.57s)\tAverage loss=0.060075\tDev F1=30.77\n",
      "[LSTM] Epoch 98 (22644.24s)\tAverage loss=0.059603\tDev F1=31.53\n",
      "[LSTM] Epoch 99 (22906.72s)\tAverage loss=0.059550\tDev F1=30.90\n",
      "[LSTM] Epoch 100 (23165.23s)\tAverage loss=0.059081\tDev F1=30.21\n",
      "[LSTM] Training done (23213.15s)\n",
      "[LSTM] Loaded model <LSTM>\n"
     ]
    }
   ],
   "source": [
    "lstm.train(train_cands, train_marginals, X_dev=dev_cands, Y_dev=L_gold_dev, **train_kwargs)"
   ]
  },
  {
   "cell_type": "code",
   "execution_count": 22,
   "metadata": {},
   "outputs": [
    {
     "name": "stdout",
     "output_type": "stream",
     "text": [
      "========================================\n",
      "Scores (Un-adjusted)\n",
      "========================================\n",
      "Pos. class accuracy: 0.247\n",
      "Neg. class accuracy: 0.959\n",
      "Precision            0.393\n",
      "Recall               0.247\n",
      "F1                   0.304\n",
      "----------------------------------------\n",
      "TP: 412 | FP: 637 | TN: 14836 | FN: 1253\n",
      "========================================\n",
      "\n"
     ]
    }
   ],
   "source": [
    "tp, fp, tn, fn = lstm.error_analysis(session, test_cands, L_gold_test)"
   ]
  },
  {
   "cell_type": "code",
   "execution_count": 23,
   "metadata": {},
   "outputs": [
    {
     "name": "stdout",
     "output_type": "stream",
     "text": [
      "Prec: 0.393, Recall: 0.247, F1 Score: 0.304\n"
     ]
    }
   ],
   "source": [
    "p, r, f1 = lstm.score(test_cands, L_gold_test)\n",
    "print(\"Prec: {0:.3f}, Recall: {1:.3f}, F1 Score: {2:.3f}\".format(p, r, f1))"
   ]
  },
  {
   "cell_type": "code",
   "execution_count": 25,
   "metadata": {},
   "outputs": [
    {
     "name": "stdout",
     "output_type": "stream",
     "text": [
      "Saved 52038 marginals\n"
     ]
    }
   ],
   "source": [
    "lstm.save_marginals(session, all_cands)"
   ]
  },
  {
   "cell_type": "code",
   "execution_count": 26,
   "metadata": {},
   "outputs": [
    {
     "name": "stdout",
     "output_type": "stream",
     "text": [
      "Storing candidate labels into result file...\n",
      "Amount of candidates: 52038\n"
     ]
    }
   ],
   "source": [
    "from snorkel.models.candidate import Marginal\n",
    "from snorkel.models import Document, Sentence\n",
    "\n",
    "\n",
    "print(\"Storing candidate labels into result file...\")\n",
    "amount_of_candidates = session.query(Candidate).count()\n",
    "print(\"Amount of candidates: {}\".format(amount_of_candidates))\n",
    "\n",
    "all_sents = []\n",
    "all_sents.extend(train_sent)\n",
    "all_sents.extend(dev_sent)\n",
    "all_sents.extend(test_sent)\n"
   ]
  },
  {
   "cell_type": "code",
   "execution_count": 27,
   "metadata": {},
   "outputs": [
    {
     "name": "stdout",
     "output_type": "stream",
     "text": [
      "Storing candidate labels into result file: results/gene_chemical_metabolisation.tsv\n",
      "Amount of candidates: 52038\n",
      "Load mariginals from db...\n",
      "Marginals loaded!\n",
      "Load gold labels from db...\n",
      "Gold labels loaded!\n",
      "Start writing files...\n",
      "Saved 2546 TP, 1283 FP, 45587 TN, 2622 FN facts in files.\n",
      "CPU times: user 1min 48s, sys: 3.95 s, total: 1min 52s\n",
      "Wall time: 2min 13s\n"
     ]
    }
   ],
   "source": [
    "header_str = '{}\\t{}\\t{}\\t{}\\t{}\\t{}\\t{}'.format('sentence_id', 'cand_id','gene_cid', 'gene_span', 'chemical_cid', 'chemical_span', 'sentence')\n",
    "%time KSUtils.save_binary_relation_confusion_matrix_as_tsv('results/gene_chemical_metabolisation.tsv', session, all_cands, all_sents, header_str, 'gene_cid', 'chemical_cid')"
   ]
  },
  {
   "cell_type": "code",
   "execution_count": 28,
   "metadata": {},
   "outputs": [
    {
     "name": "stdout",
     "output_type": "stream",
     "text": [
      "Storing candidate labels into result file: results/chemical_gene_metabolism.tsv\n",
      "Amount of candidates: 52038\n",
      "Load mariginals from db...\n",
      "Marginals loaded!\n",
      "Building sentence to document map...\n",
      "Map built!\n",
      "Saved 3829 positive predicitions for binary relation!\n",
      "CPU times: user 1min 30s, sys: 2.92 s, total: 1min 33s\n",
      "Wall time: 1min 53s\n"
     ]
    }
   ],
   "source": [
    "header_str = '{}\\t{}\\t{}\\t{}\\t{}\\t{}\\t{}'.format('document_id', 'sentence_id', 'cand_id','gene_cid', 'gene_span', 'chemical_cid', 'chemical_span')\n",
    "%time KSUtils.save_binary_relation_as_tsv('results/chemical_gene_metabolism.tsv', session, all_cands, all_sents, header_str, 'gene_cid', 'chemical_cid')"
   ]
  },
  {
   "cell_type": "code",
   "execution_count": 29,
   "metadata": {},
   "outputs": [
    {
     "name": "stdout",
     "output_type": "stream",
     "text": [
      "[LSTM] Model saved as <gene_chemical_metabolism.lstm>\n"
     ]
    }
   ],
   "source": [
    "lstm.save(\"gene_chemical_metabolism.lstm\")"
   ]
  },
  {
   "cell_type": "code",
   "execution_count": null,
   "metadata": {},
   "outputs": [],
   "source": []
  },
  {
   "cell_type": "code",
   "execution_count": null,
   "metadata": {},
   "outputs": [],
   "source": []
  }
 ],
 "metadata": {
  "kernelspec": {
   "display_name": "Python (snorkel)",
   "language": "python",
   "name": "snorkel"
  },
  "language_info": {
   "codemirror_mode": {
    "name": "ipython",
    "version": 3
   },
   "file_extension": ".py",
   "mimetype": "text/x-python",
   "name": "python",
   "nbconvert_exporter": "python",
   "pygments_lexer": "ipython3",
   "version": "3.6.7"
  }
 },
 "nbformat": 4,
 "nbformat_minor": 2
}
