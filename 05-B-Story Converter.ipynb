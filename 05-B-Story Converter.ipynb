{
 "cells": [
  {
   "cell_type": "code",
   "execution_count": 1,
   "metadata": {},
   "outputs": [],
   "source": [
    "result_path = 'results/tafamidis97/'\n",
    "stories_filename = 'stories_supp2.tsv'\n",
    "stories_trans_filename = 'stories_supp2_translated.tsv'"
   ]
  },
  {
   "cell_type": "code",
   "execution_count": 2,
   "metadata": {},
   "outputs": [
    {
     "name": "stdout",
     "output_type": "stream",
     "text": [
      "Amount of mesh ids: 28955\n"
     ]
    }
   ],
   "source": [
    "mesh_dict = {}\n",
    "\n",
    "with open('data/mesh2018.tsv', 'r') as f:\n",
    "    for l in f: \n",
    "        comp = l.replace('\\n','').split('\\t')\n",
    "        mesh_id = comp[0]\n",
    "        mesh_name = comp[1]\n",
    "        \n",
    "        mesh_dict[mesh_id] = mesh_name\n",
    "        \n",
    "print('Amount of mesh ids: {}'.format(len(mesh_dict)))"
   ]
  },
  {
   "cell_type": "code",
   "execution_count": 3,
   "metadata": {},
   "outputs": [
    {
     "name": "stdout",
     "output_type": "stream",
     "text": [
      "Amount of gene ids: 512977\n"
     ]
    }
   ],
   "source": [
    "import gzip\n",
    "\n",
    "gene_dict = {}\n",
    "\n",
    "first = True\n",
    "with gzip.open('data/CTD_genes.tsv.gz', 'r') as f:\n",
    "    for l in f: \n",
    "        line = str(l).replace('b\\'', '')\n",
    "        # skip comments\n",
    "        if line.startswith('#'):\n",
    "            continue\n",
    "        #print(line)\n",
    "        comp = line.replace('\\\\n','').split('\\\\t')\n",
    "        #print(comp)\n",
    "        gene_id = comp[2]\n",
    "        gene_name = comp[1]\n",
    "     \n",
    "        gene_dict[gene_id] = gene_name\n",
    "        \n",
    "print('Amount of gene ids: {}'.format(len(gene_dict)))"
   ]
  },
  {
   "cell_type": "code",
   "execution_count": null,
   "metadata": {},
   "outputs": [],
   "source": []
  },
  {
   "cell_type": "code",
   "execution_count": 4,
   "metadata": {},
   "outputs": [
    {
     "name": "stdout",
     "output_type": "stream",
     "text": [
      "Amount of read stories: 65\n"
     ]
    }
   ],
   "source": [
    "stories = []\n",
    "\n",
    "first = True\n",
    "with open(result_path + stories_filename, 'r') as f:\n",
    "    for l in f:\n",
    "        #skip first line\n",
    "        if first:\n",
    "            first = False\n",
    "            continue\n",
    "        \n",
    "        comp = l.replace('\\n', '').split('\\t')\n",
    "        supp = comp[0]\n",
    "        story = eval(comp[1])\n",
    "       \n",
    "        stories.append((supp,story))\n",
    "        \n",
    "print('Amount of read stories: {}'.format(len(stories)))"
   ]
  },
  {
   "cell_type": "code",
   "execution_count": 5,
   "metadata": {},
   "outputs": [
    {
     "name": "stdout",
     "output_type": "stream",
     "text": [
      "Error: Mesh_ID C567782 not in mesh dict\n",
      "Error: Mesh_ID C567782 not in mesh dict\n",
      "Error: Mesh_ID C567782 not in mesh dict\n",
      "Error: Mesh_ID C547076 not in mesh dict\n",
      "Error: Mesh_ID C567782 not in mesh dict\n",
      "Error: Mesh_ID C567782 not in mesh dict\n",
      "Error: Mesh_ID C547076 not in mesh dict\n",
      "Error: Mesh_ID C547076 not in mesh dict\n",
      "Error: Mesh_ID C547076 not in mesh dict\n",
      "Error: Mesh_ID C031655 not in mesh dict\n",
      "Error: Mesh_ID C547076 not in mesh dict\n",
      "Error: Mesh_ID C547076 not in mesh dict\n",
      "Error: Mesh_ID C547076 not in mesh dict\n",
      "Error: Mesh_ID C547076 not in mesh dict\n",
      "Error: Mesh_ID C547076 not in mesh dict\n",
      "Error: Mesh_ID C031655 not in mesh dict\n",
      "Error: Mesh_ID C547076 not in mesh dict\n",
      "Error: Mesh_ID C547076 not in mesh dict\n"
     ]
    }
   ],
   "source": [
    "def replace_mesh_id_with_name(mesh_id, mesh_dict):\n",
    "    mesh_id_c = mesh_id\n",
    "    if mesh_id.startswith('MESH:'):\n",
    "        mesh_id_c = mesh_id.replace('MESH:','')\n",
    "    \n",
    "    if mesh_id_c not in mesh_dict:\n",
    "        print('Error: Mesh_ID {} not in mesh dict'.format(mesh_id_c))\n",
    "        return mesh_id\n",
    "    \n",
    "    name = mesh_dict[mesh_id_c]\n",
    "    return name\n",
    "\n",
    "def replace_gene_id_with_name(gene_id, gene_dict):\n",
    "    if gene_id not in gene_dict:\n",
    "        print('Error: Gene_ID {} not in gene dict'.format(gene_id))\n",
    "        return gene_id\n",
    "    \n",
    "    name = gene_dict[gene_id]\n",
    "    return name\n",
    "\n",
    "\n",
    "with open(result_path + stories_trans_filename, 'w') as f:\n",
    "    for supp, story in stories:\n",
    "        #print('Support {} for story {}'.format(supp, story))\n",
    "        line = '{}'.format(supp)\n",
    "        for event in story:\n",
    "            # skip empty events\n",
    "           # if event[0] == '' or event[2] == '':\n",
    "                \n",
    "            \n",
    "         #   print(event[0])\n",
    "         #   print(event[2])\n",
    "            pred = event[1]\n",
    "            \n",
    "            if pred == 'c_asso_d':\n",
    "                ev1 = replace_mesh_id_with_name(event[0], mesh_dict)\n",
    "                ev2 = replace_mesh_id_with_name(event[2], mesh_dict)\n",
    "            elif pred == 'c_inter_g':\n",
    "                ev1 = replace_mesh_id_with_name(event[0], mesh_dict)\n",
    "                ev2 = replace_gene_id_with_name(event[2], gene_dict)\n",
    "            elif pred == 'g_inter_d':\n",
    "                ev1 = replace_gene_id_with_name(event[0], gene_dict)\n",
    "                ev2 = replace_mesh_id_with_name(event[2], mesh_dict)\n",
    "            \n",
    "            line += '\\t({},{},{})'.format(ev1, pred, ev2)\n",
    "        line += '\\n'\n",
    "        f.write(line)"
   ]
  }
 ],
 "metadata": {
  "kernelspec": {
   "display_name": "Python (snorkel)",
   "language": "python",
   "name": "snorkel"
  },
  "language_info": {
   "codemirror_mode": {
    "name": "ipython",
    "version": 3
   },
   "file_extension": ".py",
   "mimetype": "text/x-python",
   "name": "python",
   "nbconvert_exporter": "python",
   "pygments_lexer": "ipython3",
   "version": "3.6.7"
  }
 },
 "nbformat": 4,
 "nbformat_minor": 2
}
