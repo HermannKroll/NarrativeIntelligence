{
 "cells": [
  {
   "cell_type": "code",
   "execution_count": null,
   "metadata": {
    "scrolled": true
   },
   "outputs": [],
   "source": [
    "import kni \n",
    "\n",
    "result = kni.pubtator_crawl_pubtator_documents_with_query('Tafamidis', 'kroll@ifis.cs.tu-bs.de', 'krolltool')\n",
    "\n",
    "with open('data/Tafamidis145.pubtator', 'w') as f:\n",
    "\tf.write(result)\n",
    " \n"
   ]
  },
  {
   "cell_type": "code",
   "execution_count": null,
   "metadata": {},
   "outputs": [],
   "source": [
    "import kni \n",
    "\n",
    "pmids = kni.pubmed_crawl_pmids('Simvastatin Erythromycin CYP3A4 ', 'kroll@ifis.cs.tu-bs.de', 'krolltool', 'pmc')\n",
    "kni.store_pmids_to_file(pmids, 'data/simvastatin_erythromycin_cyp3a4_pmc_ids_324.txt', add_pmc_prefix=True)"
   ]
  },
  {
   "cell_type": "code",
   "execution_count": null,
   "metadata": {},
   "outputs": [],
   "source": [
    "print(len(pmids))"
   ]
  },
  {
   "cell_type": "code",
   "execution_count": 7,
   "metadata": {},
   "outputs": [
    {
     "name": "stdout",
     "output_type": "stream",
     "text": [
      "Count fast amount of lines in file data/pmc_simvastatin_amiodarone_tagged_131.pubtator...\n",
      "Amount of lines: 77896\n",
      "Sampling pubtator file... |██████████████████████████████████████████████████| 100.0% \n",
      "Skipped 0 documents due to missing title or abstract\n",
      "Skipped 3 documents due to minimum chemical amount\n",
      "Amount of correctly shifted entity mentions 241\n",
      "Skipped 1273 entites due to double tagged (genes are prefered)\n",
      "Skipped 6 entites due to wrong entity detection position\n",
      "Skipped 10033 entites due to no id was found\n",
      "Skipped 3778 entites due to length (only 1 or 2 charcters)\n",
      "Skipped 7 entites due to length (> 100 characters)\n",
      "Skipped 0 entites due to wrong detection of their length\n",
      "Saved 128 (sampled) of 131 (all) documents:\n",
      "Sampling finished and saved at data/pmc_simvastatin_amiodarone_filtered_128.pubtator\n"
     ]
    }
   ],
   "source": [
    "from kni import pubtator\n",
    "\n",
    "\n",
    "sample_rate = 1\n",
    "debug = False\n",
    "\n",
    "#pubtator.sample_pubtator_file('data/test_cross_sentence.pubtator', 'data/test_cross_sentence_n.pubtator', sample_rate, debug)\n",
    "#pubtator.sample_pubtator_file('data/test.pub', 'data/test_fi.pub', sample_rate, debug)\n",
    "#pubtator.sample_pubtator_file('data/pmc_sim_cyp_622.pubtator', 'data/pmc_sim_cyp_100_filtered.pubtator', sample_rate, debug)\n",
    "#pubtator.sample_pubtator_file('data/Simvastatin10281.pubtator', 'data/Simvastatin9734_filtered.pubtator', sample_rate, debug)\n",
    "\n",
    "\n",
    "pubtator.sample_pubtator_file('data/pmc_simvastatin_amiodarone_tagged_131.pubtator', 'data/pmc_simvastatin_amiodarone_filtered_128.pubtator', sample_rate, debug)\n",
    "\n"
   ]
  }
 ],
 "metadata": {
  "kernelspec": {
   "display_name": "Python (snorkel)",
   "language": "python",
   "name": "snorkel"
  },
  "language_info": {
   "codemirror_mode": {
    "name": "ipython",
    "version": 3
   },
   "file_extension": ".py",
   "mimetype": "text/x-python",
   "name": "python",
   "nbconvert_exporter": "python",
   "pygments_lexer": "ipython3",
   "version": "3.6.7"
  }
 },
 "nbformat": 4,
 "nbformat_minor": 2
}
