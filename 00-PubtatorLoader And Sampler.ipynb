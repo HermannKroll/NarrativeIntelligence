{
 "cells": [
  {
   "cell_type": "code",
   "execution_count": null,
   "metadata": {},
   "outputs": [],
   "source": [
    "import kni \n",
    "\n",
    "result = kni.pubtator_crawl_pubtator_documents_with_query('Tafamidis', 'kroll@ifis.cs.tu-bs.de', 'krolltool')\n",
    "\n",
    "with open('data/Tafamidis145.pubtator', 'w') as f:\n",
    "\tf.write(result)\n",
    " \n"
   ]
  },
  {
   "cell_type": "code",
   "execution_count": null,
   "metadata": {},
   "outputs": [],
   "source": [
    "import kni \n",
    "\n",
    "pmids = kni.pubmed_crawl_pmids('Simvastatin CYP3A4', 'kroll@ifis.cs.tu-bs.de', 'krolltool', 'pmc')\n",
    "kni.store_pmids_to_file(pmids, 'data/simvastatin_cyp3a4_pmc_ids.txt', add_pmc_prefix=True)"
   ]
  },
  {
   "cell_type": "code",
   "execution_count": null,
   "metadata": {},
   "outputs": [],
   "source": [
    "print(len(pmids))"
   ]
  },
  {
   "cell_type": "code",
   "execution_count": 1,
   "metadata": {},
   "outputs": [
    {
     "name": "stdout",
     "output_type": "stream",
     "text": [
      "Count fast amount of lines in file data/pmc_sim_cyp_700_chemcials_diseases.pubtator...\n",
      "Amount of lines: 57555\n",
      "Sampling pubtator file... |██████████████████████████████████████████████████| 100.0% \n",
      "Skipped 0 documents due to minimum chemical amount\n",
      "Saved 144 (sampled) of 144 (all) documents:\n",
      "Sampling finished and saved at data/pmc_sim_cyp_700_filtered.pubtator\n"
     ]
    }
   ],
   "source": [
    "from kni import pubtator\n",
    "\n",
    "sample_rate = 1\n",
    "debug = False\n",
    "\n",
    "#pubtator.sample_pubtator_file('data/test_cross_sentence.pubtator', 'data/test_cross_sentence_n.pubtator', sample_rate, debug)\n",
    "pubtator.sample_pubtator_file('data/pmc_sim_cyp_700_chemcials_diseases.pubtator', 'data/pmc_sim_cyp_700_filtered.pubtator', sample_rate, debug)\n",
    "\n",
    "\n",
    "\n",
    "\n"
   ]
  }
 ],
 "metadata": {
  "kernelspec": {
   "display_name": "Python (snorkel)",
   "language": "python",
   "name": "snorkel"
  },
  "language_info": {
   "codemirror_mode": {
    "name": "ipython",
    "version": 3
   },
   "file_extension": ".py",
   "mimetype": "text/x-python",
   "name": "python",
   "nbconvert_exporter": "python",
   "pygments_lexer": "ipython3",
   "version": "3.6.7"
  }
 },
 "nbformat": 4,
 "nbformat_minor": 2
}
