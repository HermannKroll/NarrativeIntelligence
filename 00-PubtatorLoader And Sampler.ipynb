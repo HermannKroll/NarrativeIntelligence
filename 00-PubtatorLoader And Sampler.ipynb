{
 "cells": [
  {
   "cell_type": "code",
   "execution_count": null,
   "metadata": {},
   "outputs": [],
   "source": [
    "import kni \n",
    "\n",
    "result = kni.pubtator_crawl_pubtator_documents_with_query('Simvastatin')\n",
    "\n",
    "with open('data/Simvastatin10281.pubtator', 'w') as f:\n",
    "\tf.write(result)\n",
    " \n"
   ]
  },
  {
   "cell_type": "code",
   "execution_count": 3,
   "metadata": {},
   "outputs": [
    {
     "name": "stdout",
     "output_type": "stream",
     "text": [
      "Count fast amount of lines in file data/Simvastatin10281.pubtator...\n",
      "Amount of lines: 275258\n",
      "Sampling pubtator file... |██████████████████████████████████████████████████| 100.0% \n",
      "Saved 9738 (sampled) of 10274 (all) documents:\n",
      "Sampling finished and saved at data/Simvastatin10281_filtered.pubtator\n"
     ]
    }
   ],
   "source": [
    "from kni import pubtator\n",
    "\n",
    "sample_rate = 1.0\n",
    "debug = False\n",
    "\n",
    "#pubtator.sample_pubtator_file('data/test_cross_sentence.pubtator', 'data/test_cross_sentence_n.pubtator', sample_rate, debug)\n",
    "pubtator.sample_pubtator_file('data/Simvastatin10281.pubtator', 'data/Simvastatin10281_filtered.pubtator', sample_rate, debug)"
   ]
  }
 ],
 "metadata": {
  "kernelspec": {
   "display_name": "Python (snorkel)",
   "language": "python",
   "name": "snorkel"
  },
  "language_info": {
   "codemirror_mode": {
    "name": "ipython",
    "version": 3
   },
   "file_extension": ".py",
   "mimetype": "text/x-python",
   "name": "python",
   "nbconvert_exporter": "python",
   "pygments_lexer": "ipython3",
   "version": "3.6.7"
  }
 },
 "nbformat": 4,
 "nbformat_minor": 2
}
