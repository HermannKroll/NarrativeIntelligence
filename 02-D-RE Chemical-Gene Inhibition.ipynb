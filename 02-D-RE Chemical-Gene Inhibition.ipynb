{
 "cells": [
  {
   "cell_type": "code",
   "execution_count": 1,
   "metadata": {},
   "outputs": [],
   "source": [
    "import os\n",
    "\n",
    "os.environ['SNORKELDB'] = \"postgresql://localhost:5432/snorkel?user=snorkel&password=snorkel12345\""
   ]
  },
  {
   "cell_type": "code",
   "execution_count": 2,
   "metadata": {},
   "outputs": [],
   "source": [
    "%load_ext autoreload\n",
    "%autoreload 2\n",
    "%matplotlib inline\n",
    "\n",
    "from snorkel import SnorkelSession\n",
    "\n",
    "session = SnorkelSession()"
   ]
  },
  {
   "cell_type": "code",
   "execution_count": 3,
   "metadata": {},
   "outputs": [
    {
     "name": "stdout",
     "output_type": "stream",
     "text": [
      "Amount of docs: 9738\n",
      "Document splitted: 3246 train, 3246 dev and 3246 test\n",
      "Amount of sentences: 33895 train, 34340 dev and 34326 test\n"
     ]
    }
   ],
   "source": [
    "from ksnorkel import KSUtils\n",
    "\n",
    "train_sent, dev_sent, test_sent = KSUtils.split_sentences(session, split=[0.8, 0.1, 0.1], seed=12345)"
   ]
  },
  {
   "cell_type": "code",
   "execution_count": 5,
   "metadata": {},
   "outputs": [
    {
     "name": "stdout",
     "output_type": "stream",
     "text": [
      "Clearing existing...\n"
     ]
    },
    {
     "name": "stderr",
     "output_type": "stream",
     "text": [
      "  0%|          | 27/33895 [00:00<02:06, 268.35it/s]"
     ]
    },
    {
     "name": "stdout",
     "output_type": "stream",
     "text": [
      "Running UDF...\n"
     ]
    },
    {
     "name": "stderr",
     "output_type": "stream",
     "text": [
      "100%|██████████| 33895/33895 [01:24<00:00, 399.16it/s]\n"
     ]
    },
    {
     "name": "stdout",
     "output_type": "stream",
     "text": [
      "Number of candidates: 17935\n",
      "Clearing existing...\n"
     ]
    },
    {
     "name": "stderr",
     "output_type": "stream",
     "text": [
      "  0%|          | 32/34340 [00:00<01:49, 313.32it/s]"
     ]
    },
    {
     "name": "stdout",
     "output_type": "stream",
     "text": [
      "Running UDF...\n"
     ]
    },
    {
     "name": "stderr",
     "output_type": "stream",
     "text": [
      "100%|██████████| 34340/34340 [01:24<00:00, 405.64it/s]\n"
     ]
    },
    {
     "name": "stdout",
     "output_type": "stream",
     "text": [
      "Number of candidates: 16965\n",
      "Clearing existing...\n"
     ]
    },
    {
     "name": "stderr",
     "output_type": "stream",
     "text": [
      "  0%|          | 33/34326 [00:00<01:44, 328.43it/s]"
     ]
    },
    {
     "name": "stdout",
     "output_type": "stream",
     "text": [
      "Running UDF...\n"
     ]
    },
    {
     "name": "stderr",
     "output_type": "stream",
     "text": [
      "100%|██████████| 34326/34326 [01:15<00:00, 456.60it/s]"
     ]
    },
    {
     "name": "stdout",
     "output_type": "stream",
     "text": [
      "Number of candidates: 17138\n"
     ]
    },
    {
     "name": "stderr",
     "output_type": "stream",
     "text": [
      "\n"
     ]
    }
   ],
   "source": [
    "from snorkel.models import Candidate, candidate_subclass\n",
    "from snorkel.candidates import PretaggedCandidateExtractor\n",
    "\n",
    "ChemicalGeneInhibition = candidate_subclass('ChemicalGeneInhibition', ['chemical', 'gene'])\n",
    "candidate_gene_chemical_inhibit_extractor = PretaggedCandidateExtractor(ChemicalGeneInhibition, ['Chemical', 'Gene'])\n",
    "\n",
    "\n",
    "for k, sents in enumerate([train_sent, dev_sent, test_sent]):\n",
    "    candidate_gene_chemical_inhibit_extractor.apply(sents, split=k, clear=True)\n",
    "    print(\"Number of candidates:\", session.query(ChemicalGeneInhibition).filter(ChemicalGeneInhibition.split == k).count())"
   ]
  },
  {
   "cell_type": "code",
   "execution_count": 9,
   "metadata": {},
   "outputs": [
    {
     "name": "stdout",
     "output_type": "stream",
     "text": [
      "72279 chemical-gene assocations read from ChG-CTD_chem_gene_ixns\n"
     ]
    }
   ],
   "source": [
    "import gzip\n",
    "import re\n",
    "\n",
    "ctd_chem_gene_inhib = set()\n",
    "i = 0\n",
    "with gzip.open('data/CTD_chem_gene_ixns.tsv.gz','r') as f:\n",
    "    for l in f:\n",
    "        line = str(l).replace('b\\'', '').replace('\\\\n\\'', '').replace('\\\\r','')\n",
    "        # skip comments\n",
    "        if line.startswith('#'):\n",
    "            continue\n",
    "        #print(line)\n",
    "        components = line.split('\\\\t')    \n",
    "        \n",
    "        # add MESH:\n",
    "        if not components[1].startswith('MESH:'):\n",
    "            components[1] = \"MESH:\" + components[1]\n",
    "            \n",
    "        desc = components[8].lower()\n",
    "        # fast lookup\n",
    "        if 'inhibit' not in desc and 'decreas' not in desc:\n",
    "            continue\n",
    "        # check typ\n",
    "        descTyp = components[9]\n",
    "        if 'decreases' not in descTyp:\n",
    "            continue\n",
    "        \n",
    "        che_name = components[0].replace('b\\\"','').replace('(','\\(').replace(')','\\)').lower()\n",
    "        regex = '{}[^\\]\\[]+inhibit'.format(che_name)\n",
    "        regex2 = '{}[^\\]\\[]+decreased'.format(che_name)\n",
    "        if re.search(regex, desc) == None and re.search(regex2, desc) == None:\n",
    "            continue\n",
    "        \n",
    "        chemical = components[1]\n",
    "        gene = components[4]\n",
    "        key = frozenset((chemical, gene))\n",
    "        ctd_chem_gene_inhib.add(key)\n",
    "        i += 1\n",
    "\n",
    "    \n",
    "print('{} chemical-gene assocations read from ChG-CTD_chem_gene_ixns'.format(len(ctd_chem_gene_inhib)))\n",
    "#240349\n",
    "def cand_in_chemical_gene_inhibitions(c):\n",
    "    key = frozenset((c.chemical_cid, c.gene_cid))\n",
    "    if key in ctd_chem_gene_inhib:\n",
    "    #    print(key)\n",
    "        return 1\n",
    "    return -1"
   ]
  },
  {
   "cell_type": "code",
   "execution_count": 10,
   "metadata": {},
   "outputs": [],
   "source": [
    "import re\n",
    "from snorkel.lf_helpers import get_tagged_text\n",
    "\n",
    "\n",
    "\n",
    "# List to parenthetical\n",
    "def ltp(x):\n",
    "    return '(' + '|'.join(x) + ')'\n",
    "\n",
    "inhibit_keywords = [\"inhibitor\", \"inhibition\", \"auto-inhibition\", 'inhibitory', 'suppression',\n",
    "                   \"inhibit\", 'decrease', 'degrees', 'suppress', 'alleviate', 'reduce']\n",
    "\n",
    "def gold_label_function(c):\n",
    "    if cand_in_chemical_gene_inhibitions(c) == 1:\n",
    "        if re.search(r'' + ltp(inhibit_keywords), get_tagged_text(c), re.I):\n",
    "            return 1\n",
    "        else:\n",
    "            return -1\n",
    "    else:\n",
    "        return -1\n"
   ]
  },
  {
   "cell_type": "code",
   "execution_count": 11,
   "metadata": {},
   "outputs": [
    {
     "name": "stdout",
     "output_type": "stream",
     "text": [
      "Clearing existing gold labels...\n",
      "Adding gold labels to training candidates...\n",
      "Labeld 1686 positive and 16249 negative samples in train\n",
      "Adding gold labels to develop candidates...\n",
      "Labeld 1520 positive and 15445 negative samples in dev\n",
      "Adding gold labels to test candidates...\n",
      "Labeld 1640 positive and 15498 negative samples in test\n",
      "Finished - commiting to database...\n",
      "Commit complete!\n",
      "Labeld 4846 positive and 47192 negative samples\n"
     ]
    }
   ],
   "source": [
    "from ksnorkel import KSUtils\n",
    "\n",
    "KSUtils.add_gold_labels_for_candidates(session, ChemicalGeneInhibition, gold_label_function)"
   ]
  },
  {
   "cell_type": "code",
   "execution_count": 12,
   "metadata": {},
   "outputs": [],
   "source": [
    "import re\n",
    "from snorkel.lf_helpers import (\n",
    "    get_tagged_text,\n",
    "    rule_regex_search_tagged_text,\n",
    "    rule_regex_search_btw_AB,\n",
    "    rule_regex_search_btw_BA,\n",
    "    rule_regex_search_before_A,\n",
    "    rule_regex_search_before_B\n",
    ")\n",
    "\n",
    "\n",
    "\n",
    "\n",
    "# List to parenthetical\n",
    "def ltp(x):\n",
    "    return '(' + '|'.join(x) + ')'\n",
    "\n",
    "\n",
    "\n",
    "inhibition_samples = [\"inhibitor\", \"inhibition\", \"auto-inhibition\", 'inhibitory', 'suppression']\n",
    "\n",
    "\n",
    "def LF_CG_AB_before_inhibition(c):\n",
    "    return 1 if (re.search(r'{{A}}.{0,100}' + '{{B}}.{0,100}' + ltp(inhibition_samples), get_tagged_text(c), re.I) or\n",
    "                re.search(r'{{B}}.{0,100}' + '{{A}}.{0,100}' + ltp(inhibition_samples) , get_tagged_text(c), re.I)) else 0\n",
    "\n",
    "\n",
    "def LF_CG_A_supressive_effect_B(c):\n",
    "    return 1 if  re.search(r'{{A}}.{0,100} supressive'+ '.{0,100} effect .{0,100}' + '{{A}}' , get_tagged_text(c), re.I) else 0\n",
    "\n",
    "\n",
    "def LF_CG_AB_after_inhibition(c):\n",
    "    return 1 if (rule_regex_search_before_A(c,  ltp(inhibition_samples) + '.{0,100}', 1) and\n",
    "                  rule_regex_search_before_B(c, ltp(inhibition_samples) + '.{0,100}', 1)) else 0\n",
    "\n",
    "def LF_CG_A_inhibition_B_far(c):\n",
    "    return rule_regex_search_btw_AB(c, '.{100,500}' + ltp(inhibition_samples) + '.{100,500}', -1) \n",
    "\n",
    "def LF_CG_B_inhibition_A_far(c):\n",
    "    return rule_regex_search_btw_BA(c, '.{100,500}' + ltp(inhibition_samples) + '.{100,500}', -1)\n",
    "\n",
    "def LF_CG_A_inhibition_B(c):\n",
    "    return rule_regex_search_btw_AB(c, '.{0,100}' + ltp(inhibition_samples) + '.{0,100}', 1) \n",
    "\n",
    "def LF_CG_B_inhibition_A(c):\n",
    "    return rule_regex_search_btw_BA(c, '.{0,100}' + ltp(inhibition_samples) + '.{0,100}', 1)\n",
    "\n",
    "def LG_CG_inhibition_before_B_near(c):\n",
    "    return rule_regex_search_before_B(c, ltp(inhibition_samples) + '.{0,100}', 1)\n",
    " \n",
    "def LG_CG_inhibition_before_B_far(c):\n",
    "    return rule_regex_search_before_B(c, ltp(inhibition_samples) + '.{100,2000}', -1)\n",
    "\n",
    "\n",
    "inhibits_samples = [\"inhibit\", 'decrease', 'degrees', 'suppress', 'alleviate', 'reduce']\n",
    "\n",
    "def LF_CG_A_inhibitis_B(c):\n",
    "    return rule_regex_search_btw_AB(c, '.{0,100}' + ltp(inhibits_samples) + '.{0,100}', 1) \n",
    "\n",
    "def LF_CG_A_inhibitis_B_close(c):\n",
    "    return rule_regex_search_btw_AB(c, '.{0,50}' + ltp(inhibits_samples) + '.{0,50}', 1) \n",
    "\n",
    "def LF_CG_B_inhibited_A(c):\n",
    "    return rule_regex_search_btw_BA(c, '.{0,100}' + ltp(inhibits_samples) + '.{0,100}', 1) \n",
    "\n",
    "\n",
    "inhib_all_words = []\n",
    "inhib_all_words.extend(inhibition_samples)\n",
    "inhib_all_words.extend(inhibits_samples)\n",
    "    \n",
    "\n",
    "not_samples = ['no', 'not']\n",
    "\n",
    "def LF_CG_A_not_inhibitis_B(c):\n",
    "    return rule_regex_search_btw_AB(c, '.{0,100}' + ltp(not_samples) + '.{0,100}' + ltp(inhibits_samples) + '.{0,100}', -1) \n",
    "\n",
    "def LF_GC_B_not_inhibited_A(c):\n",
    "    return rule_regex_search_btw_BA(c, '.{0,100}' + ltp(not_samples) + '.{0,100}' + ltp(metabol_samples) + '.{0,100}', -1) \n",
    "\n",
    "def LF_CG_no_inhibition(c):\n",
    "    return -1 if not re.search(r'' + ltp(inhib_all_words)  , get_tagged_text(c), re.I) else 0\n",
    "\n",
    "\n",
    "def LF_CG_inihib_in_sent(c):\n",
    "    return 1 if re.search(r'' + ltp(inhib_all_words), get_tagged_text(c), re.I) else 0\n",
    "\n",
    "\n",
    "metabolisation_samples = ['metabolising', 'metabolism', 'metabolisation', 'metabolization', \n",
    "                          'increased activity', 'metabolite', 'stimulation']\n",
    "\n",
    "def LF_CG_AB_metabolisation_after_AB(c):\n",
    "    return -1 if (re.search(r'{{A}}.{0,100}' + '{{B}}.{0,100}' + ltp(metabolisation_samples) , get_tagged_text(c), re.I) or\n",
    "                re.search(r'{{B}}.{0,100}' + '{{A}}.{0,100}' +ltp(metabolisation_samples) , get_tagged_text(c), re.I)) else 0\n",
    "\n",
    "def LF_CG_metabolisation_before_AB(c):\n",
    "    return -1 if (rule_regex_search_before_A(c,  ltp(metabolisation_samples) + '.{0,100}', 1) and\n",
    "                  rule_regex_search_before_B(c, ltp(metabolisation_samples) + '.{0,100}', 1)) else 0\n",
    "\n",
    "\n",
    "\n",
    "def LF_CG_A_metabolisation_B(c):\n",
    "    return rule_regex_search_btw_AB(c, '.{0,100}' + ltp(metabolisation_samples) + '.{0,100}', -1) \n",
    "\n",
    "def LF_CG_B_metabolisation_A(c):\n",
    "    return rule_regex_search_btw_BA(c, '.{0,100}' + ltp(metabolisation_samples) + '.{0,100}', -1)\n",
    "\n",
    "def LG_CG_metabolisation_before_B_near(c):\n",
    "    return rule_regex_search_before_B(c, ltp(metabolisation_samples) + '.{0,100}', -1)\n",
    " \n",
    "\n",
    "\n",
    "\n",
    "metabol_samples = ['metabol', 'increase', 'stimulate', 'stimulating', 'induce', 'activate', 'potentiate']\n",
    "\n",
    "def LF_CG_A_metabol_B_in_sent(c):\n",
    "    return rule_regex_search_btw_AB(c, '.{0,100}' + ltp(metabol_samples) + '.{0,100}', -1) \n",
    "\n",
    "def LF_CG_B_metabol_A_in_sent(c):\n",
    "    return rule_regex_search_btw_AB(c, '.{0,100}' + ltp(metabol_samples) + '.{0,100}', -1) \n",
    "\n",
    "def LF_CG_metabol_in_sent(c):\n",
    "    return -1 if re.search(r'' + ltp(metabol_samples)  , get_tagged_text(c), re.I) else 0\n",
    "\n",
    "\n",
    "# prefer inhib if both are included\n",
    "def LF_CG_meta_and_inhibts(c):\n",
    "    if LF_GC_inhibits_in_sent(c) == 1 and LF_CG_metabol_in_sent(c) == -1:\n",
    "        return 1\n",
    "    return 0\n",
    "\n",
    "\n",
    "def LF_closer_chem(c):\n",
    "    # Get distance between chemical and gene\n",
    "    chem_start, chem_end = c.chemical.get_word_start(), c.chemical.get_word_end()\n",
    "    gen_start, gen_end = c.gene.get_word_start(), c.gene.get_word_end()\n",
    "    if gen_start < chem_start:\n",
    "        dist = chem_start - gen_end\n",
    "    else:\n",
    "        dist = gen_start - chem_end\n",
    "    # Try to find chemical closer than @dist/2 in either direction\n",
    "    sent = c.get_parent()\n",
    "    closest_other_chem = float('inf')\n",
    "    for i in range(gen_end, min(len(sent.words), gen_end + dist // 2)):\n",
    "        et, cid = sent.entity_types[i], sent.entity_cids[i]\n",
    "        if et == 'Chemical' and cid != sent.entity_cids[chem_start]:\n",
    "            return -1\n",
    "    for i in range(max(0, gen_start - dist // 2), gen_start):\n",
    "        et, cid = sent.entity_types[i], sent.entity_cids[i]\n",
    "        if et == 'Chemical' and cid != sent.entity_cids[chem_start]:\n",
    "            return -1\n",
    "    return 0\n",
    "\n",
    "\n",
    "def LF_closer_gene(c):\n",
    "    # Get distance between chemical and gene\n",
    "    chem_start, chem_end = c.chemical.get_word_start(), c.chemical.get_word_end()\n",
    "    gen_start, gen_end = c.gene.get_word_start(), c.gene.get_word_end()\n",
    "    if gen_start < chem_start:\n",
    "        dist = chem_start - gen_end\n",
    "    else:\n",
    "        dist = gen_start - chem_end\n",
    "    # Try to find gene closer than @dist/8 in either direction\n",
    "    sent = c.get_parent()\n",
    "    for i in range(chem_end, min(len(sent.words), chem_end + dist // 8)):\n",
    "        et, cid = sent.entity_types[i], sent.entity_cids[i]\n",
    "        if et == 'Gene' and cid != sent.entity_cids[gen_start]:\n",
    "            return -1\n",
    "    for i in range(max(0, chem_start - dist // 8), chem_start):\n",
    "        et, cid = sent.entity_types[i], sent.entity_cids[i]\n",
    "        if et == 'Gene' and cid != sent.entity_cids[gen_start]:\n",
    "            return -1\n",
    "    return 0\n",
    "\n",
    "                \n",
    "\n",
    "def LF_CG_metabol_between(c):\n",
    "    # Get distance between chemical and disease\n",
    "    chem_start, chem_end = c.chemical.get_word_start(), c.chemical.get_word_end()\n",
    "    dis_start, dis_end = c.gene.get_word_start(), c.gene.get_word_end()\n",
    "    if dis_start < chem_start:\n",
    "        dist = chem_start - dis_end\n",
    "    else:\n",
    "        dist = dis_start - chem_end\n",
    "    # Try to find metabol closer than @dist/2 in either direction\n",
    "    sent = c.get_parent()\n",
    "    closest_other_chem = float('inf')\n",
    "    for i in range(dis_end, min(len(sent.words), dis_end + dist // 2)):\n",
    "        if re.search(r'' + ltp(metabol_samples), sent.words[i], re.I):\n",
    "            return -1\n",
    "    for i in range(max(0, dis_start - dist // 2), dis_start):\n",
    "        if re.search(r'' + ltp(metabol_samples), sent.words[i], re.I):\n",
    "            return -1\n",
    "    return 0\n",
    "\n",
    "\n",
    "    \n",
    "LFs_DG = [\n",
    "    gold_label_function,\n",
    "    \n",
    "    LF_CG_AB_before_inhibition,\n",
    "    LF_CG_AB_after_inhibition,\n",
    "    LF_CG_A_supressive_effect_B,\n",
    "    LF_CG_A_inhibition_B_far,\n",
    "    LF_CG_B_inhibition_A_far,\n",
    "    LF_CG_A_inhibition_B,\n",
    "    LF_CG_B_inhibition_A,\n",
    "    LG_CG_inhibition_before_B_near,\n",
    "    LG_CG_inhibition_before_B_far,\n",
    "    LF_CG_A_inhibitis_B,\n",
    "    LF_CG_A_inhibitis_B_close,\n",
    "    LF_CG_B_inhibited_A,\n",
    "    LF_CG_A_not_inhibitis_B,\n",
    "    LF_GC_B_not_inhibited_A\n",
    "    LF_CG_no_inhibition,\n",
    "    LF_CG_inihib_in_sent,\n",
    "    \n",
    "    \n",
    "    LF_CG_metabolisation_before_AB\n",
    "    LF_CG_AB_metabolisation_after_AB,\n",
    "    LF_CG_A_metabolisation_B,\n",
    "    LF_CG_B_metabolisation_A,\n",
    "    LG_CG_metabolisation_before_B_near,\n",
    "    LF_CG_A_metabol_B_in_sent,\n",
    "    LF_CG_B_metabol_A_in_sent,\n",
    "    LF_CG_metabol_in_sent,\n",
    "    LF_CG_meta_and_inhibts,\n",
    "    \n",
    "    \n",
    "    LF_closer_chem,\n",
    "    LF_closer_gene,\n",
    "    LF_CG_metabol_between\n",
    "]"
   ]
  },
  {
   "cell_type": "code",
   "execution_count": 13,
   "metadata": {},
   "outputs": [
    {
     "name": "stderr",
     "output_type": "stream",
     "text": [
      "\r",
      "  0%|          | 0/17935 [00:00<?, ?it/s]"
     ]
    },
    {
     "name": "stdout",
     "output_type": "stream",
     "text": [
      "Clearing existing...\n",
      "Running UDF...\n"
     ]
    },
    {
     "name": "stderr",
     "output_type": "stream",
     "text": [
      "100%|██████████| 17935/17935 [02:20<00:00, 127.75it/s]\n"
     ]
    },
    {
     "name": "stdout",
     "output_type": "stream",
     "text": [
      "CPU times: user 38.1 s, sys: 4.46 s, total: 42.5 s\n",
      "Wall time: 2min 20s\n"
     ]
    },
    {
     "data": {
      "text/plain": [
       "<17935x21 sparse matrix of type '<class 'numpy.int64'>'\n",
       "\twith 53302 stored elements in Compressed Sparse Row format>"
      ]
     },
     "execution_count": 13,
     "metadata": {},
     "output_type": "execute_result"
    }
   ],
   "source": [
    "from snorkel.annotations import LabelAnnotator\n",
    "labeler = LabelAnnotator(lfs=LFs_DG)\n",
    "%time L_train = labeler.apply(lfs=LFs_DG, parallelism=10)\n",
    "L_train\n"
   ]
  },
  {
   "cell_type": "code",
   "execution_count": 14,
   "metadata": {},
   "outputs": [
    {
     "data": {
      "text/html": [
       "<div>\n",
       "<style scoped>\n",
       "    .dataframe tbody tr th:only-of-type {\n",
       "        vertical-align: middle;\n",
       "    }\n",
       "\n",
       "    .dataframe tbody tr th {\n",
       "        vertical-align: top;\n",
       "    }\n",
       "\n",
       "    .dataframe thead th {\n",
       "        text-align: right;\n",
       "    }\n",
       "</style>\n",
       "<table border=\"1\" class=\"dataframe\">\n",
       "  <thead>\n",
       "    <tr style=\"text-align: right;\">\n",
       "      <th></th>\n",
       "      <th>j</th>\n",
       "      <th>Coverage</th>\n",
       "      <th>Overlaps</th>\n",
       "      <th>Conflicts</th>\n",
       "    </tr>\n",
       "  </thead>\n",
       "  <tbody>\n",
       "    <tr>\n",
       "      <th>gold_label_function</th>\n",
       "      <td>0</td>\n",
       "      <td>1.000000</td>\n",
       "      <td>0.924059</td>\n",
       "      <td>0.186005</td>\n",
       "    </tr>\n",
       "    <tr>\n",
       "      <th>LF_CG_AB_before_inhibition</th>\n",
       "      <td>1</td>\n",
       "      <td>0.013437</td>\n",
       "      <td>0.013437</td>\n",
       "      <td>0.011430</td>\n",
       "    </tr>\n",
       "    <tr>\n",
       "      <th>LF_CG_AB_after_inhibition</th>\n",
       "      <td>2</td>\n",
       "      <td>0.000000</td>\n",
       "      <td>0.000000</td>\n",
       "      <td>0.000000</td>\n",
       "    </tr>\n",
       "    <tr>\n",
       "      <th>LF_CG_A_supressive_effect_B</th>\n",
       "      <td>3</td>\n",
       "      <td>0.000000</td>\n",
       "      <td>0.000000</td>\n",
       "      <td>0.000000</td>\n",
       "    </tr>\n",
       "    <tr>\n",
       "      <th>LF_CG_A_inhibition_B_far</th>\n",
       "      <td>4</td>\n",
       "      <td>0.002230</td>\n",
       "      <td>0.002230</td>\n",
       "      <td>0.000669</td>\n",
       "    </tr>\n",
       "    <tr>\n",
       "      <th>LF_CG_B_inhibition_A_far</th>\n",
       "      <td>5</td>\n",
       "      <td>0.003624</td>\n",
       "      <td>0.003624</td>\n",
       "      <td>0.002955</td>\n",
       "    </tr>\n",
       "    <tr>\n",
       "      <th>LF_CG_A_inhibition_B</th>\n",
       "      <td>6</td>\n",
       "      <td>0.034235</td>\n",
       "      <td>0.034235</td>\n",
       "      <td>0.029830</td>\n",
       "    </tr>\n",
       "    <tr>\n",
       "      <th>LF_CG_B_inhibition_A</th>\n",
       "      <td>7</td>\n",
       "      <td>0.032172</td>\n",
       "      <td>0.032172</td>\n",
       "      <td>0.024589</td>\n",
       "    </tr>\n",
       "    <tr>\n",
       "      <th>LG_CG_inhibition_before_B_near</th>\n",
       "      <td>8</td>\n",
       "      <td>0.027042</td>\n",
       "      <td>0.027042</td>\n",
       "      <td>0.024310</td>\n",
       "    </tr>\n",
       "    <tr>\n",
       "      <th>LG_CG_inhibition_before_B_far</th>\n",
       "      <td>9</td>\n",
       "      <td>0.005576</td>\n",
       "      <td>0.005576</td>\n",
       "      <td>0.003290</td>\n",
       "    </tr>\n",
       "    <tr>\n",
       "      <th>LF_CG_A_inhibitis_B</th>\n",
       "      <td>10</td>\n",
       "      <td>0.109284</td>\n",
       "      <td>0.109284</td>\n",
       "      <td>0.095846</td>\n",
       "    </tr>\n",
       "    <tr>\n",
       "      <th>LF_CG_A_inhibitis_B_close</th>\n",
       "      <td>11</td>\n",
       "      <td>0.060887</td>\n",
       "      <td>0.060887</td>\n",
       "      <td>0.050516</td>\n",
       "    </tr>\n",
       "    <tr>\n",
       "      <th>LF_CG_A_not_inhibitis_B</th>\n",
       "      <td>12</td>\n",
       "      <td>0.012880</td>\n",
       "      <td>0.012880</td>\n",
       "      <td>0.010594</td>\n",
       "    </tr>\n",
       "    <tr>\n",
       "      <th>LF_CG_B_inhibited_A</th>\n",
       "      <td>13</td>\n",
       "      <td>0.017619</td>\n",
       "      <td>0.017619</td>\n",
       "      <td>0.016504</td>\n",
       "    </tr>\n",
       "    <tr>\n",
       "      <th>LF_CG_no_inhibition</th>\n",
       "      <td>14</td>\n",
       "      <td>0.622024</td>\n",
       "      <td>0.622024</td>\n",
       "      <td>0.000000</td>\n",
       "    </tr>\n",
       "    <tr>\n",
       "      <th>LF_CG_A_metabol_B_in_sent</th>\n",
       "      <td>15</td>\n",
       "      <td>0.088598</td>\n",
       "      <td>0.088598</td>\n",
       "      <td>0.023139</td>\n",
       "    </tr>\n",
       "    <tr>\n",
       "      <th>LF_CG_B_metabol_A_in_sent</th>\n",
       "      <td>16</td>\n",
       "      <td>0.088598</td>\n",
       "      <td>0.088598</td>\n",
       "      <td>0.023139</td>\n",
       "    </tr>\n",
       "    <tr>\n",
       "      <th>LF_CG_metabol_in_sent</th>\n",
       "      <td>17</td>\n",
       "      <td>0.349763</td>\n",
       "      <td>0.349763</td>\n",
       "      <td>0.089936</td>\n",
       "    </tr>\n",
       "    <tr>\n",
       "      <th>LF_closer_chem</th>\n",
       "      <td>18</td>\n",
       "      <td>0.336772</td>\n",
       "      <td>0.336772</td>\n",
       "      <td>0.055311</td>\n",
       "    </tr>\n",
       "    <tr>\n",
       "      <th>LF_closer_gene</th>\n",
       "      <td>19</td>\n",
       "      <td>0.030722</td>\n",
       "      <td>0.030722</td>\n",
       "      <td>0.003234</td>\n",
       "    </tr>\n",
       "    <tr>\n",
       "      <th>LF_CG_metabol_between</th>\n",
       "      <td>20</td>\n",
       "      <td>0.136493</td>\n",
       "      <td>0.136493</td>\n",
       "      <td>0.038640</td>\n",
       "    </tr>\n",
       "  </tbody>\n",
       "</table>\n",
       "</div>"
      ],
      "text/plain": [
       "                                 j  Coverage  Overlaps  Conflicts\n",
       "gold_label_function              0  1.000000  0.924059   0.186005\n",
       "LF_CG_AB_before_inhibition       1  0.013437  0.013437   0.011430\n",
       "LF_CG_AB_after_inhibition        2  0.000000  0.000000   0.000000\n",
       "LF_CG_A_supressive_effect_B      3  0.000000  0.000000   0.000000\n",
       "LF_CG_A_inhibition_B_far         4  0.002230  0.002230   0.000669\n",
       "LF_CG_B_inhibition_A_far         5  0.003624  0.003624   0.002955\n",
       "LF_CG_A_inhibition_B             6  0.034235  0.034235   0.029830\n",
       "LF_CG_B_inhibition_A             7  0.032172  0.032172   0.024589\n",
       "LG_CG_inhibition_before_B_near   8  0.027042  0.027042   0.024310\n",
       "LG_CG_inhibition_before_B_far    9  0.005576  0.005576   0.003290\n",
       "LF_CG_A_inhibitis_B             10  0.109284  0.109284   0.095846\n",
       "LF_CG_A_inhibitis_B_close       11  0.060887  0.060887   0.050516\n",
       "LF_CG_A_not_inhibitis_B         12  0.012880  0.012880   0.010594\n",
       "LF_CG_B_inhibited_A             13  0.017619  0.017619   0.016504\n",
       "LF_CG_no_inhibition             14  0.622024  0.622024   0.000000\n",
       "LF_CG_A_metabol_B_in_sent       15  0.088598  0.088598   0.023139\n",
       "LF_CG_B_metabol_A_in_sent       16  0.088598  0.088598   0.023139\n",
       "LF_CG_metabol_in_sent           17  0.349763  0.349763   0.089936\n",
       "LF_closer_chem                  18  0.336772  0.336772   0.055311\n",
       "LF_closer_gene                  19  0.030722  0.030722   0.003234\n",
       "LF_CG_metabol_between           20  0.136493  0.136493   0.038640"
      ]
     },
     "execution_count": 14,
     "metadata": {},
     "output_type": "execute_result"
    }
   ],
   "source": [
    "L_train.lf_stats(session)"
   ]
  },
  {
   "cell_type": "code",
   "execution_count": 15,
   "metadata": {},
   "outputs": [
    {
     "name": "stdout",
     "output_type": "stream",
     "text": [
      "Inferred cardinality: 2\n"
     ]
    }
   ],
   "source": [
    "from snorkel.learning import GenerativeModel\n",
    "\n",
    "gen_model = GenerativeModel()\n",
    "gen_model.train(L_train, epochs=100, decay=0.95, step_size=0.1 / L_train.shape[0], reg_param=1e-6)\n",
    "\n",
    "train_marginals = gen_model.marginals(L_train)"
   ]
  },
  {
   "cell_type": "code",
   "execution_count": 16,
   "metadata": {},
   "outputs": [
    {
     "data": {
      "image/png": "[encoded data removed]",
      "text/plain": [
       "<Figure size 432x288 with 1 Axes>"
      ]
     },
     "metadata": {
      "needs_background": "light"
     },
     "output_type": "display_data"
    }
   ],
   "source": [
    "import matplotlib.pyplot as plt\n",
    "plt.hist(train_marginals, bins=20)\n",
    "plt.show()"
   ]
  },
  {
   "cell_type": "code",
   "execution_count": 17,
   "metadata": {},
   "outputs": [
    {
     "name": "stderr",
     "output_type": "stream",
     "text": [
      "  0%|          | 3/16965 [00:00<10:29, 26.94it/s]"
     ]
    },
    {
     "name": "stdout",
     "output_type": "stream",
     "text": [
      "Clearing existing...\n",
      "Running UDF...\n"
     ]
    },
    {
     "name": "stderr",
     "output_type": "stream",
     "text": [
      "100%|██████████| 16965/16965 [05:05<00:00, 61.18it/s]\n",
      "  0%|          | 0/17138 [00:00<?, ?it/s]"
     ]
    },
    {
     "name": "stdout",
     "output_type": "stream",
     "text": [
      "Clearing existing...\n",
      "Running UDF...\n"
     ]
    },
    {
     "name": "stderr",
     "output_type": "stream",
     "text": [
      "100%|██████████| 17138/17138 [04:58<00:00, 57.48it/s]\n"
     ]
    }
   ],
   "source": [
    "from snorkel.annotations import load_gold_labels\n",
    "\n",
    "L_dev = labeler.apply_existing(split=1)\n",
    "L_test = labeler.apply_existing(split=2)\n",
    "L_gold_dev = load_gold_labels(session, annotator_name='gold',split=1)\n",
    "L_gold_test = load_gold_labels(session, annotator_name='gold', split=2)\n"
   ]
  },
  {
   "cell_type": "code",
   "execution_count": null,
   "metadata": {},
   "outputs": [],
   "source": [
    "#from snorkel.learning import GenerativeModel\n",
    "#from snorkel.learning import RandomSearch\n",
    "#from snorkel.learning.structure import DependencySelector\n",
    "\n",
    "\n",
    "#MAX_DEPS = 5\n",
    "\n",
    "#ds = DependencySelector()\n",
    "#deps = ds.select(L_train, threshold=0.1)\n",
    "#deps = set(list(deps)[0:min(len(deps), MAX_DEPS)])\n",
    "\n",
    "#print(\"Using {} dependencies\".format(len(deps)))\n",
    "\n",
    "\n",
    "\n",
    "# use random search to optimize the generative model\n",
    "#param_grid = {\n",
    "#    'step_size' : [1e-3, 1e-4, 1e-5, 1e-6],\n",
    "#    'decay'     : [0.9, 0.95],\n",
    "#    'epochs'    : [50,100,150],\n",
    "#    'reg_param' : [1e-3],\n",
    "#}\n",
    "\n",
    "#model_class_params = {'lf_propensity' : False }#, 'deps': deps}\n",
    "\n",
    "#searcher = RandomSearch(GenerativeModel, param_grid, L_train, n=10, model_class_params=model_class_params)\n",
    "#%time gen_model, run_stats = searcher.fit(L_dev, L_gold_dev) #, deps=deps)\n",
    "#run_stats\n",
    "\n"
   ]
  },
  {
   "cell_type": "code",
   "execution_count": 18,
   "metadata": {},
   "outputs": [],
   "source": [
    "train_marginals = gen_model.marginals(L_train)"
   ]
  },
  {
   "cell_type": "code",
   "execution_count": 19,
   "metadata": {},
   "outputs": [
    {
     "data": {
      "image/png": "[encoded data removed]",
      "text/plain": [
       "<Figure size 432x288 with 1 Axes>"
      ]
     },
     "metadata": {
      "needs_background": "light"
     },
     "output_type": "display_data"
    }
   ],
   "source": [
    "import matplotlib.pyplot as plt\n",
    "plt.hist(train_marginals, bins=20)\n",
    "plt.show()"
   ]
  },
  {
   "cell_type": "code",
   "execution_count": 20,
   "metadata": {},
   "outputs": [
    {
     "name": "stdout",
     "output_type": "stream",
     "text": [
      "========================================\n",
      "Scores (Un-adjusted)\n",
      "========================================\n",
      "Pos. class accuracy: 1.0\n",
      "Neg. class accuracy: 1.0\n",
      "Precision            1.0\n",
      "Recall               1.0\n",
      "F1                   1.0\n",
      "----------------------------------------\n",
      "TP: 1520 | FP: 0 | TN: 15445 | FN: 0\n",
      "========================================\n",
      "\n",
      "Saved 17935 marginals\n",
      "CPU times: user 15 s, sys: 1.04 s, total: 16 s\n",
      "Wall time: 22.6 s\n"
     ]
    }
   ],
   "source": [
    "from snorkel.annotations import save_marginals\n",
    "\n",
    "dev_marginals = gen_model.marginals(L_dev)\n",
    "_, _, _, _ = gen_model.error_analysis(session, L_dev, L_gold_dev)\n",
    "\n",
    "%time save_marginals(session, L_train, train_marginals)"
   ]
  },
  {
   "cell_type": "code",
   "execution_count": 21,
   "metadata": {},
   "outputs": [
    {
     "name": "stdout",
     "output_type": "stream",
     "text": [
      "========================================\n",
      "Scores (Un-adjusted)\n",
      "========================================\n",
      "Pos. class accuracy: 1.0\n",
      "Neg. class accuracy: 1.0\n",
      "Precision            1.0\n",
      "Recall               1.0\n",
      "F1                   1.0\n",
      "----------------------------------------\n",
      "TP: 1640 | FP: 0 | TN: 15498 | FN: 0\n",
      "========================================\n",
      "\n"
     ]
    }
   ],
   "source": [
    "tp, fp, tn, fn = gen_model.error_analysis(session, L_test, L_gold_test)"
   ]
  },
  {
   "cell_type": "code",
   "execution_count": 22,
   "metadata": {},
   "outputs": [
    {
     "name": "stdout",
     "output_type": "stream",
     "text": [
      "Load all ChemicalGeneInhibition candidates from db...\n",
      "17935 16965 17138\n",
      "Amount of all candidates: 52038\n"
     ]
    }
   ],
   "source": [
    "print(\"Load all ChemicalGeneInhibition candidates from db...\")\n",
    "train_cands = session.query(ChemicalGeneInhibition).filter(ChemicalGeneInhibition.split == 0).order_by(ChemicalGeneInhibition.id).all()\n",
    "dev_cands   = session.query(ChemicalGeneInhibition).filter(ChemicalGeneInhibition.split == 1).order_by(ChemicalGeneInhibition.id).all()\n",
    "test_cands  = session.query(ChemicalGeneInhibition).filter(ChemicalGeneInhibition.split == 2).order_by(ChemicalGeneInhibition.id).all()\n",
    "\n",
    "\n",
    "all_cands = []\n",
    "all_cands.extend(train_cands)\n",
    "all_cands.extend(dev_cands)\n",
    "all_cands.extend(test_cands)\n",
    "\n",
    "\n",
    "print(\"{} {} {}\".format(len(train_cands), len(dev_cands), len(test_cands)))\n",
    "print(\"Amount of all candidates: {}\".format(len(all_cands)))"
   ]
  },
  {
   "cell_type": "code",
   "execution_count": null,
   "metadata": {},
   "outputs": [
    {
     "name": "stdout",
     "output_type": "stream",
     "text": [
      "[LSTM] Training model\n",
      "[LSTM] n_train=17935  #epochs=100  batch size=64\n"
     ]
    },
    {
     "name": "stderr",
     "output_type": "stream",
     "text": [
      "/home/kroll/.conda/envs/snorkel/lib/python3.6/site-packages/torch/nn/functional.py:1332: UserWarning: nn.functional.sigmoid is deprecated. Use torch.sigmoid instead.\n",
      "  warnings.warn(\"nn.functional.sigmoid is deprecated. Use torch.sigmoid instead.\")\n"
     ]
    },
    {
     "name": "stdout",
     "output_type": "stream",
     "text": [
      "[LSTM] Epoch 1 (162.53s)\tAverage loss=0.303900\tDev F1=0.00\n",
      "[LSTM] Epoch 2 (366.40s)\tAverage loss=0.230644\tDev F1=8.91\n",
      "[LSTM] Epoch 3 (569.64s)\tAverage loss=0.188496\tDev F1=8.13\n",
      "[LSTM] Epoch 4 (775.78s)\tAverage loss=0.163094\tDev F1=12.07\n",
      "[LSTM] Epoch 7 (1400.75s)\tAverage loss=0.127218\tDev F1=17.41\n",
      "[LSTM] Epoch 9 (1847.46s)\tAverage loss=0.111003\tDev F1=31.53\n"
     ]
    }
   ],
   "source": [
    "from snorkel.learning.pytorch import LSTM\n",
    "from snorkel.annotations import load_gold_labels\n",
    "\n",
    "train_kwargs = {\n",
    "    'lr':            0.0010,\n",
    "    'embedding_dim': 50,\n",
    "    'hidden_dim':    50,\n",
    "    'n_epochs':      100,\n",
    "    'dropout':       0.25,\n",
    "    'rebalance':     0.0,\n",
    "    'seed':          1701\n",
    "}\n",
    "\n",
    "lstm = LSTM(n_threads=10)\n",
    "lstm.train(train_cands, train_marginals, X_dev=dev_cands, Y_dev=L_gold_dev, **train_kwargs)"
   ]
  },
  {
   "cell_type": "code",
   "execution_count": 29,
   "metadata": {},
   "outputs": [
    {
     "name": "stdout",
     "output_type": "stream",
     "text": [
      "Prec: 0.440, Recall: 0.336, F1 Score: 0.381\n"
     ]
    }
   ],
   "source": [
    "\n",
    "p, r, f1 = lstm.score(test_cands, L_gold_test)\n",
    "print(\"Prec: {0:.3f}, Recall: {1:.3f}, F1 Score: {2:.3f}\".format(p, r, f1))"
   ]
  },
  {
   "cell_type": "code",
   "execution_count": 30,
   "metadata": {
    "scrolled": true
   },
   "outputs": [
    {
     "name": "stdout",
     "output_type": "stream",
     "text": [
      "========================================\n",
      "Scores (Un-adjusted)\n",
      "========================================\n",
      "Pos. class accuracy: 0.336\n",
      "Neg. class accuracy: 0.955\n",
      "Precision            0.44\n",
      "Recall               0.336\n",
      "F1                   0.381\n",
      "----------------------------------------\n",
      "TP: 551 | FP: 701 | TN: 14797 | FN: 1089\n",
      "========================================\n",
      "\n"
     ]
    }
   ],
   "source": [
    "tp, fp, tn, fn = lstm.error_analysis(session, test_cands, L_gold_test)"
   ]
  },
  {
   "cell_type": "code",
   "execution_count": 31,
   "metadata": {},
   "outputs": [
    {
     "name": "stdout",
     "output_type": "stream",
     "text": [
      "Saved 52038 marginals\n"
     ]
    }
   ],
   "source": [
    "lstm.save_marginals(session, all_cands)"
   ]
  },
  {
   "cell_type": "code",
   "execution_count": null,
   "metadata": {},
   "outputs": [],
   "source": [
    "from snorkel.models.candidate import Marginal\n",
    "from snorkel.models import Document, Sentence\n",
    "\n",
    "\n",
    "print(\"Storing candidate labels into result file...\")\n",
    "amount_of_candidates = session.query(Candidate).count()\n",
    "print(\"Amount of candidates: {}\".format(amount_of_candidates))\n",
    "\n",
    "all_sents = []\n",
    "all_sents.extend(train_sent)\n",
    "all_sents.extend(dev_sent)\n",
    "all_sents.extend(test_sent)\n"
   ]
  },
  {
   "cell_type": "code",
   "execution_count": null,
   "metadata": {},
   "outputs": [],
   "source": [
    "header_str = '{}\\t{}\\t{}\\t{}\\t{}\\t{}\\t{}'.format('sentence_id', 'cand_id', 'chemical_cid', 'chemical_span','gene_cid', 'gene_span', 'sentence')\n",
    "%time KSUtils.save_binary_relation_confusion_matrix_as_tsv('results/chemical_gene_inhibition.tsv', session, all_cands, all_sents, header_str, 'chemical_cid', 'gene_cid')"
   ]
  },
  {
   "cell_type": "code",
   "execution_count": null,
   "metadata": {},
   "outputs": [],
   "source": [
    "header_str = '{}\\t{}\\t{}\\t{}\\t{}\\t{}\\t{}'.format('document_id', 'sentence_id', 'cand_id','gene_cid', 'gene_span','chemical_cid', 'chemical_span')\n",
    "%time KSUtils.save_binary_relation_as_tsv('results/chemical_gene_inhibition.tsv', session, all_cands, all_sents, header_str,'chemical_cid', 'gene_cid')"
   ]
  },
  {
   "cell_type": "code",
   "execution_count": null,
   "metadata": {},
   "outputs": [],
   "source": [
    "lstm.save(\"chemical_gene_inhibition.lstm\")"
   ]
  }
 ],
 "metadata": {
  "kernelspec": {
   "display_name": "Python (snorkel)",
   "language": "python",
   "name": "snorkel"
  },
  "language_info": {
   "codemirror_mode": {
    "name": "ipython",
    "version": 3
   },
   "file_extension": ".py",
   "mimetype": "text/x-python",
   "name": "python",
   "nbconvert_exporter": "python",
   "pygments_lexer": "ipython3",
   "version": "3.6.7"
  }
 },
 "nbformat": 4,
 "nbformat_minor": 2
}
