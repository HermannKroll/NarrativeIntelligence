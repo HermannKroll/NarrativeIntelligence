{
 "cells": [
  {
   "cell_type": "code",
   "execution_count": 1,
   "metadata": {},
   "outputs": [],
   "source": [
    "import os\n",
    "\n",
    "os.environ['SNORKELDB'] = \"postgresql://localhost:5432/snorkel?user=snorkel&password=snorkel12345\""
   ]
  },
  {
   "cell_type": "code",
   "execution_count": 2,
   "metadata": {},
   "outputs": [],
   "source": [
    "%load_ext autoreload\n",
    "%autoreload 2\n",
    "%matplotlib inline\n",
    "\n",
    "from snorkel import SnorkelSession\n",
    "\n",
    "session = SnorkelSession()"
   ]
  },
  {
   "cell_type": "code",
   "execution_count": 3,
   "metadata": {},
   "outputs": [
    {
     "name": "stdout",
     "output_type": "stream",
     "text": [
      "Amount of docs: 9738\n",
      "Document splitted: 3246 train, 3246 dev and 3246 test\n",
      "Amount of sentences: 33895 train, 34340 dev and 34326 test\n"
     ]
    }
   ],
   "source": [
    "from ksnorkel import KSUtils\n",
    "\n",
    "train_sent, dev_sent, test_sent = KSUtils.split_sentences(session)\n",
    "print(\"Amount of sentences: {} train, {} dev and {} test\".format(len(train_sent), len(dev_sent), len(test_sent)))"
   ]
  },
  {
   "cell_type": "code",
   "execution_count": 4,
   "metadata": {},
   "outputs": [],
   "source": [
    "from snorkel.models import Candidate, candidate_subclass\n",
    "from snorkel.candidates import PretaggedCandidateExtractor\n",
    "\n",
    "ChemicalGeneInhibition = candidate_subclass('ChemicalGeneInhibition', ['chemical', 'gene'])\n"
   ]
  },
  {
   "cell_type": "code",
   "execution_count": null,
   "metadata": {},
   "outputs": [],
   "source": [
    "from snorkel.models import Candidate, candidate_subclass\n",
    "from snorkel.candidates import PretaggedCandidateExtractor\n",
    "\n",
    "ChemicalGeneInhibition = candidate_subclass('ChemicalGeneInhibition', ['chemical', 'gene'])\n",
    "candidate_gene_chemical_inhibit_extractor = PretaggedCandidateExtractor(ChemicalGeneInhibition, ['Chemical', 'Gene'])\n",
    "\n",
    "\n",
    "for k, sents in enumerate([train_sent, dev_sent, test_sent]):\n",
    "    candidate_gene_chemical_inhibit_extractor.apply(sents, split=k, clear=True)\n",
    "    print(\"Number of candidates:\", session.query(ChemicalGeneInhibition).filter(ChemicalGeneInhibition.split == k).count())"
   ]
  },
  {
   "cell_type": "code",
   "execution_count": null,
   "metadata": {},
   "outputs": [],
   "source": [
    "import gzip\n",
    "import re\n",
    "\n",
    "ctd_chem_gene_inhib = set()\n",
    "i = 0\n",
    "with gzip.open('data/CTD_chem_gene_ixns.tsv.gz','r') as f:\n",
    "    for l in f:\n",
    "        line = str(l).replace('b\\'', '').replace('\\\\n\\'', '').replace('\\\\r','')\n",
    "        # skip comments\n",
    "        if line.startswith('#'):\n",
    "            continue\n",
    "        #print(line)\n",
    "        components = line.split('\\\\t')    \n",
    "        \n",
    "        # add MESH:\n",
    "        if not components[1].startswith('MESH:'):\n",
    "            components[1] = \"MESH:\" + components[1]\n",
    "            \n",
    "        desc = components[8].lower()\n",
    "        if 'inhibit' not in desc:\n",
    "            continue\n",
    "        descTyp = components[9]\n",
    "        if 'decreases' not in descTyp:\n",
    "            continue\n",
    "        \n",
    "        che_name = components[0].replace('b\\\"','').replace('(','\\(').replace(')','\\)').lower()\n",
    "        regex = '{}[^\\]\\[]+inhibit'.format(che_name)\n",
    "        regex2 = '{}[^\\]\\[]+decreased activity'.format(che_name)\n",
    "        if re.search(regex, desc) == None and re.search(regex2, desc) == None:\n",
    "            #print(components[0])\n",
    "            #print(desc)\n",
    "            #print()\n",
    "            continue\n",
    "        \n",
    "        chemical = components[1]\n",
    "        gene = components[4]\n",
    "        key = frozenset((chemical, gene))\n",
    "        ctd_chem_gene_inhib.add(key)\n",
    "        i += 1\n",
    "\n",
    "    \n",
    "print('{} chemical-gene assocations read from ChG-CTD_chem_gene_ixns'.format(len(ctd_chem_gene_inhib)))\n",
    "#240349\n",
    "def cand_in_chemical_gene_inhibitions(c):\n",
    "    key = frozenset((c.chemical_cid, c.gene_cid))\n",
    "    if key in ctd_chem_gene_inhib:\n",
    "    #    print(key)\n",
    "        return 1\n",
    "    return -1"
   ]
  },
  {
   "cell_type": "code",
   "execution_count": null,
   "metadata": {},
   "outputs": [],
   "source": [
    "from ksnorkel import KSUtils\n",
    "\n",
    "KSUtils.add_gold_labels_for_candidates(session, ChemicalGeneInhibition, cand_in_chemical_gene_inhibitions)"
   ]
  },
  {
   "cell_type": "code",
   "execution_count": 5,
   "metadata": {},
   "outputs": [],
   "source": [
    "import re\n",
    "from snorkel.lf_helpers import (\n",
    "    get_tagged_text,\n",
    "    rule_regex_search_tagged_text,\n",
    "    rule_regex_search_btw_AB,\n",
    "    rule_regex_search_btw_BA,\n",
    "    rule_regex_search_before_A,\n",
    "    rule_regex_search_before_B\n",
    ")\n",
    "\n",
    "\n",
    "\n",
    "\n",
    "# List to parenthetical\n",
    "def ltp(x):\n",
    "    return '(' + '|'.join(x) + ')'\n",
    "\n",
    "\n",
    "\n",
    "inhibition_samples = [\"inhibitor\", \"inhibition\", \"auto-inhibition\", 'inhibitory', 'suppression']\n",
    "\n",
    "\n",
    "def LF_CG_AB_before_inhibition(c):\n",
    "    return 1 if (re.search(r'{{A}}.{0,100}' + '{{B}}.{0,100}' + 'inhibition' , get_tagged_text(c), re.I) or\n",
    "                re.search(r'{{B}}.{0,100}' + '{{A}}.{0,100}' + 'inhibition' , get_tagged_text(c), re.I)) else 0\n",
    "\n",
    "\n",
    "def LF_CG_A_supressive_effect_B(c):\n",
    "    return 1 if  re.search(r'{{A}}.{0,100} supressive'+ '.{0,100} effect .{0,100}' + '{{A}}' , get_tagged_text(c), re.I) else 0\n",
    "\n",
    "\n",
    "def LF_CG_AB_after_inhibition(c):\n",
    "    return 1 if (rule_regex_search_before_A(c,  ltp(inhibition_samples) + '.{0,100}', 1) and\n",
    "                  rule_regex_search_before_B(c, ltp(inhibition_samples) + '.{0,100}', 1)) else 0\n",
    "\n",
    "def LF_CG_A_inhibition_B_far(c):\n",
    "    return rule_regex_search_btw_AB(c, '.{100,500}' + ltp(inhibition_samples) + '.{100,500}', -1) \n",
    "\n",
    "def LF_CG_B_inhibition_A_far(c):\n",
    "    return rule_regex_search_btw_BA(c, '.{100,500}' + ltp(inhibition_samples) + '.{100,500}', -1)\n",
    "\n",
    "def LF_CG_A_inhibition_B(c):\n",
    "    return rule_regex_search_btw_AB(c, '.{0,100}' + ltp(inhibition_samples) + '.{0,100}', 1) \n",
    "\n",
    "def LF_CG_B_inhibition_A(c):\n",
    "    return rule_regex_search_btw_BA(c, '.{0,100}' + ltp(inhibition_samples) + '.{0,100}', 1)\n",
    "\n",
    "def LG_CG_inhibition_before_B_near(c):\n",
    "    return rule_regex_search_before_B(c, ltp(inhibition_samples) + '.{0,100}', 1)\n",
    " \n",
    "def LG_CG_inhibition_before_B_far(c):\n",
    "    return rule_regex_search_before_B(c, ltp(inhibition_samples) + '.{100,2000}', -1)\n",
    "\n",
    "\n",
    "inhibits_samples = [\"inhibit\", 'decrease', 'degrees', 'suppress', 'alleviate', 'reduce']\n",
    "\n",
    "def LF_CG_A_inhibitis_B(c):\n",
    "    return rule_regex_search_btw_AB(c, '.{0,100}' + ltp(inhibits_samples) + '.{0,100}', 1) \n",
    "\n",
    "def LF_CG_A_inhibitis_B_close(c):\n",
    "    return rule_regex_search_btw_AB(c, '.{0,50}' + ltp(inhibits_samples) + '.{0,50}', 1) \n",
    "\n",
    "\n",
    "not_samples = ['no', 'not']\n",
    "\n",
    "def LF_CG_A_not_inhibitis_B(c):\n",
    "    return rule_regex_search_btw_AB(c, '.{0,100}' + ltp(not_samples) + '.{0,100}' + ltp(inhibits_samples) + '.{0,100}', -1) \n",
    "\n",
    "\n",
    "inhibited_samples = [\"inhibited\", 'decreased', 'degreesed', 'suppressed', 'alleviated', 'reduced']\n",
    "\n",
    "def LF_CG_B_inhibited_A(c):\n",
    "    return rule_regex_search_btw_BA(c, '.{0,100}' + ltp(inhibited_samples) + '.{0,100}', 1) \n",
    "\n",
    "\n",
    "inhib_all_words = []\n",
    "inhib_all_words.extend(inhibition_samples)\n",
    "inhib_all_words.extend(inhibits_samples)\n",
    "\n",
    "def LF_CG_no_inhibition(c):\n",
    "    return -1 if not re.search(r'' + ltp(inhib_all_words)  , get_tagged_text(c), re.I) else 0\n",
    "\n",
    "metabol_samples = ['metabol', 'increase', 'stimulate', 'stimulating']\n",
    "\n",
    "def LF_CG_A_metabol_B_in_sent(c):\n",
    "    return rule_regex_search_btw_AB(c, '.{0,100}' + ltp(metabol_samples) + '.{0,100}', -1) \n",
    "\n",
    "def LF_CG_B_metabol_A_in_sent(c):\n",
    "    return rule_regex_search_btw_AB(c, '.{0,100}' + ltp(metabol_samples) + '.{0,100}', -1) \n",
    "\n",
    "def LF_CG_metabol_in_sent(c):\n",
    "    return -1 if re.search(r'' + ltp(metabol_samples)  , get_tagged_text(c), re.I) else 0\n",
    "\n",
    "\n",
    "def LF_closer_chem(c):\n",
    "    # Get distance between chemical and gene\n",
    "    chem_start, chem_end = c.chemical.get_word_start(), c.chemical.get_word_end()\n",
    "    gen_start, gen_end = c.gene.get_word_start(), c.gene.get_word_end()\n",
    "    if gen_start < chem_start:\n",
    "        dist = chem_start - gen_end\n",
    "    else:\n",
    "        dist = gen_start - chem_end\n",
    "    # Try to find chemical closer than @dist/2 in either direction\n",
    "    sent = c.get_parent()\n",
    "    closest_other_chem = float('inf')\n",
    "    for i in range(gen_end, min(len(sent.words), gen_end + dist // 2)):\n",
    "        et, cid = sent.entity_types[i], sent.entity_cids[i]\n",
    "        if et == 'Chemical' and cid != sent.entity_cids[chem_start]:\n",
    "            return -1\n",
    "    for i in range(max(0, gen_start - dist // 2), gen_start):\n",
    "        et, cid = sent.entity_types[i], sent.entity_cids[i]\n",
    "        if et == 'Chemical' and cid != sent.entity_cids[chem_start]:\n",
    "            return -1\n",
    "    return 0\n",
    "\n",
    "\n",
    "def LF_closer_gene(c):\n",
    "    # Get distance between chemical and gene\n",
    "    chem_start, chem_end = c.chemical.get_word_start(), c.chemical.get_word_end()\n",
    "    gen_start, gen_end = c.gene.get_word_start(), c.gene.get_word_end()\n",
    "    if gen_start < chem_start:\n",
    "        dist = chem_start - gen_end\n",
    "    else:\n",
    "        dist = gen_start - chem_end\n",
    "    # Try to find gene closer than @dist/8 in either direction\n",
    "    sent = c.get_parent()\n",
    "    for i in range(chem_end, min(len(sent.words), chem_end + dist // 8)):\n",
    "        et, cid = sent.entity_types[i], sent.entity_cids[i]\n",
    "        if et == 'Gene' and cid != sent.entity_cids[gen_start]:\n",
    "            return -1\n",
    "    for i in range(max(0, chem_start - dist // 8), chem_start):\n",
    "        et, cid = sent.entity_types[i], sent.entity_cids[i]\n",
    "        if et == 'Gene' and cid != sent.entity_cids[gen_start]:\n",
    "            return -1\n",
    "    return 0\n",
    "\n",
    "                \n",
    "\n",
    "def LF_CG_metabol_between(c):\n",
    "    # Get distance between chemical and disease\n",
    "    chem_start, chem_end = c.chemical.get_word_start(), c.chemical.get_word_end()\n",
    "    dis_start, dis_end = c.gene.get_word_start(), c.gene.get_word_end()\n",
    "    if dis_start < chem_start:\n",
    "        dist = chem_start - dis_end\n",
    "    else:\n",
    "        dist = dis_start - chem_end\n",
    "    # Try to find metabol closer than @dist/2 in either direction\n",
    "    sent = c.get_parent()\n",
    "    closest_other_chem = float('inf')\n",
    "    for i in range(dis_end, min(len(sent.words), dis_end + dist // 2)):\n",
    "        if re.search(r'' + ltp(metabol_samples), sent.words[i], re.I):\n",
    "            return -1\n",
    "    for i in range(max(0, dis_start - dist // 2), dis_start):\n",
    "        if re.search(r'' + ltp(metabol_samples), sent.words[i], re.I):\n",
    "            return -1\n",
    "    return 0\n",
    "\n",
    "\n",
    "\n",
    "\n",
    "def LF_CG_Not(c):\n",
    "    if LF_CG_B_inhibited_A(c) or LF_CG_A_inhibitis_B(c) or LG_CG_inhibition_before_B_near(c):\n",
    "        return 0\n",
    "    if LF_CG_B_inhibition_A(c) or LF_CG_A_inhibition_B(c) or LF_CG_AB_after_inhibition(c): \n",
    "        return 0\n",
    "    if LF_CG_AB_before_inhibition(c):\n",
    "        return 0\n",
    "    else:\n",
    "        return -1\n",
    "    \n",
    "def LF_CG_not_inhibited_included(c):\n",
    "    sent = c.get_parent()\n",
    "    if 'inhib' not in get_tagged_text(c):\n",
    "        return -1\n",
    "    return 0\n",
    "\n",
    "def LF_CG_not_inhibited(c):\n",
    "    sent = c.get_parent()\n",
    "    if 'not inhib' not in get_tagged_text(c):\n",
    "        return -1\n",
    "    return 0\n",
    "        \n",
    "def LF_in_CTD_chem_gene(c):\n",
    "    if cand_in_chemical_gene_interactions(c) == 1:\n",
    "        return 1\n",
    "    else:\n",
    "        return 0\n",
    "def LF_in_CTD_chem_gene_with_inhib(c):\n",
    "    sen_text = get_tagged_text(c)\n",
    "    if 'inhib' in sen_text and cand_in_chemical_gene_interactions(c) == 1:\n",
    "        return 1\n",
    "    else:\n",
    "        return -1\n",
    "    \n",
    "LFs_DG = [\n",
    "    LF_CG_AB_before_inhibition,\n",
    "    LF_CG_AB_after_inhibition,\n",
    "    LF_CG_A_supressive_effect_B,\n",
    "    LF_CG_A_inhibition_B_far,\n",
    "    LF_CG_B_inhibition_A_far,\n",
    "    LF_CG_A_inhibition_B,\n",
    "    LF_CG_B_inhibition_A,\n",
    "    LG_CG_inhibition_before_B_near,\n",
    "    LG_CG_inhibition_before_B_far,\n",
    "    LF_CG_A_inhibitis_B,\n",
    "    LF_CG_A_inhibitis_B_close,\n",
    "    LF_CG_A_not_inhibitis_B,\n",
    "    LF_CG_B_inhibited_A,  \n",
    "    LF_CG_no_inhibition,\n",
    "    LF_CG_A_metabol_B_in_sent,\n",
    "    LF_CG_B_metabol_A_in_sent,\n",
    "    LF_CG_metabol_in_sent,\n",
    "    LF_closer_chem,\n",
    "    LF_closer_gene,\n",
    " #   LF_CG_Not,\n",
    "  #  LF_CG_not_inhibited_included,\n",
    "  #  LF_CG_not_inhibited,\n",
    "    LF_CG_metabol_between#,\n",
    "#    LF_in_CTD_chem_gene,\n",
    "#    LF_in_CTD_chem_gene_with_inhib\n",
    "]"
   ]
  },
  {
   "cell_type": "code",
   "execution_count": null,
   "metadata": {},
   "outputs": [],
   "source": [
    "def LF_in_CTD_chem_gene_inhibition(c):\n",
    "    if cand_in_chemical_gene_inhibitions(c) == 1:\n",
    "        return 1\n",
    "    return -1\n",
    "\n",
    "LFs_DG = [\n",
    "    LF_in_CTD_chem_gene_inhibition    \n",
    "]"
   ]
  },
  {
   "cell_type": "code",
   "execution_count": 6,
   "metadata": {},
   "outputs": [
    {
     "name": "stderr",
     "output_type": "stream",
     "text": [
      "\r",
      "  0%|          | 0/18454 [00:00<?, ?it/s]"
     ]
    },
    {
     "name": "stdout",
     "output_type": "stream",
     "text": [
      "Clearing existing...\n",
      "Running UDF...\n"
     ]
    },
    {
     "name": "stderr",
     "output_type": "stream",
     "text": [
      "100%|██████████| 18454/18454 [02:19<00:00, 132.22it/s]\n"
     ]
    },
    {
     "name": "stdout",
     "output_type": "stream",
     "text": [
      "CPU times: user 32.1 s, sys: 3.81 s, total: 35.9 s\n",
      "Wall time: 2min 19s\n"
     ]
    },
    {
     "data": {
      "text/plain": [
       "<18454x19 sparse matrix of type '<class 'numpy.int64'>'\n",
       "\twith 28615 stored elements in Compressed Sparse Row format>"
      ]
     },
     "execution_count": 6,
     "metadata": {},
     "output_type": "execute_result"
    }
   ],
   "source": [
    "from snorkel.annotations import LabelAnnotator\n",
    "labeler = LabelAnnotator(lfs=LFs_DG)\n",
    "%time L_train = labeler.apply(lfs=LFs_DG, parallelism=10)\n",
    "L_train\n"
   ]
  },
  {
   "cell_type": "code",
   "execution_count": 7,
   "metadata": {},
   "outputs": [
    {
     "data": {
      "text/html": [
       "<div>\n",
       "<style scoped>\n",
       "    .dataframe tbody tr th:only-of-type {\n",
       "        vertical-align: middle;\n",
       "    }\n",
       "\n",
       "    .dataframe tbody tr th {\n",
       "        vertical-align: top;\n",
       "    }\n",
       "\n",
       "    .dataframe thead th {\n",
       "        text-align: right;\n",
       "    }\n",
       "</style>\n",
       "<table border=\"1\" class=\"dataframe\">\n",
       "  <thead>\n",
       "    <tr style=\"text-align: right;\">\n",
       "      <th></th>\n",
       "      <th>j</th>\n",
       "      <th>Coverage</th>\n",
       "      <th>Overlaps</th>\n",
       "      <th>Conflicts</th>\n",
       "    </tr>\n",
       "  </thead>\n",
       "  <tbody>\n",
       "    <tr>\n",
       "      <th>LF_CG_AB_before_inhibition</th>\n",
       "      <td>0</td>\n",
       "      <td>0.010946</td>\n",
       "      <td>0.006286</td>\n",
       "      <td>0.004335</td>\n",
       "    </tr>\n",
       "    <tr>\n",
       "      <th>LF_CG_AB_after_inhibition</th>\n",
       "      <td>1</td>\n",
       "      <td>0.000000</td>\n",
       "      <td>0.000000</td>\n",
       "      <td>0.000000</td>\n",
       "    </tr>\n",
       "    <tr>\n",
       "      <th>LF_CG_A_supressive_effect_B</th>\n",
       "      <td>2</td>\n",
       "      <td>0.000000</td>\n",
       "      <td>0.000000</td>\n",
       "      <td>0.000000</td>\n",
       "    </tr>\n",
       "    <tr>\n",
       "      <th>LF_CG_A_inhibition_B_far</th>\n",
       "      <td>3</td>\n",
       "      <td>0.001897</td>\n",
       "      <td>0.001842</td>\n",
       "      <td>0.000000</td>\n",
       "    </tr>\n",
       "    <tr>\n",
       "      <th>LF_CG_B_inhibition_A_far</th>\n",
       "      <td>4</td>\n",
       "      <td>0.003631</td>\n",
       "      <td>0.003468</td>\n",
       "      <td>0.002384</td>\n",
       "    </tr>\n",
       "    <tr>\n",
       "      <th>LF_CG_A_inhibition_B</th>\n",
       "      <td>5</td>\n",
       "      <td>0.032026</td>\n",
       "      <td>0.031917</td>\n",
       "      <td>0.014794</td>\n",
       "    </tr>\n",
       "    <tr>\n",
       "      <th>LF_CG_B_inhibition_A</th>\n",
       "      <td>6</td>\n",
       "      <td>0.029750</td>\n",
       "      <td>0.014739</td>\n",
       "      <td>0.012789</td>\n",
       "    </tr>\n",
       "    <tr>\n",
       "      <th>LG_CG_inhibition_before_B_near</th>\n",
       "      <td>7</td>\n",
       "      <td>0.024818</td>\n",
       "      <td>0.016419</td>\n",
       "      <td>0.014577</td>\n",
       "    </tr>\n",
       "    <tr>\n",
       "      <th>LG_CG_inhibition_before_B_far</th>\n",
       "      <td>8</td>\n",
       "      <td>0.005148</td>\n",
       "      <td>0.004064</td>\n",
       "      <td>0.002168</td>\n",
       "    </tr>\n",
       "    <tr>\n",
       "      <th>LF_CG_A_inhibitis_B</th>\n",
       "      <td>9</td>\n",
       "      <td>0.106264</td>\n",
       "      <td>0.059933</td>\n",
       "      <td>0.042051</td>\n",
       "    </tr>\n",
       "    <tr>\n",
       "      <th>LF_CG_A_not_inhibitis_B</th>\n",
       "      <td>10</td>\n",
       "      <td>0.011325</td>\n",
       "      <td>0.009971</td>\n",
       "      <td>0.008779</td>\n",
       "    </tr>\n",
       "    <tr>\n",
       "      <th>LF_CG_B_inhibited_A</th>\n",
       "      <td>11</td>\n",
       "      <td>0.016582</td>\n",
       "      <td>0.008941</td>\n",
       "      <td>0.008399</td>\n",
       "    </tr>\n",
       "    <tr>\n",
       "      <th>LF_CG_no_inhibition</th>\n",
       "      <td>12</td>\n",
       "      <td>0.636718</td>\n",
       "      <td>0.337163</td>\n",
       "      <td>0.000000</td>\n",
       "    </tr>\n",
       "    <tr>\n",
       "      <th>LF_CG_A_metabol_B_in_sent</th>\n",
       "      <td>13</td>\n",
       "      <td>0.042918</td>\n",
       "      <td>0.042918</td>\n",
       "      <td>0.005636</td>\n",
       "    </tr>\n",
       "    <tr>\n",
       "      <th>LF_CG_B_metabol_A_in_sent</th>\n",
       "      <td>14</td>\n",
       "      <td>0.042918</td>\n",
       "      <td>0.042918</td>\n",
       "      <td>0.005636</td>\n",
       "    </tr>\n",
       "    <tr>\n",
       "      <th>LF_CG_metabol_in_sent</th>\n",
       "      <td>15</td>\n",
       "      <td>0.176764</td>\n",
       "      <td>0.152921</td>\n",
       "      <td>0.034247</td>\n",
       "    </tr>\n",
       "    <tr>\n",
       "      <th>LF_closer_chem</th>\n",
       "      <td>16</td>\n",
       "      <td>0.356183</td>\n",
       "      <td>0.327734</td>\n",
       "      <td>0.044272</td>\n",
       "    </tr>\n",
       "    <tr>\n",
       "      <th>LF_closer_gene</th>\n",
       "      <td>17</td>\n",
       "      <td>0.031321</td>\n",
       "      <td>0.029695</td>\n",
       "      <td>0.002709</td>\n",
       "    </tr>\n",
       "    <tr>\n",
       "      <th>LF_CG_metabol_between</th>\n",
       "      <td>18</td>\n",
       "      <td>0.021405</td>\n",
       "      <td>0.021405</td>\n",
       "      <td>0.004335</td>\n",
       "    </tr>\n",
       "  </tbody>\n",
       "</table>\n",
       "</div>"
      ],
      "text/plain": [
       "                                 j  Coverage  Overlaps  Conflicts\n",
       "LF_CG_AB_before_inhibition       0  0.010946  0.006286   0.004335\n",
       "LF_CG_AB_after_inhibition        1  0.000000  0.000000   0.000000\n",
       "LF_CG_A_supressive_effect_B      2  0.000000  0.000000   0.000000\n",
       "LF_CG_A_inhibition_B_far         3  0.001897  0.001842   0.000000\n",
       "LF_CG_B_inhibition_A_far         4  0.003631  0.003468   0.002384\n",
       "LF_CG_A_inhibition_B             5  0.032026  0.031917   0.014794\n",
       "LF_CG_B_inhibition_A             6  0.029750  0.014739   0.012789\n",
       "LG_CG_inhibition_before_B_near   7  0.024818  0.016419   0.014577\n",
       "LG_CG_inhibition_before_B_far    8  0.005148  0.004064   0.002168\n",
       "LF_CG_A_inhibitis_B              9  0.106264  0.059933   0.042051\n",
       "LF_CG_A_not_inhibitis_B         10  0.011325  0.009971   0.008779\n",
       "LF_CG_B_inhibited_A             11  0.016582  0.008941   0.008399\n",
       "LF_CG_no_inhibition             12  0.636718  0.337163   0.000000\n",
       "LF_CG_A_metabol_B_in_sent       13  0.042918  0.042918   0.005636\n",
       "LF_CG_B_metabol_A_in_sent       14  0.042918  0.042918   0.005636\n",
       "LF_CG_metabol_in_sent           15  0.176764  0.152921   0.034247\n",
       "LF_closer_chem                  16  0.356183  0.327734   0.044272\n",
       "LF_closer_gene                  17  0.031321  0.029695   0.002709\n",
       "LF_CG_metabol_between           18  0.021405  0.021405   0.004335"
      ]
     },
     "execution_count": 7,
     "metadata": {},
     "output_type": "execute_result"
    }
   ],
   "source": [
    "L_train.lf_stats(session)"
   ]
  },
  {
   "cell_type": "code",
   "execution_count": 8,
   "metadata": {},
   "outputs": [
    {
     "name": "stdout",
     "output_type": "stream",
     "text": [
      "Inferred cardinality: 2\n"
     ]
    }
   ],
   "source": [
    "from snorkel.learning import GenerativeModel\n",
    "\n",
    "gen_model = GenerativeModel()\n",
    "gen_model.train(L_train, epochs=100, decay=0.95, step_size=0.1 / L_train.shape[0], reg_param=1e-6)\n",
    "\n",
    "train_marginals = gen_model.marginals(L_train)"
   ]
  },
  {
   "cell_type": "code",
   "execution_count": 9,
   "metadata": {},
   "outputs": [
    {
     "data": {
      "image/png": "[encoded data removed]",
      "text/plain": [
       "<Figure size 432x288 with 1 Axes>"
      ]
     },
     "metadata": {
      "needs_background": "light"
     },
     "output_type": "display_data"
    }
   ],
   "source": [
    "import matplotlib.pyplot as plt\n",
    "plt.hist(train_marginals, bins=20)\n",
    "plt.show()"
   ]
  },
  {
   "cell_type": "code",
   "execution_count": 11,
   "metadata": {},
   "outputs": [
    {
     "name": "stderr",
     "output_type": "stream",
     "text": [
      "  0%|          | 3/16703 [00:00<10:20, 26.92it/s]"
     ]
    },
    {
     "name": "stdout",
     "output_type": "stream",
     "text": [
      "Clearing existing...\n",
      "Running UDF...\n"
     ]
    },
    {
     "name": "stderr",
     "output_type": "stream",
     "text": [
      "100%|██████████| 16703/16703 [03:14<00:00, 86.08it/s] \n",
      "  0%|          | 5/16881 [00:00<06:10, 45.50it/s]"
     ]
    },
    {
     "name": "stdout",
     "output_type": "stream",
     "text": [
      "Clearing existing...\n",
      "Running UDF...\n"
     ]
    },
    {
     "name": "stderr",
     "output_type": "stream",
     "text": [
      "100%|██████████| 16881/16881 [03:09<00:00, 88.97it/s] \n"
     ]
    }
   ],
   "source": [
    "from snorkel.annotations import load_gold_labels\n",
    "\n",
    "L_dev = labeler.apply_existing(split=1)\n",
    "L_test = labeler.apply_existing(split=2)\n",
    "L_gold_dev = load_gold_labels(session, annotator_name='gold',split=1)\n",
    "L_gold_test = load_gold_labels(session, annotator_name='gold', split=2)\n"
   ]
  },
  {
   "cell_type": "code",
   "execution_count": null,
   "metadata": {},
   "outputs": [],
   "source": [
    "from snorkel.learning import GenerativeModel\n",
    "from snorkel.learning import RandomSearch\n",
    "from snorkel.learning.structure import DependencySelector\n",
    "\n",
    "\n",
    "MAX_DEPS = 5\n",
    "\n",
    "ds = DependencySelector()\n",
    "deps = ds.select(L_train, threshold=0.1)\n",
    "deps = set(list(deps)[0:min(len(deps), MAX_DEPS)])\n",
    "\n",
    "print(\"Using {} dependencies\".format(len(deps)))\n",
    "\n",
    "\n",
    "\n",
    "# use random search to optimize the generative model\n",
    "param_grid = {\n",
    "    'step_size' : [1e-3, 1e-4, 1e-5, 1e-6],\n",
    "    'decay'     : [0.9, 0.95],\n",
    "    'epochs'    : [50,100,150],\n",
    "    'reg_param' : [1e-3],\n",
    "}\n",
    "\n",
    "model_class_params = {'lf_propensity' : False }#, 'deps': deps}\n",
    "\n",
    "searcher = RandomSearch(GenerativeModel, param_grid, L_train, n=10, model_class_params=model_class_params)\n",
    "%time gen_model, run_stats = searcher.fit(L_dev, L_gold_dev) #, deps=deps)\n",
    "run_stats\n",
    "\n"
   ]
  },
  {
   "cell_type": "code",
   "execution_count": null,
   "metadata": {},
   "outputs": [],
   "source": [
    "train_marginals = gen_model.marginals(L_train)"
   ]
  },
  {
   "cell_type": "code",
   "execution_count": null,
   "metadata": {},
   "outputs": [],
   "source": [
    "import matplotlib.pyplot as plt\n",
    "plt.hist(train_marginals, bins=20)\n",
    "plt.show()"
   ]
  },
  {
   "cell_type": "code",
   "execution_count": null,
   "metadata": {},
   "outputs": [],
   "source": [
    "from snorkel.annotations import save_marginals\n",
    "\n",
    "dev_marginals = gen_model.marginals(L_dev)\n",
    "_, _, _, _ = gen_model.error_analysis(session, L_dev, L_gold_dev)\n",
    "\n",
    "%time save_marginals(session, L_train, train_marginals)"
   ]
  },
  {
   "cell_type": "code",
   "execution_count": null,
   "metadata": {},
   "outputs": [],
   "source": [
    "tp, fp, tn, fn = gen_model.error_analysis(session, L_test, L_gold_test)"
   ]
  },
  {
   "cell_type": "code",
   "execution_count": 10,
   "metadata": {},
   "outputs": [
    {
     "name": "stdout",
     "output_type": "stream",
     "text": [
      "Load all ChemicalGeneInhibition candidates from db...\n",
      "18454 16703 16881\n",
      "Amount of all candidates: 52038\n"
     ]
    }
   ],
   "source": [
    "print(\"Load all ChemicalGeneInhibition candidates from db...\")\n",
    "train_cands = session.query(ChemicalGeneInhibition).filter(ChemicalGeneInhibition.split == 0).order_by(ChemicalGeneInhibition.id).all()\n",
    "dev_cands   = session.query(ChemicalGeneInhibition).filter(ChemicalGeneInhibition.split == 1).order_by(ChemicalGeneInhibition.id).all()\n",
    "test_cands  = session.query(ChemicalGeneInhibition).filter(ChemicalGeneInhibition.split == 2).order_by(ChemicalGeneInhibition.id).all()\n",
    "\n",
    "\n",
    "all_cands = []\n",
    "all_cands.extend(train_cands)\n",
    "all_cands.extend(dev_cands)\n",
    "all_cands.extend(test_cands)\n",
    "\n",
    "\n",
    "print(\"{} {} {}\".format(len(train_cands), len(dev_cands), len(test_cands)))\n",
    "print(\"Amount of all candidates: {}\".format(len(all_cands)))"
   ]
  },
  {
   "cell_type": "code",
   "execution_count": 12,
   "metadata": {},
   "outputs": [
    {
     "name": "stdout",
     "output_type": "stream",
     "text": [
      "[LSTM] Training model\n",
      "[LSTM] n_train=16699  #epochs=2  batch size=64\n"
     ]
    },
    {
     "name": "stderr",
     "output_type": "stream",
     "text": [
      "/home/kroll/.conda/envs/snorkel/lib/python3.6/site-packages/torch/nn/functional.py:1332: UserWarning: nn.functional.sigmoid is deprecated. Use torch.sigmoid instead.\n",
      "  warnings.warn(\"nn.functional.sigmoid is deprecated. Use torch.sigmoid instead.\")\n"
     ]
    },
    {
     "name": "stdout",
     "output_type": "stream",
     "text": [
      "[LSTM] Epoch 1 (202.36s)\tAverage loss=0.503977\tDev F1=0.00\n",
      "[LSTM] Epoch 2 (435.53s)\tAverage loss=0.465257\tDev F1=3.98\n",
      "[LSTM] Training done (480.62s)\n"
     ]
    }
   ],
   "source": [
    "from snorkel.learning.pytorch import LSTM\n",
    "from snorkel.annotations import load_gold_labels\n",
    "\n",
    "train_kwargs = {\n",
    "    'lr':            0.0010,\n",
    "    'embedding_dim': 50,\n",
    "    'hidden_dim':    50,\n",
    "    'n_epochs':      2,\n",
    "    'dropout':       0.25,\n",
    "    'rebalance':     0.0,\n",
    "    'seed':          1701\n",
    "}\n",
    "\n",
    "lstm = LSTM(n_threads=10)\n",
    "lstm.train(train_cands, train_marginals, X_dev=dev_cands, Y_dev=L_gold_dev, **train_kwargs)"
   ]
  },
  {
   "cell_type": "code",
   "execution_count": 13,
   "metadata": {},
   "outputs": [
    {
     "name": "stdout",
     "output_type": "stream",
     "text": [
      "Prec: 0.165, Recall: 0.025, F1 Score: 0.043\n"
     ]
    }
   ],
   "source": [
    "\n",
    "p, r, f1 = lstm.score(test_cands, L_gold_test)\n",
    "print(\"Prec: {0:.3f}, Recall: {1:.3f}, F1 Score: {2:.3f}\".format(p, r, f1))"
   ]
  },
  {
   "cell_type": "code",
   "execution_count": 14,
   "metadata": {
    "scrolled": true
   },
   "outputs": [
    {
     "name": "stdout",
     "output_type": "stream",
     "text": [
      "========================================\n",
      "Scores (Un-adjusted)\n",
      "========================================\n",
      "Pos. class accuracy: 0.0246\n",
      "Neg. class accuracy: 0.981\n",
      "Precision            0.165\n",
      "Recall               0.0246\n",
      "F1                   0.0428\n",
      "----------------------------------------\n",
      "TP: 54 | FP: 273 | TN: 14411 | FN: 2143\n",
      "========================================\n",
      "\n"
     ]
    }
   ],
   "source": [
    "tp, fp, tn, fn = lstm.error_analysis(session, test_cands, L_gold_test)"
   ]
  },
  {
   "cell_type": "code",
   "execution_count": 15,
   "metadata": {},
   "outputs": [
    {
     "name": "stdout",
     "output_type": "stream",
     "text": [
      "Saved 52038 marginals\n"
     ]
    }
   ],
   "source": [
    "lstm.save_marginals(session, all_cands)"
   ]
  },
  {
   "cell_type": "code",
   "execution_count": 16,
   "metadata": {},
   "outputs": [
    {
     "name": "stdout",
     "output_type": "stream",
     "text": [
      "Storing candidate labels into result file...\n",
      "Amount of candidates: 52038\n"
     ]
    }
   ],
   "source": [
    "from snorkel.models.candidate import Marginal\n",
    "from snorkel.models import Document, Sentence\n",
    "\n",
    "\n",
    "print(\"Storing candidate labels into result file...\")\n",
    "amount_of_candidates = session.query(Candidate).count()\n",
    "print(\"Amount of candidates: {}\".format(amount_of_candidates))\n",
    "\n",
    "all_sents = []\n",
    "all_sents.extend(train_sent)\n",
    "all_sents.extend(dev_sent)\n",
    "all_sents.extend(test_sent)\n"
   ]
  },
  {
   "cell_type": "code",
   "execution_count": 17,
   "metadata": {},
   "outputs": [
    {
     "name": "stdout",
     "output_type": "stream",
     "text": [
      "Storing candidate labels into result file: results/chemical_gene_inhibition.tsv\n",
      "Amount of candidates: 52038\n",
      "Load mariginals from db...\n",
      "Marginals loaded!\n",
      "Load gold labels from db...\n",
      "Gold labels loaded!\n",
      "Start writing files...\n",
      "Saved 1002 TP, 4733 FP, 40118 TN, 6185 FN facts in files.\n",
      "CPU times: user 1min 57s, sys: 4.86 s, total: 2min 2s\n",
      "Wall time: 2min 32s\n"
     ]
    }
   ],
   "source": [
    "header_str = '{}\\t{}\\t{}\\t{}\\t{}\\t{}\\t{}'.format('sentence_id', 'cand_id', 'chemical_cid', 'chemical_span','gene_cid', 'gene_span', 'sentence')\n",
    "%time KSUtils.save_binary_relation_confusion_matrix_as_tsv('results/chemical_gene_inhibition.tsv', session, all_cands, all_sents, header_str, 'chemical_cid', 'gene_cid')"
   ]
  },
  {
   "cell_type": "code",
   "execution_count": null,
   "metadata": {},
   "outputs": [],
   "source": [
    "header_str = '{}\\t{}\\t{}\\t{}\\t{}\\t{}\\t{}'.format('document_id', 'sentence_id', 'cand_id','gene_cid', 'gene_span','chemical_cid', 'chemical_span')\n",
    "%time KSUtils.save_binary_relation_as_tsv('results/chemical_gene_inhibition.tsv', session, all_cands, all_sents, header_str,'chemical_cid', 'gene_cid')"
   ]
  },
  {
   "cell_type": "code",
   "execution_count": null,
   "metadata": {},
   "outputs": [],
   "source": [
    "from snorkel.models.candidate import Marginal\n",
    "from snorkel.models import Document, Sentence\n",
    "\n",
    "\n",
    "print(\"Storing candidate labels into result file...\")\n",
    "amount_of_candidates = session.query(Candidate).count()\n",
    "print(\"Amount of candidates: {}\".format(amount_of_candidates))\n",
    "\n",
    "result_str = '{}\\t{}\\t{}\\t{}\\t{}\\t{}\\t{}'.format('document_id', 'sentence_id', 'cand_id','chemical_cid', 'chemical_span', 'gene_cid', 'gene_span')\n",
    "#print(result_str)\n",
    "amount_of_true_predicitions = 0\n",
    "with open(\"results/chemical_gene_inhibition.tsv\", 'w') as f:\n",
    "    f.write(result_str)\n",
    "    for cand in all_cands:\n",
    "        prob = session.query(Marginal).filter(Marginal.candidate_id == cand.id).all()[0].probability\n",
    "        if prob >= 0.5:\n",
    "            #print(prob)\n",
    "        #if LF_CG_Combined(cand):\n",
    "            contexts = cand.get_contexts()\n",
    "            \n",
    "            c_cid = cand.chemical_cid\n",
    "            c_context = contexts[0]\n",
    "            c_span = c_context.get_span()\n",
    "            \n",
    "            g_cid = cand.gene_cid\n",
    "            g_context = contexts[1]\n",
    "            g_span = g_context.get_span()\n",
    "            \n",
    "            # we assume both spans to be in the same document\n",
    "            sent_id = g_context.sentence_id\n",
    "            doc_id = session.query(Sentence).filter(Sentence.id == sent_id).all()[0].document_id\n",
    "\n",
    "            result_str = '\\n{}\\t{}\\t{}\\t{}\\t{}\\t{}\\t{}'.format(doc_id, sent_id, cand.id, c_cid, c_span, g_cid, g_span)\n",
    "            #print(result_str)\n",
    "            f.write(result_str)\n",
    "\n",
    "            amount_of_true_predicitions += 1\n",
    "\n",
    "print(\"Saved {} positive predicitions for ChemicalGeneInhibition\".format(amount_of_true_predicitions))\n",
    "print(\"Finished\")"
   ]
  },
  {
   "cell_type": "code",
   "execution_count": 18,
   "metadata": {},
   "outputs": [
    {
     "name": "stdout",
     "output_type": "stream",
     "text": [
      "[LSTM] Model saved as <chemical_gene_inhibition.lstm>\n"
     ]
    }
   ],
   "source": [
    "lstm.save(\"chemical_gene_inhibition.lstm\")"
   ]
  }
 ],
 "metadata": {
  "kernelspec": {
   "display_name": "Python (snorkel)",
   "language": "python",
   "name": "snorkel"
  },
  "language_info": {
   "codemirror_mode": {
    "name": "ipython",
    "version": 3
   },
   "file_extension": ".py",
   "mimetype": "text/x-python",
   "name": "python",
   "nbconvert_exporter": "python",
   "pygments_lexer": "ipython3",
   "version": "3.6.7"
  }
 },
 "nbformat": 4,
 "nbformat_minor": 2
}
